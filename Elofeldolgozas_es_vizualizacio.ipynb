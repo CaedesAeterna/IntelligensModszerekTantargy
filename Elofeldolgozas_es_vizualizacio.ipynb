{
  "nbformat": 4,
  "nbformat_minor": 0,
  "metadata": {
    "colab": {
      "name": "Elofeldolgozas_es_vizualizacio.ipynb",
      "provenance": [],
      "include_colab_link": true
    },
    "kernelspec": {
      "name": "python3",
      "display_name": "Python 3"
    }
  },
  "cells": [
    {
      "cell_type": "markdown",
      "metadata": {
        "id": "view-in-github",
        "colab_type": "text"
      },
      "source": [
        "<a href=\"https://colab.research.google.com/github/CaedesAeterna/IntelligensModszerekTantargy/blob/main/Elofeldolgozas_es_vizualizacio.ipynb\" target=\"_parent\"><img src=\"https://colab.research.google.com/assets/colab-badge.svg\" alt=\"Open In Colab\"/></a>"
      ]
    },
    {
      "cell_type": "code",
      "metadata": {
        "id": "D7InELjanYBR"
      },
      "source": [
        "import matplotlib.pyplot as plt\n",
        "import matplotlib.image as img\n",
        "import pandas as pd\n",
        "import numpy as np\n",
        "import warnings\n",
        "warnings.filterwarnings('ignore')\n",
        "\n",
        "# %matplotlib inline ### most nem kell, de maskor jol johet :-)"
      ],
      "execution_count": 2,
      "outputs": []
    },
    {
      "cell_type": "markdown",
      "metadata": {
        "id": "blil-3X3pmT3"
      },
      "source": [
        "**Adatok betöltése**"
      ]
    },
    {
      "cell_type": "code",
      "metadata": {
        "id": "Qj77JJMepfpz"
      },
      "source": [
        "data = pd.read_csv('http://www.biointelligence.hu/mi/fuel_data_with_errors.txt', header=0, sep='\\t')"
      ],
      "execution_count": 3,
      "outputs": []
    },
    {
      "cell_type": "code",
      "metadata": {
        "id": "vC20r_Vyppvf",
        "colab": {
          "base_uri": "https://localhost:8080/",
          "height": 424
        },
        "outputId": "d00dbcff-13f8-4ea9-ac80-6b30fd734cb2"
      },
      "source": [
        "data"
      ],
      "execution_count": 4,
      "outputs": [
        {
          "output_type": "execute_result",
          "data": {
            "text/plain": [
              "           date starttime endtime  starttemp  endtemp air conditioner  trafic  \\\n",
              "0    2018.06.03     00:03   01:16       17.0     15.0             off     low   \n",
              "1    2018.06.03     08:20   09:29       19.0     24.0             off     low   \n",
              "2    2018.06.03     13:00   15:00       30.0     28.0              on  normal   \n",
              "3    2018.06.04     15:30   16:30       29.0     28.0              on  normal   \n",
              "4    2018.06.04     18:18   19:10       30.0     25.0              on  normal   \n",
              "..          ...       ...     ...        ...      ...             ...     ...   \n",
              "98   2018.09.03     22:00   22:55       21.0     19.0             off  normal   \n",
              "99   2018.09.04     06:42   07:55       16.0     17.0             off  normal   \n",
              "100  2018.09.04     20:00   21:10       17.0     16.0             off     low   \n",
              "101  2018.09.05     08:15   09:25       15.0     20.0             off  normal   \n",
              "102  2018.09.05     20:50   21:52       21.0     19.0             off     low   \n",
              "\n",
              "           route  dist  avg.cons.  speed duration fuel type      road  \\\n",
              "0        bp-dujv  69.8        4.5     57    01:13       95+  standard   \n",
              "1        dujv-bp  68.6        4.6     59    01:09       95+  standard   \n",
              "2        bp-dujv  79.5        6.0     47    01:40       95+  standard   \n",
              "3    dujv-szelid  45.2        4.3     56    00:48       95+  standard   \n",
              "4    szelid-dujv  47.5        4.7     57    00:49       95+  standard   \n",
              "..           ...   ...        ...    ...      ...       ...       ...   \n",
              "98       bp-dujv  68.2        5.3     78    00:52       95+   highway   \n",
              "99       dujv-bp  69.1        4.5     58    01:10       95+   highway   \n",
              "100      bp-dujv  71.6        4.5     65    01:05       95+   highway   \n",
              "101      dujv-bp  71.7        4.7     62    01:09       95+   highway   \n",
              "102      bp-dujv  71.6        4.8     73    00:58       95+   highway   \n",
              "\n",
              "     num. persons  \n",
              "0               1  \n",
              "1               2  \n",
              "2               3  \n",
              "3               1  \n",
              "4               1  \n",
              "..            ...  \n",
              "98              1  \n",
              "99              1  \n",
              "100             1  \n",
              "101             1  \n",
              "102             1  \n",
              "\n",
              "[103 rows x 15 columns]"
            ],
            "text/html": [
              "\n",
              "  <div id=\"df-aa0d4c05-205f-41c8-8eac-50f83506cbfe\" class=\"colab-df-container\">\n",
              "    <div>\n",
              "<style scoped>\n",
              "    .dataframe tbody tr th:only-of-type {\n",
              "        vertical-align: middle;\n",
              "    }\n",
              "\n",
              "    .dataframe tbody tr th {\n",
              "        vertical-align: top;\n",
              "    }\n",
              "\n",
              "    .dataframe thead th {\n",
              "        text-align: right;\n",
              "    }\n",
              "</style>\n",
              "<table border=\"1\" class=\"dataframe\">\n",
              "  <thead>\n",
              "    <tr style=\"text-align: right;\">\n",
              "      <th></th>\n",
              "      <th>date</th>\n",
              "      <th>starttime</th>\n",
              "      <th>endtime</th>\n",
              "      <th>starttemp</th>\n",
              "      <th>endtemp</th>\n",
              "      <th>air conditioner</th>\n",
              "      <th>trafic</th>\n",
              "      <th>route</th>\n",
              "      <th>dist</th>\n",
              "      <th>avg.cons.</th>\n",
              "      <th>speed</th>\n",
              "      <th>duration</th>\n",
              "      <th>fuel type</th>\n",
              "      <th>road</th>\n",
              "      <th>num. persons</th>\n",
              "    </tr>\n",
              "  </thead>\n",
              "  <tbody>\n",
              "    <tr>\n",
              "      <th>0</th>\n",
              "      <td>2018.06.03</td>\n",
              "      <td>00:03</td>\n",
              "      <td>01:16</td>\n",
              "      <td>17.0</td>\n",
              "      <td>15.0</td>\n",
              "      <td>off</td>\n",
              "      <td>low</td>\n",
              "      <td>bp-dujv</td>\n",
              "      <td>69.8</td>\n",
              "      <td>4.5</td>\n",
              "      <td>57</td>\n",
              "      <td>01:13</td>\n",
              "      <td>95+</td>\n",
              "      <td>standard</td>\n",
              "      <td>1</td>\n",
              "    </tr>\n",
              "    <tr>\n",
              "      <th>1</th>\n",
              "      <td>2018.06.03</td>\n",
              "      <td>08:20</td>\n",
              "      <td>09:29</td>\n",
              "      <td>19.0</td>\n",
              "      <td>24.0</td>\n",
              "      <td>off</td>\n",
              "      <td>low</td>\n",
              "      <td>dujv-bp</td>\n",
              "      <td>68.6</td>\n",
              "      <td>4.6</td>\n",
              "      <td>59</td>\n",
              "      <td>01:09</td>\n",
              "      <td>95+</td>\n",
              "      <td>standard</td>\n",
              "      <td>2</td>\n",
              "    </tr>\n",
              "    <tr>\n",
              "      <th>2</th>\n",
              "      <td>2018.06.03</td>\n",
              "      <td>13:00</td>\n",
              "      <td>15:00</td>\n",
              "      <td>30.0</td>\n",
              "      <td>28.0</td>\n",
              "      <td>on</td>\n",
              "      <td>normal</td>\n",
              "      <td>bp-dujv</td>\n",
              "      <td>79.5</td>\n",
              "      <td>6.0</td>\n",
              "      <td>47</td>\n",
              "      <td>01:40</td>\n",
              "      <td>95+</td>\n",
              "      <td>standard</td>\n",
              "      <td>3</td>\n",
              "    </tr>\n",
              "    <tr>\n",
              "      <th>3</th>\n",
              "      <td>2018.06.04</td>\n",
              "      <td>15:30</td>\n",
              "      <td>16:30</td>\n",
              "      <td>29.0</td>\n",
              "      <td>28.0</td>\n",
              "      <td>on</td>\n",
              "      <td>normal</td>\n",
              "      <td>dujv-szelid</td>\n",
              "      <td>45.2</td>\n",
              "      <td>4.3</td>\n",
              "      <td>56</td>\n",
              "      <td>00:48</td>\n",
              "      <td>95+</td>\n",
              "      <td>standard</td>\n",
              "      <td>1</td>\n",
              "    </tr>\n",
              "    <tr>\n",
              "      <th>4</th>\n",
              "      <td>2018.06.04</td>\n",
              "      <td>18:18</td>\n",
              "      <td>19:10</td>\n",
              "      <td>30.0</td>\n",
              "      <td>25.0</td>\n",
              "      <td>on</td>\n",
              "      <td>normal</td>\n",
              "      <td>szelid-dujv</td>\n",
              "      <td>47.5</td>\n",
              "      <td>4.7</td>\n",
              "      <td>57</td>\n",
              "      <td>00:49</td>\n",
              "      <td>95+</td>\n",
              "      <td>standard</td>\n",
              "      <td>1</td>\n",
              "    </tr>\n",
              "    <tr>\n",
              "      <th>...</th>\n",
              "      <td>...</td>\n",
              "      <td>...</td>\n",
              "      <td>...</td>\n",
              "      <td>...</td>\n",
              "      <td>...</td>\n",
              "      <td>...</td>\n",
              "      <td>...</td>\n",
              "      <td>...</td>\n",
              "      <td>...</td>\n",
              "      <td>...</td>\n",
              "      <td>...</td>\n",
              "      <td>...</td>\n",
              "      <td>...</td>\n",
              "      <td>...</td>\n",
              "      <td>...</td>\n",
              "    </tr>\n",
              "    <tr>\n",
              "      <th>98</th>\n",
              "      <td>2018.09.03</td>\n",
              "      <td>22:00</td>\n",
              "      <td>22:55</td>\n",
              "      <td>21.0</td>\n",
              "      <td>19.0</td>\n",
              "      <td>off</td>\n",
              "      <td>normal</td>\n",
              "      <td>bp-dujv</td>\n",
              "      <td>68.2</td>\n",
              "      <td>5.3</td>\n",
              "      <td>78</td>\n",
              "      <td>00:52</td>\n",
              "      <td>95+</td>\n",
              "      <td>highway</td>\n",
              "      <td>1</td>\n",
              "    </tr>\n",
              "    <tr>\n",
              "      <th>99</th>\n",
              "      <td>2018.09.04</td>\n",
              "      <td>06:42</td>\n",
              "      <td>07:55</td>\n",
              "      <td>16.0</td>\n",
              "      <td>17.0</td>\n",
              "      <td>off</td>\n",
              "      <td>normal</td>\n",
              "      <td>dujv-bp</td>\n",
              "      <td>69.1</td>\n",
              "      <td>4.5</td>\n",
              "      <td>58</td>\n",
              "      <td>01:10</td>\n",
              "      <td>95+</td>\n",
              "      <td>highway</td>\n",
              "      <td>1</td>\n",
              "    </tr>\n",
              "    <tr>\n",
              "      <th>100</th>\n",
              "      <td>2018.09.04</td>\n",
              "      <td>20:00</td>\n",
              "      <td>21:10</td>\n",
              "      <td>17.0</td>\n",
              "      <td>16.0</td>\n",
              "      <td>off</td>\n",
              "      <td>low</td>\n",
              "      <td>bp-dujv</td>\n",
              "      <td>71.6</td>\n",
              "      <td>4.5</td>\n",
              "      <td>65</td>\n",
              "      <td>01:05</td>\n",
              "      <td>95+</td>\n",
              "      <td>highway</td>\n",
              "      <td>1</td>\n",
              "    </tr>\n",
              "    <tr>\n",
              "      <th>101</th>\n",
              "      <td>2018.09.05</td>\n",
              "      <td>08:15</td>\n",
              "      <td>09:25</td>\n",
              "      <td>15.0</td>\n",
              "      <td>20.0</td>\n",
              "      <td>off</td>\n",
              "      <td>normal</td>\n",
              "      <td>dujv-bp</td>\n",
              "      <td>71.7</td>\n",
              "      <td>4.7</td>\n",
              "      <td>62</td>\n",
              "      <td>01:09</td>\n",
              "      <td>95+</td>\n",
              "      <td>highway</td>\n",
              "      <td>1</td>\n",
              "    </tr>\n",
              "    <tr>\n",
              "      <th>102</th>\n",
              "      <td>2018.09.05</td>\n",
              "      <td>20:50</td>\n",
              "      <td>21:52</td>\n",
              "      <td>21.0</td>\n",
              "      <td>19.0</td>\n",
              "      <td>off</td>\n",
              "      <td>low</td>\n",
              "      <td>bp-dujv</td>\n",
              "      <td>71.6</td>\n",
              "      <td>4.8</td>\n",
              "      <td>73</td>\n",
              "      <td>00:58</td>\n",
              "      <td>95+</td>\n",
              "      <td>highway</td>\n",
              "      <td>1</td>\n",
              "    </tr>\n",
              "  </tbody>\n",
              "</table>\n",
              "<p>103 rows × 15 columns</p>\n",
              "</div>\n",
              "    <div class=\"colab-df-buttons\">\n",
              "\n",
              "  <div class=\"colab-df-container\">\n",
              "    <button class=\"colab-df-convert\" onclick=\"convertToInteractive('df-aa0d4c05-205f-41c8-8eac-50f83506cbfe')\"\n",
              "            title=\"Convert this dataframe to an interactive table.\"\n",
              "            style=\"display:none;\">\n",
              "\n",
              "  <svg xmlns=\"http://www.w3.org/2000/svg\" height=\"24px\" viewBox=\"0 -960 960 960\">\n",
              "    <path d=\"M120-120v-720h720v720H120Zm60-500h600v-160H180v160Zm220 220h160v-160H400v160Zm0 220h160v-160H400v160ZM180-400h160v-160H180v160Zm440 0h160v-160H620v160ZM180-180h160v-160H180v160Zm440 0h160v-160H620v160Z\"/>\n",
              "  </svg>\n",
              "    </button>\n",
              "\n",
              "  <style>\n",
              "    .colab-df-container {\n",
              "      display:flex;\n",
              "      gap: 12px;\n",
              "    }\n",
              "\n",
              "    .colab-df-convert {\n",
              "      background-color: #E8F0FE;\n",
              "      border: none;\n",
              "      border-radius: 50%;\n",
              "      cursor: pointer;\n",
              "      display: none;\n",
              "      fill: #1967D2;\n",
              "      height: 32px;\n",
              "      padding: 0 0 0 0;\n",
              "      width: 32px;\n",
              "    }\n",
              "\n",
              "    .colab-df-convert:hover {\n",
              "      background-color: #E2EBFA;\n",
              "      box-shadow: 0px 1px 2px rgba(60, 64, 67, 0.3), 0px 1px 3px 1px rgba(60, 64, 67, 0.15);\n",
              "      fill: #174EA6;\n",
              "    }\n",
              "\n",
              "    .colab-df-buttons div {\n",
              "      margin-bottom: 4px;\n",
              "    }\n",
              "\n",
              "    [theme=dark] .colab-df-convert {\n",
              "      background-color: #3B4455;\n",
              "      fill: #D2E3FC;\n",
              "    }\n",
              "\n",
              "    [theme=dark] .colab-df-convert:hover {\n",
              "      background-color: #434B5C;\n",
              "      box-shadow: 0px 1px 3px 1px rgba(0, 0, 0, 0.15);\n",
              "      filter: drop-shadow(0px 1px 2px rgba(0, 0, 0, 0.3));\n",
              "      fill: #FFFFFF;\n",
              "    }\n",
              "  </style>\n",
              "\n",
              "    <script>\n",
              "      const buttonEl =\n",
              "        document.querySelector('#df-aa0d4c05-205f-41c8-8eac-50f83506cbfe button.colab-df-convert');\n",
              "      buttonEl.style.display =\n",
              "        google.colab.kernel.accessAllowed ? 'block' : 'none';\n",
              "\n",
              "      async function convertToInteractive(key) {\n",
              "        const element = document.querySelector('#df-aa0d4c05-205f-41c8-8eac-50f83506cbfe');\n",
              "        const dataTable =\n",
              "          await google.colab.kernel.invokeFunction('convertToInteractive',\n",
              "                                                    [key], {});\n",
              "        if (!dataTable) return;\n",
              "\n",
              "        const docLinkHtml = 'Like what you see? Visit the ' +\n",
              "          '<a target=\"_blank\" href=https://colab.research.google.com/notebooks/data_table.ipynb>data table notebook</a>'\n",
              "          + ' to learn more about interactive tables.';\n",
              "        element.innerHTML = '';\n",
              "        dataTable['output_type'] = 'display_data';\n",
              "        await google.colab.output.renderOutput(dataTable, element);\n",
              "        const docLink = document.createElement('div');\n",
              "        docLink.innerHTML = docLinkHtml;\n",
              "        element.appendChild(docLink);\n",
              "      }\n",
              "    </script>\n",
              "  </div>\n",
              "\n",
              "\n",
              "<div id=\"df-8458ec19-319d-417f-adb9-2b9eea3181b7\">\n",
              "  <button class=\"colab-df-quickchart\" onclick=\"quickchart('df-8458ec19-319d-417f-adb9-2b9eea3181b7')\"\n",
              "            title=\"Suggest charts\"\n",
              "            style=\"display:none;\">\n",
              "\n",
              "<svg xmlns=\"http://www.w3.org/2000/svg\" height=\"24px\"viewBox=\"0 0 24 24\"\n",
              "     width=\"24px\">\n",
              "    <g>\n",
              "        <path d=\"M19 3H5c-1.1 0-2 .9-2 2v14c0 1.1.9 2 2 2h14c1.1 0 2-.9 2-2V5c0-1.1-.9-2-2-2zM9 17H7v-7h2v7zm4 0h-2V7h2v10zm4 0h-2v-4h2v4z\"/>\n",
              "    </g>\n",
              "</svg>\n",
              "  </button>\n",
              "\n",
              "<style>\n",
              "  .colab-df-quickchart {\n",
              "      --bg-color: #E8F0FE;\n",
              "      --fill-color: #1967D2;\n",
              "      --hover-bg-color: #E2EBFA;\n",
              "      --hover-fill-color: #174EA6;\n",
              "      --disabled-fill-color: #AAA;\n",
              "      --disabled-bg-color: #DDD;\n",
              "  }\n",
              "\n",
              "  [theme=dark] .colab-df-quickchart {\n",
              "      --bg-color: #3B4455;\n",
              "      --fill-color: #D2E3FC;\n",
              "      --hover-bg-color: #434B5C;\n",
              "      --hover-fill-color: #FFFFFF;\n",
              "      --disabled-bg-color: #3B4455;\n",
              "      --disabled-fill-color: #666;\n",
              "  }\n",
              "\n",
              "  .colab-df-quickchart {\n",
              "    background-color: var(--bg-color);\n",
              "    border: none;\n",
              "    border-radius: 50%;\n",
              "    cursor: pointer;\n",
              "    display: none;\n",
              "    fill: var(--fill-color);\n",
              "    height: 32px;\n",
              "    padding: 0;\n",
              "    width: 32px;\n",
              "  }\n",
              "\n",
              "  .colab-df-quickchart:hover {\n",
              "    background-color: var(--hover-bg-color);\n",
              "    box-shadow: 0 1px 2px rgba(60, 64, 67, 0.3), 0 1px 3px 1px rgba(60, 64, 67, 0.15);\n",
              "    fill: var(--button-hover-fill-color);\n",
              "  }\n",
              "\n",
              "  .colab-df-quickchart-complete:disabled,\n",
              "  .colab-df-quickchart-complete:disabled:hover {\n",
              "    background-color: var(--disabled-bg-color);\n",
              "    fill: var(--disabled-fill-color);\n",
              "    box-shadow: none;\n",
              "  }\n",
              "\n",
              "  .colab-df-spinner {\n",
              "    border: 2px solid var(--fill-color);\n",
              "    border-color: transparent;\n",
              "    border-bottom-color: var(--fill-color);\n",
              "    animation:\n",
              "      spin 1s steps(1) infinite;\n",
              "  }\n",
              "\n",
              "  @keyframes spin {\n",
              "    0% {\n",
              "      border-color: transparent;\n",
              "      border-bottom-color: var(--fill-color);\n",
              "      border-left-color: var(--fill-color);\n",
              "    }\n",
              "    20% {\n",
              "      border-color: transparent;\n",
              "      border-left-color: var(--fill-color);\n",
              "      border-top-color: var(--fill-color);\n",
              "    }\n",
              "    30% {\n",
              "      border-color: transparent;\n",
              "      border-left-color: var(--fill-color);\n",
              "      border-top-color: var(--fill-color);\n",
              "      border-right-color: var(--fill-color);\n",
              "    }\n",
              "    40% {\n",
              "      border-color: transparent;\n",
              "      border-right-color: var(--fill-color);\n",
              "      border-top-color: var(--fill-color);\n",
              "    }\n",
              "    60% {\n",
              "      border-color: transparent;\n",
              "      border-right-color: var(--fill-color);\n",
              "    }\n",
              "    80% {\n",
              "      border-color: transparent;\n",
              "      border-right-color: var(--fill-color);\n",
              "      border-bottom-color: var(--fill-color);\n",
              "    }\n",
              "    90% {\n",
              "      border-color: transparent;\n",
              "      border-bottom-color: var(--fill-color);\n",
              "    }\n",
              "  }\n",
              "</style>\n",
              "\n",
              "  <script>\n",
              "    async function quickchart(key) {\n",
              "      const quickchartButtonEl =\n",
              "        document.querySelector('#' + key + ' button');\n",
              "      quickchartButtonEl.disabled = true;  // To prevent multiple clicks.\n",
              "      quickchartButtonEl.classList.add('colab-df-spinner');\n",
              "      try {\n",
              "        const charts = await google.colab.kernel.invokeFunction(\n",
              "            'suggestCharts', [key], {});\n",
              "      } catch (error) {\n",
              "        console.error('Error during call to suggestCharts:', error);\n",
              "      }\n",
              "      quickchartButtonEl.classList.remove('colab-df-spinner');\n",
              "      quickchartButtonEl.classList.add('colab-df-quickchart-complete');\n",
              "    }\n",
              "    (() => {\n",
              "      let quickchartButtonEl =\n",
              "        document.querySelector('#df-8458ec19-319d-417f-adb9-2b9eea3181b7 button');\n",
              "      quickchartButtonEl.style.display =\n",
              "        google.colab.kernel.accessAllowed ? 'block' : 'none';\n",
              "    })();\n",
              "  </script>\n",
              "</div>\n",
              "\n",
              "  <div id=\"id_3b6a2d28-bf4c-4714-a01c-8b0ca27ee2be\">\n",
              "    <style>\n",
              "      .colab-df-generate {\n",
              "        background-color: #E8F0FE;\n",
              "        border: none;\n",
              "        border-radius: 50%;\n",
              "        cursor: pointer;\n",
              "        display: none;\n",
              "        fill: #1967D2;\n",
              "        height: 32px;\n",
              "        padding: 0 0 0 0;\n",
              "        width: 32px;\n",
              "      }\n",
              "\n",
              "      .colab-df-generate:hover {\n",
              "        background-color: #E2EBFA;\n",
              "        box-shadow: 0px 1px 2px rgba(60, 64, 67, 0.3), 0px 1px 3px 1px rgba(60, 64, 67, 0.15);\n",
              "        fill: #174EA6;\n",
              "      }\n",
              "\n",
              "      [theme=dark] .colab-df-generate {\n",
              "        background-color: #3B4455;\n",
              "        fill: #D2E3FC;\n",
              "      }\n",
              "\n",
              "      [theme=dark] .colab-df-generate:hover {\n",
              "        background-color: #434B5C;\n",
              "        box-shadow: 0px 1px 3px 1px rgba(0, 0, 0, 0.15);\n",
              "        filter: drop-shadow(0px 1px 2px rgba(0, 0, 0, 0.3));\n",
              "        fill: #FFFFFF;\n",
              "      }\n",
              "    </style>\n",
              "    <button class=\"colab-df-generate\" onclick=\"generateWithVariable('data')\"\n",
              "            title=\"Generate code using this dataframe.\"\n",
              "            style=\"display:none;\">\n",
              "\n",
              "  <svg xmlns=\"http://www.w3.org/2000/svg\" height=\"24px\"viewBox=\"0 0 24 24\"\n",
              "       width=\"24px\">\n",
              "    <path d=\"M7,19H8.4L18.45,9,17,7.55,7,17.6ZM5,21V16.75L18.45,3.32a2,2,0,0,1,2.83,0l1.4,1.43a1.91,1.91,0,0,1,.58,1.4,1.91,1.91,0,0,1-.58,1.4L9.25,21ZM18.45,9,17,7.55Zm-12,3A5.31,5.31,0,0,0,4.9,8.1,5.31,5.31,0,0,0,1,6.5,5.31,5.31,0,0,0,4.9,4.9,5.31,5.31,0,0,0,6.5,1,5.31,5.31,0,0,0,8.1,4.9,5.31,5.31,0,0,0,12,6.5,5.46,5.46,0,0,0,6.5,12Z\"/>\n",
              "  </svg>\n",
              "    </button>\n",
              "    <script>\n",
              "      (() => {\n",
              "      const buttonEl =\n",
              "        document.querySelector('#id_3b6a2d28-bf4c-4714-a01c-8b0ca27ee2be button.colab-df-generate');\n",
              "      buttonEl.style.display =\n",
              "        google.colab.kernel.accessAllowed ? 'block' : 'none';\n",
              "\n",
              "      buttonEl.onclick = () => {\n",
              "        google.colab.notebook.generateWithVariable('data');\n",
              "      }\n",
              "      })();\n",
              "    </script>\n",
              "  </div>\n",
              "\n",
              "    </div>\n",
              "  </div>\n"
            ],
            "application/vnd.google.colaboratory.intrinsic+json": {
              "type": "dataframe",
              "variable_name": "data",
              "summary": "{\n  \"name\": \"data\",\n  \"rows\": 103,\n  \"fields\": [\n    {\n      \"column\": \"date\",\n      \"properties\": {\n        \"dtype\": \"object\",\n        \"num_unique_values\": 56,\n        \"samples\": [\n          \"2018.06.03\",\n          \"2018.06.10\",\n          \"2018.07.26\"\n        ],\n        \"semantic_type\": \"\",\n        \"description\": \"\"\n      }\n    },\n    {\n      \"column\": \"starttime\",\n      \"properties\": {\n        \"dtype\": \"object\",\n        \"num_unique_values\": 79,\n        \"samples\": [\n          \"08:00\",\n          \"00:03\",\n          \"18:15\"\n        ],\n        \"semantic_type\": \"\",\n        \"description\": \"\"\n      }\n    },\n    {\n      \"column\": \"endtime\",\n      \"properties\": {\n        \"dtype\": \"object\",\n        \"num_unique_values\": 90,\n        \"samples\": [\n          \"18:50\",\n          \"19:35\",\n          \"06:47\"\n        ],\n        \"semantic_type\": \"\",\n        \"description\": \"\"\n      }\n    },\n    {\n      \"column\": \"starttemp\",\n      \"properties\": {\n        \"dtype\": \"number\",\n        \"std\": 5.578514054983217,\n        \"min\": 11.0,\n        \"max\": 33.0,\n        \"num_unique_values\": 21,\n        \"samples\": [\n          17.0,\n          33.0,\n          27.0\n        ],\n        \"semantic_type\": \"\",\n        \"description\": \"\"\n      }\n    },\n    {\n      \"column\": \"endtemp\",\n      \"properties\": {\n        \"dtype\": \"number\",\n        \"std\": 18.322102592599173,\n        \"min\": 12.0,\n        \"max\": 200.0,\n        \"num_unique_values\": 20,\n        \"samples\": [\n          15.0,\n          12.0,\n          20.0\n        ],\n        \"semantic_type\": \"\",\n        \"description\": \"\"\n      }\n    },\n    {\n      \"column\": \"air conditioner\",\n      \"properties\": {\n        \"dtype\": \"category\",\n        \"num_unique_values\": 5,\n        \"samples\": [\n          \"on\",\n          \"onn\",\n          \"oof\"\n        ],\n        \"semantic_type\": \"\",\n        \"description\": \"\"\n      }\n    },\n    {\n      \"column\": \"trafic\",\n      \"properties\": {\n        \"dtype\": \"category\",\n        \"num_unique_values\": 5,\n        \"samples\": [\n          \"normal\",\n          \"high\",\n          \"traffic jam + normal\"\n        ],\n        \"semantic_type\": \"\",\n        \"description\": \"\"\n      }\n    },\n    {\n      \"column\": \"route\",\n      \"properties\": {\n        \"dtype\": \"category\",\n        \"num_unique_values\": 24,\n        \"samples\": [\n          \"dujv-dunaegyhaza\",\n          \"veszprem-szfvar\",\n          \"bp-dujv\"\n        ],\n        \"semantic_type\": \"\",\n        \"description\": \"\"\n      }\n    },\n    {\n      \"column\": \"dist\",\n      \"properties\": {\n        \"dtype\": \"number\",\n        \"std\": 21.02488566715705,\n        \"min\": 0.6,\n        \"max\": 173.9,\n        \"num_unique_values\": 72,\n        \"samples\": [\n          47.5,\n          94.4,\n          70.4\n        ],\n        \"semantic_type\": \"\",\n        \"description\": \"\"\n      }\n    },\n    {\n      \"column\": \"avg.cons.\",\n      \"properties\": {\n        \"dtype\": \"number\",\n        \"std\": 1.495262523213138,\n        \"min\": 0.1,\n        \"max\": 18.1,\n        \"num_unique_values\": 26,\n        \"samples\": [\n          4.4,\n          18.1,\n          4.5\n        ],\n        \"semantic_type\": \"\",\n        \"description\": \"\"\n      }\n    },\n    {\n      \"column\": \"speed\",\n      \"properties\": {\n        \"dtype\": \"number\",\n        \"std\": 10,\n        \"min\": 1,\n        \"max\": 95,\n        \"num_unique_values\": 38,\n        \"samples\": [\n          95,\n          76,\n          58\n        ],\n        \"semantic_type\": \"\",\n        \"description\": \"\"\n      }\n    },\n    {\n      \"column\": \"duration\",\n      \"properties\": {\n        \"dtype\": \"object\",\n        \"num_unique_values\": 45,\n        \"samples\": [\n          \"01:00\",\n          \"01:31\",\n          \"01:05\"\n        ],\n        \"semantic_type\": \"\",\n        \"description\": \"\"\n      }\n    },\n    {\n      \"column\": \"fuel type\",\n      \"properties\": {\n        \"dtype\": \"category\",\n        \"num_unique_values\": 3,\n        \"samples\": [\n          \"95+\",\n          \"95FS\",\n          \"FS\"\n        ],\n        \"semantic_type\": \"\",\n        \"description\": \"\"\n      }\n    },\n    {\n      \"column\": \"road\",\n      \"properties\": {\n        \"dtype\": \"category\",\n        \"num_unique_values\": 5,\n        \"samples\": [\n          \"highway\",\n          \"hghway\",\n          \"normal\"\n        ],\n        \"semantic_type\": \"\",\n        \"description\": \"\"\n      }\n    },\n    {\n      \"column\": \"num. persons\",\n      \"properties\": {\n        \"dtype\": \"number\",\n        \"std\": 0,\n        \"min\": 1,\n        \"max\": 4,\n        \"num_unique_values\": 4,\n        \"samples\": [\n          2,\n          4,\n          1\n        ],\n        \"semantic_type\": \"\",\n        \"description\": \"\"\n      }\n    }\n  ]\n}"
            }
          },
          "metadata": {},
          "execution_count": 4
        }
      ]
    },
    {
      "cell_type": "markdown",
      "metadata": {
        "id": "W9_WPPF2rFRX"
      },
      "source": [
        "**DataFrame oszlopai**"
      ]
    },
    {
      "cell_type": "code",
      "metadata": {
        "id": "--QsVM6Uqm9m",
        "colab": {
          "base_uri": "https://localhost:8080/",
          "height": 458
        },
        "outputId": "cdafa45b-8516-4796-fdee-f6419a180765"
      },
      "source": [
        "data['starttemp']  # egy oszlopra jol olvashatoan hivatkozhatunk az oszlop nevevel"
      ],
      "execution_count": 5,
      "outputs": [
        {
          "output_type": "execute_result",
          "data": {
            "text/plain": [
              "0      17.0\n",
              "1      19.0\n",
              "2      30.0\n",
              "3      29.0\n",
              "4      30.0\n",
              "       ... \n",
              "98     21.0\n",
              "99     16.0\n",
              "100    17.0\n",
              "101    15.0\n",
              "102    21.0\n",
              "Name: starttemp, Length: 103, dtype: float64"
            ],
            "text/html": [
              "<div>\n",
              "<style scoped>\n",
              "    .dataframe tbody tr th:only-of-type {\n",
              "        vertical-align: middle;\n",
              "    }\n",
              "\n",
              "    .dataframe tbody tr th {\n",
              "        vertical-align: top;\n",
              "    }\n",
              "\n",
              "    .dataframe thead th {\n",
              "        text-align: right;\n",
              "    }\n",
              "</style>\n",
              "<table border=\"1\" class=\"dataframe\">\n",
              "  <thead>\n",
              "    <tr style=\"text-align: right;\">\n",
              "      <th></th>\n",
              "      <th>starttemp</th>\n",
              "    </tr>\n",
              "  </thead>\n",
              "  <tbody>\n",
              "    <tr>\n",
              "      <th>0</th>\n",
              "      <td>17.0</td>\n",
              "    </tr>\n",
              "    <tr>\n",
              "      <th>1</th>\n",
              "      <td>19.0</td>\n",
              "    </tr>\n",
              "    <tr>\n",
              "      <th>2</th>\n",
              "      <td>30.0</td>\n",
              "    </tr>\n",
              "    <tr>\n",
              "      <th>3</th>\n",
              "      <td>29.0</td>\n",
              "    </tr>\n",
              "    <tr>\n",
              "      <th>4</th>\n",
              "      <td>30.0</td>\n",
              "    </tr>\n",
              "    <tr>\n",
              "      <th>...</th>\n",
              "      <td>...</td>\n",
              "    </tr>\n",
              "    <tr>\n",
              "      <th>98</th>\n",
              "      <td>21.0</td>\n",
              "    </tr>\n",
              "    <tr>\n",
              "      <th>99</th>\n",
              "      <td>16.0</td>\n",
              "    </tr>\n",
              "    <tr>\n",
              "      <th>100</th>\n",
              "      <td>17.0</td>\n",
              "    </tr>\n",
              "    <tr>\n",
              "      <th>101</th>\n",
              "      <td>15.0</td>\n",
              "    </tr>\n",
              "    <tr>\n",
              "      <th>102</th>\n",
              "      <td>21.0</td>\n",
              "    </tr>\n",
              "  </tbody>\n",
              "</table>\n",
              "<p>103 rows × 1 columns</p>\n",
              "</div><br><label><b>dtype:</b> float64</label>"
            ]
          },
          "metadata": {},
          "execution_count": 5
        }
      ]
    },
    {
      "cell_type": "code",
      "metadata": {
        "id": "KRAIybRBre9E"
      },
      "source": [
        "names_of_columns = list(data) # oszlopnevek listaja"
      ],
      "execution_count": 6,
      "outputs": []
    },
    {
      "cell_type": "markdown",
      "metadata": {
        "id": "LHBXeoyQsmWS"
      },
      "source": [
        "**Hiányzó értékek (missing values)**"
      ]
    },
    {
      "cell_type": "code",
      "metadata": {
        "id": "AQ26osxUsiPZ",
        "colab": {
          "base_uri": "https://localhost:8080/",
          "height": 458
        },
        "outputId": "d76575bc-51b9-477f-b60c-4b21289be574"
      },
      "source": [
        "data['starttemp'].isnull()\n",
        "# egy DataFrame típusú True-False vektort ad.\n",
        "# Az ertek attol fuggoen True vagy False, hogy\n",
        "# az adott peldany eeseteben a cella erteke null-e\n",
        "# (azaz hianyzo ertek-e)"
      ],
      "execution_count": 7,
      "outputs": [
        {
          "output_type": "execute_result",
          "data": {
            "text/plain": [
              "0      False\n",
              "1      False\n",
              "2      False\n",
              "3      False\n",
              "4      False\n",
              "       ...  \n",
              "98     False\n",
              "99     False\n",
              "100    False\n",
              "101    False\n",
              "102    False\n",
              "Name: starttemp, Length: 103, dtype: bool"
            ],
            "text/html": [
              "<div>\n",
              "<style scoped>\n",
              "    .dataframe tbody tr th:only-of-type {\n",
              "        vertical-align: middle;\n",
              "    }\n",
              "\n",
              "    .dataframe tbody tr th {\n",
              "        vertical-align: top;\n",
              "    }\n",
              "\n",
              "    .dataframe thead th {\n",
              "        text-align: right;\n",
              "    }\n",
              "</style>\n",
              "<table border=\"1\" class=\"dataframe\">\n",
              "  <thead>\n",
              "    <tr style=\"text-align: right;\">\n",
              "      <th></th>\n",
              "      <th>starttemp</th>\n",
              "    </tr>\n",
              "  </thead>\n",
              "  <tbody>\n",
              "    <tr>\n",
              "      <th>0</th>\n",
              "      <td>False</td>\n",
              "    </tr>\n",
              "    <tr>\n",
              "      <th>1</th>\n",
              "      <td>False</td>\n",
              "    </tr>\n",
              "    <tr>\n",
              "      <th>2</th>\n",
              "      <td>False</td>\n",
              "    </tr>\n",
              "    <tr>\n",
              "      <th>3</th>\n",
              "      <td>False</td>\n",
              "    </tr>\n",
              "    <tr>\n",
              "      <th>4</th>\n",
              "      <td>False</td>\n",
              "    </tr>\n",
              "    <tr>\n",
              "      <th>...</th>\n",
              "      <td>...</td>\n",
              "    </tr>\n",
              "    <tr>\n",
              "      <th>98</th>\n",
              "      <td>False</td>\n",
              "    </tr>\n",
              "    <tr>\n",
              "      <th>99</th>\n",
              "      <td>False</td>\n",
              "    </tr>\n",
              "    <tr>\n",
              "      <th>100</th>\n",
              "      <td>False</td>\n",
              "    </tr>\n",
              "    <tr>\n",
              "      <th>101</th>\n",
              "      <td>False</td>\n",
              "    </tr>\n",
              "    <tr>\n",
              "      <th>102</th>\n",
              "      <td>False</td>\n",
              "    </tr>\n",
              "  </tbody>\n",
              "</table>\n",
              "<p>103 rows × 1 columns</p>\n",
              "</div><br><label><b>dtype:</b> bool</label>"
            ]
          },
          "metadata": {},
          "execution_count": 7
        }
      ]
    },
    {
      "cell_type": "code",
      "metadata": {
        "id": "HiL9duvwsuZY",
        "colab": {
          "base_uri": "https://localhost:8080/"
        },
        "outputId": "588c221a-e8a2-4d2b-873a-a101a12b54c2"
      },
      "source": [
        "data['starttemp'].isnull().sum()\n",
        "# összeadasnal: True=1, False=1\n",
        "# Igy tehat a hianyzo ertekek szamat kapjuk"
      ],
      "execution_count": 8,
      "outputs": [
        {
          "output_type": "execute_result",
          "data": {
            "text/plain": [
              "5"
            ]
          },
          "metadata": {},
          "execution_count": 8
        }
      ]
    },
    {
      "cell_type": "markdown",
      "metadata": {
        "id": "XD3UFEfMt4WU"
      },
      "source": [
        "*1. feladat*\n",
        "\n",
        "Írjon egy for ciklust, amely kiszámolja és kiírja a hiányzó értékek számát minden egyes attribútumra (oszlopra). A hiányzó értékek számával együtt az oszlop nevét is írja ki."
      ]
    },
    {
      "cell_type": "code",
      "metadata": {
        "id": "TLdUgthZtzAT",
        "colab": {
          "base_uri": "https://localhost:8080/"
        },
        "outputId": "43b5e44d-e051-4335-97fa-45825ba0b8a6"
      },
      "source": [
        "# ...IDE JÖN A KÓD...\n",
        "for i in range(len(names_of_columns)):\n",
        "    print(names_of_columns[i], data[names_of_columns[i]].isnull().sum())\n"
      ],
      "execution_count": 43,
      "outputs": [
        {
          "output_type": "stream",
          "name": "stdout",
          "text": [
            "date 0\n",
            "starttime 0\n",
            "endtime 0\n",
            "starttemp 5\n",
            "endtemp 4\n",
            "air conditioner 0\n",
            "trafic 0\n",
            "route 0\n",
            "dist 1\n",
            "avg.cons. 0\n",
            "speed 0\n",
            "duration 0\n",
            "fuel type 0\n",
            "road 0\n",
            "num. persons 0\n"
          ]
        }
      ]
    },
    {
      "cell_type": "markdown",
      "metadata": {
        "id": "QxOZPlMAwdbR"
      },
      "source": [
        "*2. feladat*\n",
        "\n",
        "Készítsen másolatot az adatról, és a másolatban helyettesítse a *starttemp* oszlop hiányzó értékeit\n",
        "\n",
        "(a) a starttemp átlagos értékével,\n",
        "\n",
        "(b) a starttemp mediánjával.\n",
        "\n",
        "(c) Írjon egy for ciklust, amely az összes oszlop esetén helyettesíti a hiányzó értékeket az adott oszlop átlagával, ahol ez lehetséges!"
      ]
    },
    {
      "cell_type": "code",
      "metadata": {
        "id": "6aGU_70_ybYn",
        "colab": {
          "base_uri": "https://localhost:8080/"
        },
        "outputId": "4a4acada-2250-4ef5-9605-b5662c59b200"
      },
      "source": [
        "# ...IDE JÖN A KÓD...\n",
        "\n",
        "copy_of_data = data.copy()\n",
        "\n",
        "# with mean the null value\n",
        "copy_of_data['starttemp'] = copy_of_data['starttemp'].fillna(copy_of_data['starttemp'].mean())\n",
        "\n",
        "\n",
        "for i in range(len(names_of_columns)):\n",
        "    print(names_of_columns[i], copy_of_data[names_of_columns[i]].isnull().sum())\n"
      ],
      "execution_count": 13,
      "outputs": [
        {
          "output_type": "stream",
          "name": "stdout",
          "text": [
            "date 0\n",
            "starttime 0\n",
            "endtime 0\n",
            "starttemp 0\n",
            "endtemp 4\n",
            "air conditioner 0\n",
            "trafic 0\n",
            "route 0\n",
            "dist 1\n",
            "avg.cons. 0\n",
            "speed 0\n",
            "duration 0\n",
            "fuel type 0\n",
            "road 0\n",
            "num. persons 0\n"
          ]
        }
      ]
    },
    {
      "cell_type": "code",
      "metadata": {
        "id": "gvAu05EMymqO",
        "colab": {
          "base_uri": "https://localhost:8080/"
        },
        "outputId": "1867f654-c159-4c8f-bcdb-c0705004673a"
      },
      "source": [
        "# ...IDE JÖN A KÓD...\n",
        "copy_of_data = data.copy()\n",
        "\n",
        "# with median the null value\n",
        "copy_of_data['starttemp'] = copy_of_data['starttemp'].fillna(copy_of_data['starttemp'].median())\n",
        "\n",
        "# check for nulls\n",
        "for i in range(len(names_of_columns)):\n",
        "    print(names_of_columns[i], copy_of_data[names_of_columns[i]].isnull().sum())\n",
        "\n"
      ],
      "execution_count": 42,
      "outputs": [
        {
          "output_type": "stream",
          "name": "stdout",
          "text": [
            "date 0\n",
            "starttime 0\n",
            "endtime 0\n",
            "starttemp 0\n",
            "endtemp 4\n",
            "air conditioner 0\n",
            "trafic 0\n",
            "route 0\n",
            "dist 1\n",
            "avg.cons. 0\n",
            "speed 0\n",
            "duration 0\n",
            "fuel type 0\n",
            "road 0\n",
            "num. persons 0\n"
          ]
        }
      ]
    },
    {
      "cell_type": "code",
      "metadata": {
        "id": "N2nrJAH9zKPo",
        "colab": {
          "base_uri": "https://localhost:8080/"
        },
        "outputId": "fd3771da-901e-4640-e4fb-9f102abf61df"
      },
      "source": [
        "# ...IDE JÖN A KÓD...\n",
        "\n",
        "\n",
        "def true_isnumeric(value):\n",
        "    try:\n",
        "        float(value)\n",
        "        return True\n",
        "    except:\n",
        "        return False\n",
        "\n",
        "copy_of_data = data.copy()\n",
        "\n",
        "# substitute null value with the mean value\n",
        "for i in range(len(names_of_columns)):\n",
        "    if copy_of_data[names_of_columns[i]].isnull().sum() >0 and true_isnumeric(copy_of_data[names_of_columns[i]].mean()) :\n",
        "        copy_of_data[names_of_columns[i]] = copy_of_data[names_of_columns[i]].fillna(copy_of_data[names_of_columns[i]].mean())\n",
        "\n",
        "# check for nulls\n",
        "for i in range(len(names_of_columns)):\n",
        "    print(names_of_columns[i], copy_of_data[names_of_columns[i]].isnull().sum())\n"
      ],
      "execution_count": 17,
      "outputs": [
        {
          "output_type": "stream",
          "name": "stdout",
          "text": [
            "date 0\n",
            "starttime 0\n",
            "endtime 0\n",
            "starttemp 0\n",
            "endtemp 0\n",
            "air conditioner 0\n",
            "trafic 0\n",
            "route 0\n",
            "dist 0\n",
            "avg.cons. 0\n",
            "speed 0\n",
            "duration 0\n",
            "fuel type 0\n",
            "road 0\n",
            "num. persons 0\n"
          ]
        }
      ]
    },
    {
      "cell_type": "markdown",
      "metadata": {
        "id": "oxPTYwfMLDeb"
      },
      "source": [
        "A következőkben egy diagramon fogjuk ábrázolni az egyes utazások esetében az induláskori és érkezéskori hőmérsékletet. Csak azokat az utazásokat fogjuk használni, ahol az eredeti adatban mind a két hőmérsékleti érték adott. Először a scatterplottal ismerkedünk."
      ]
    },
    {
      "cell_type": "code",
      "metadata": {
        "id": "ZIBg9rC8K4RD",
        "colab": {
          "base_uri": "https://localhost:8080/",
          "height": 430
        },
        "outputId": "a3b319bf-2cc9-4c8f-b825-8ee46b5ea60a"
      },
      "source": [
        "# 1 2\n",
        "# 4 3\n",
        "# 10 8\n",
        "# 15 9\n",
        "x = [1, 4, 10, 15]\n",
        "y = [2, 3, 8, 9]\n",
        "plt.scatter(x,y);"
      ],
      "execution_count": 18,
      "outputs": [
        {
          "output_type": "display_data",
          "data": {
            "text/plain": [
              "<Figure size 640x480 with 1 Axes>"
            ],
            "image/png": "[encoded data removed]"
          },
          "metadata": {}
        }
      ]
    },
    {
      "cell_type": "code",
      "metadata": {
        "id": "jNqT0w42J24_",
        "colab": {
          "base_uri": "https://localhost:8080/",
          "height": 430
        },
        "outputId": "4045cb70-b084-4e2a-930b-04f3af13bbcc"
      },
      "source": [
        "both_values_present = np.logical_and(data['starttemp'].isnull()==False,\n",
        "                                     data['endtemp'].isnull()==False)\n",
        "both_values_valid = np.logical_and(both_values_present, data['endtemp'] < 100)\n",
        "plt.scatter( data[both_values_valid]['starttemp'],\n",
        "            data[both_values_valid]['endtemp'] )\n",
        "plt.show()"
      ],
      "execution_count": 19,
      "outputs": [
        {
          "output_type": "display_data",
          "data": {
            "text/plain": [
              "<Figure size 640x480 with 1 Axes>"
            ],
            "image/png": "[encoded data removed]"
          },
          "metadata": {}
        }
      ]
    },
    {
      "cell_type": "markdown",
      "metadata": {
        "id": "SiSOcqdBNI20"
      },
      "source": [
        "*3. feladat*\n",
        "\n",
        "Az érkezéskori hőmérséklet jobb becslés lehet az indulási hőmérsékletre, mint az összes induláskori hőmérséklet átlaga, és fordítva: amikor az érkezéskori hőmérséklet hiányzik, az induláskori hőmérséklet lehet egy jó becslés.\n",
        "\n",
        "(a) Írjon egy olyan kódot, amely ellenőrzi, hogy van-e olyan eset, amikor egyszerre hiányzik az induláskori és érkezéskori hőmérséklet!\n",
        "\n",
        "(b) Amikor az **indulási** hőmérséklet hiányzik, helyettesítse azt az érkezéskori hőmérséklettel!\n",
        "\n",
        "(c) Amikor csak az **érkezéskori** hőmérséklet hiányzik, helyettesítse azt az induláskori hőmérséklettel!\n"
      ]
    },
    {
      "cell_type": "markdown",
      "metadata": {
        "id": "6zX590J5O8dR"
      },
      "source": []
    },
    {
      "cell_type": "code",
      "metadata": {
        "id": "lBWWVmBJLYKH",
        "colab": {
          "base_uri": "https://localhost:8080/"
        },
        "outputId": "3289ac0d-429e-446d-90ef-896b2fe7a4e5"
      },
      "source": [
        "# ...IDE JÖN A KÓD...\n",
        "\n",
        "temperature_copy_of_data = data.copy()\n",
        "\n",
        "flag = 0\n",
        "\n",
        "for i in range(len(temperature_copy_of_data['starttemp'])):\n",
        "  # check if start temp is null\n",
        "  if temperature_copy_of_data['starttemp'].isnull()[i]:\n",
        "\n",
        "    print(i, 'starttemp is null')\n",
        "    flag +=1\n",
        "    temperature_copy_of_data['starttemp'][i] = temperature_copy_of_data['endtemp'][i]\n",
        "    print(i, 'copied end to start')\n",
        "\n",
        "  # check if endtemp is null\n",
        "  if temperature_copy_of_data['endtemp'].isnull()[i]:\n",
        "    print(i, 'endtemp is null')\n",
        "    flag +=1\n",
        "\n",
        "    temperature_copy_of_data['endtemp'][i] = temperature_copy_of_data['starttemp'][i]\n",
        "    print(i, 'copied start to end')\n",
        "\n",
        "  if flag == 2:\n",
        "    print(i, 'both values are null')\n",
        "\n",
        "  flag = 0\n",
        ""
      ],
      "execution_count": 58,
      "outputs": [
        {
          "output_type": "stream",
          "name": "stdout",
          "text": [
            "14 starttemp is null\n",
            "14 copied end to start\n",
            "21 starttemp is null\n",
            "21 copied end to start\n",
            "31 starttemp is null\n",
            "31 copied end to start\n",
            "52 endtemp is null\n",
            "52 copied start to end\n",
            "55 endtemp is null\n",
            "55 copied start to end\n",
            "58 starttemp is null\n",
            "58 copied end to start\n",
            "62 endtemp is null\n",
            "62 copied start to end\n",
            "75 starttemp is null\n",
            "75 copied end to start\n",
            "95 endtemp is null\n",
            "95 copied start to end\n"
          ]
        }
      ]
    },
    {
      "cell_type": "code",
      "metadata": {
        "id": "zi7W2JF0Ngxy"
      },
      "source": [
        "# ...IDE JÖN A KÓD..."
      ],
      "execution_count": null,
      "outputs": []
    },
    {
      "cell_type": "markdown",
      "metadata": {
        "id": "nddHXHwIQa_Y"
      },
      "source": [
        "*4. feladat*\n",
        "\n",
        "Lehetséges, hogy az indulási és érkezéskori hőmérséklet különbsége összefügg azzal, hogy mikor kerül sor az utazásra (reggel nagyobb az érkezéskori hőmérséklet, este pedig kisebb). A következőkben ezt fogjuk megvizsgálni.\n",
        "\n",
        "(a) Vezessen be egy új oszlopot, ami a két hőmérséklet különbségét tartalmazza."
      ]
    },
    {
      "cell_type": "code",
      "metadata": {
        "id": "llsxAi1hOkUs",
        "colab": {
          "base_uri": "https://localhost:8080/"
        },
        "outputId": "07b20198-5979-443c-d74f-a2a1dd42a405"
      },
      "source": [
        "# ...IDE JÖN A KÓD...\n",
        "\n",
        "# difference of temps\n",
        "# this is magic for me at this moment\n",
        "# it works beacause of the pandas data frame\n",
        "temperature_copy_of_data['start_and_end_temp_diff'] = temperature_copy_of_data['starttemp'] - temperature_copy_of_data['endtemp']\n",
        "print(temperature_copy_of_data['start_and_end_temp_diff'])"
      ],
      "execution_count": 61,
      "outputs": [
        {
          "output_type": "stream",
          "name": "stdout",
          "text": [
            "0      2.0\n",
            "1     -5.0\n",
            "2      2.0\n",
            "3      1.0\n",
            "4      5.0\n",
            "      ... \n",
            "98     2.0\n",
            "99    -1.0\n",
            "100    1.0\n",
            "101   -5.0\n",
            "102    2.0\n",
            "Name: start_and_end_temp_diff, Length: 103, dtype: float64\n"
          ]
        }
      ]
    },
    {
      "cell_type": "markdown",
      "metadata": {
        "id": "6oWXKEPCRGnV"
      },
      "source": [
        "(b) Vezessen be egy új oszlopot, ami azt tartalmazza számként, hogy a nap melyik órájában kerül sor az utazásra! Ezt az információt a *starttime* oszlopban található string első két karakteréből \"hámozza ki\"."
      ]
    },
    {
      "cell_type": "code",
      "metadata": {
        "id": "0KZVeuF1RFW4",
        "colab": {
          "base_uri": "https://localhost:8080/"
        },
        "outputId": "f0bc3d28-abd1-4707-b394-f9ee4841709b"
      },
      "source": [
        "# ...IDE JÖN A KÓD...\n",
        "\n",
        "temperature_copy_of_data['start_hour'] = temperature_copy_of_data['starttime'].str[:2]\n",
        "print(temperature_copy_of_data['start_hour'])\n"
      ],
      "execution_count": 62,
      "outputs": [
        {
          "output_type": "stream",
          "name": "stdout",
          "text": [
            "0      00\n",
            "1      08\n",
            "2      13\n",
            "3      15\n",
            "4      18\n",
            "       ..\n",
            "98     22\n",
            "99     06\n",
            "100    20\n",
            "101    08\n",
            "102    20\n",
            "Name: start_hour, Length: 103, dtype: object\n"
          ]
        }
      ]
    },
    {
      "cell_type": "markdown",
      "metadata": {
        "id": "vN-Dw_W8Rkuk"
      },
      "source": [
        "A következőkben csoportosítjuk az egyes utazásokat aszerint, hogy a nap melyik órájában kerül sor az utazásra, majd csoportonként kiszámoljuk az előbbiekben bevezetett *temp_diff* mediánját, amelyet az óra függvényében ábrázolunk."
      ]
    },
    {
      "cell_type": "code",
      "metadata": {
        "id": "Xf_S_f_gRjvl"
      },
      "source": [
        "# ...IDE JÖN A KÓD...\n",
        "\n",
        "\n"
      ],
      "execution_count": null,
      "outputs": []
    },
    {
      "cell_type": "markdown",
      "metadata": {
        "id": "7tjT4knTSuCD"
      },
      "source": [
        "*5. feladat*\n",
        "\n",
        "(a) Helyettesítse a **starttemp** hiányzó értékeit az **endtemp** hozzátartozó értékével úgy, hogy közben korrigál a két hőmérséklet közötti \"szokásos\" különbséggel (az előbb kiszámolt mediánnal)!"
      ]
    },
    {
      "cell_type": "code",
      "metadata": {
        "id": "5bMkr9csRc7t"
      },
      "source": [
        "# ...IDE JÖN A KÓD..."
      ],
      "execution_count": null,
      "outputs": []
    },
    {
      "cell_type": "markdown",
      "metadata": {
        "id": "9bTdPx_oTblV"
      },
      "source": [
        "(b) Helyettesítse az **endtemp** hiányzó értékeit a **starttemp** hozzátartozó értékével úgy, hogy közben korrigál a két hőmérséklet közötti \"szokásos\" különbséggel (az előbb kiszámolt mediánnal)! Miben különbözik a megoldás az előbbi részfeladat megoldásától?"
      ]
    },
    {
      "cell_type": "code",
      "metadata": {
        "id": "I21DuW54TZ5L"
      },
      "source": [
        "# ...IDE JÖN A KÓD..."
      ],
      "execution_count": null,
      "outputs": []
    },
    {
      "cell_type": "markdown",
      "metadata": {
        "id": "6G9clgWqUPfW"
      },
      "source": [
        "*6. feladat*\n",
        "\n",
        "Diszkusszió: hogyan töltené ki a távolság hiányzó értékét?"
      ]
    },
    {
      "cell_type": "code",
      "metadata": {
        "id": "1UGZWYPIVB0T"
      },
      "source": [
        "# ...IDE JÖN A KÓD..."
      ],
      "execution_count": null,
      "outputs": []
    },
    {
      "cell_type": "markdown",
      "metadata": {
        "id": "4K0mjCJ2sr3o"
      },
      "source": [
        "**Duplikátumok keresése**"
      ]
    },
    {
      "cell_type": "markdown",
      "metadata": {
        "id": "5BL_e7rFsykH"
      },
      "source": [
        "*7. feladat*\n",
        "\n",
        "Az úgynevezett **egzakt duplikátumok** (amikor pontosan ugyanaz a példány/rekord ismétlődik) eliminálása tipikusan két lépésben történik: az első lépésben az adatokat rendezzük, ezáltal a duplikátumok egymást követően helyezkednek el az adattáblában. A második lépésben az egymást követő példányokról döntjük el, hogy azonosak-e.\n",
        "Az esetünkben az adattábla eredetileg is rendezett.\n",
        "\n",
        "(a) Írjon egy olyan függvényt, amely az adattábla *i*-dik példányáról (*i* a függvény argumentuma) eldönti, hogy azonos-e az *(i+1)*-dik példánnyal."
      ]
    },
    {
      "cell_type": "code",
      "metadata": {
        "id": "fyaMDGCEUfLF"
      },
      "source": [
        "# ...IDE JÖN A KÓD..."
      ],
      "execution_count": null,
      "outputs": []
    },
    {
      "cell_type": "markdown",
      "metadata": {
        "id": "E7uAKzhUuMOz"
      },
      "source": [
        "(b) Az előbbi függvény felhasználásával írjon egy olyan szkriptet, amely az adattábla minden egyes példányáról eldönti, hogy megtartantó-e, azaz különbözik-e a következő példánytól. Eredményként egy True/False értékekből álló listát várunk, amelyben True azt jelöli, hogy a példányt megtartjuk, False pedig azt, hogy eldobjuk, mert egy másik példány azonos vele."
      ]
    },
    {
      "cell_type": "code",
      "metadata": {
        "id": "SWJYjEkWuKYG"
      },
      "source": [
        "# ...IDE JÖN A KÓD..."
      ],
      "execution_count": null,
      "outputs": []
    },
    {
      "cell_type": "markdown",
      "metadata": {
        "id": "XoDr69gSvqZt"
      },
      "source": [
        "A deduplikált adattábla:"
      ]
    },
    {
      "cell_type": "code",
      "metadata": {
        "id": "F-IyCYdnvDRE"
      },
      "source": [
        "data_dedup = pd.DataFrame(data[keep])\n",
        "data_dedup"
      ],
      "execution_count": null,
      "outputs": []
    },
    {
      "cell_type": "markdown",
      "metadata": {
        "id": "6sJEVz93xPjP"
      },
      "source": [
        "**Inkonzisztens értékek**"
      ]
    },
    {
      "cell_type": "markdown",
      "metadata": {
        "id": "7KbX5nIbxF48"
      },
      "source": [
        "*8. feladat*\n",
        "\n",
        "(a) Vizsgálja meg, hogy az adattábla *air conditioner* oszlopa milyen értékeket vesz fel, melyiket hányszor. Segítség: használjon *groupby*-t és *count*-ot!"
      ]
    },
    {
      "cell_type": "code",
      "metadata": {
        "id": "u40Y5ynywqLN"
      },
      "source": [
        "# ...IDE JÖN A KÓD..."
      ],
      "execution_count": null,
      "outputs": []
    },
    {
      "cell_type": "markdown",
      "metadata": {
        "id": "-hGgGgRrx7a1"
      },
      "source": [
        "(b) Helyettesítse az \"offf\" értékeket \"off\"-fal!"
      ]
    },
    {
      "cell_type": "code",
      "metadata": {
        "id": "-STdUNFdxuzO"
      },
      "source": [
        "# ...IDE JÖN A KÓD..."
      ],
      "execution_count": null,
      "outputs": []
    },
    {
      "cell_type": "markdown",
      "metadata": {
        "id": "0yeXxkd4yWGJ"
      },
      "source": [
        "(c) Helyettesítse az \"onn\" értékeket \"on\"-nal!"
      ]
    },
    {
      "cell_type": "code",
      "metadata": {
        "id": "n50c711cyvhN"
      },
      "source": [
        "# ...IDE JÖN A KÓD..."
      ],
      "execution_count": null,
      "outputs": []
    },
    {
      "cell_type": "markdown",
      "metadata": {
        "id": "-WhtJN-uycKM"
      },
      "source": [
        "(d) Helyettesítse az \"oof\" értékeket \"off\"-fal!"
      ]
    },
    {
      "cell_type": "code",
      "metadata": {
        "id": "e-T332NUyi8A"
      },
      "source": [
        "# ...IDE JÖN A KÓD..."
      ],
      "execution_count": null,
      "outputs": []
    },
    {
      "cell_type": "markdown",
      "metadata": {
        "id": "ZQvcBg0Xy1d5"
      },
      "source": [
        "**Leíró statisztikák**"
      ]
    },
    {
      "cell_type": "markdown",
      "metadata": {
        "id": "uS-FekZw41qR"
      },
      "source": [
        "Betöltjük a helyes adatokat:"
      ]
    },
    {
      "cell_type": "code",
      "metadata": {
        "id": "QharNtsA40bZ"
      },
      "source": [
        "data = pd.read_csv('http://www.biointelligence.hu/mi/fuel_data.txt', header=0, sep='\\t')"
      ],
      "execution_count": null,
      "outputs": []
    },
    {
      "cell_type": "markdown",
      "metadata": {
        "id": "tbcp1vQU55o1"
      },
      "source": [
        "*9. feladat*\n",
        "\n",
        "Számolja ki a kezdeti hőmérséklet\n",
        "\n",
        "(a) minimumát és maximumát,\n",
        "\n",
        "(b) 25%-os és 75%-os percentiliseit,\n",
        "\n",
        "(c) és szórását!\n",
        "\n",
        "(d) Írjon egy függvényt, amellyel bármelyik oszlop amplitúdója (maximumának és\n",
        "    minimumának különbsége) meghatározható!\n",
        "\n",
        "(e) Írjon egy függvényt, amely meghatározza az alsó és felső kvartilisek távolságát!\n",
        "\n",
        "(Segítség: használja a numpy függvényeit!)"
      ]
    },
    {
      "cell_type": "code",
      "metadata": {
        "id": "uqqPv6Y74_Df"
      },
      "source": [
        "# ...IDE JÖN A KÓD..."
      ],
      "execution_count": null,
      "outputs": []
    },
    {
      "cell_type": "code",
      "metadata": {
        "id": "VxR0t-CO5_GQ"
      },
      "source": [
        "# ...IDE JÖN A KÓD..."
      ],
      "execution_count": null,
      "outputs": []
    },
    {
      "cell_type": "code",
      "metadata": {
        "id": "tsmWYGea6CNS"
      },
      "source": [
        "# ...IDE JÖN A KÓD..."
      ],
      "execution_count": null,
      "outputs": []
    },
    {
      "cell_type": "code",
      "metadata": {
        "id": "4ecZc0AZ6Hox"
      },
      "source": [
        "# ...IDE JÖN A KÓD..."
      ],
      "execution_count": null,
      "outputs": []
    },
    {
      "cell_type": "code",
      "metadata": {
        "id": "Hf6cXOTl6Pym"
      },
      "source": [
        "# ...IDE JÖN A KÓD..."
      ],
      "execution_count": null,
      "outputs": []
    },
    {
      "cell_type": "code",
      "metadata": {
        "id": "5XNlOzkx6eOX"
      },
      "source": [
        "# ...IDE JÖN A KÓD..."
      ],
      "execution_count": null,
      "outputs": []
    },
    {
      "cell_type": "markdown",
      "metadata": {
        "id": "9WeBQGpA72TP"
      },
      "source": [
        "**Diagramok**"
      ]
    },
    {
      "cell_type": "code",
      "metadata": {
        "id": "5JNTjrey7JLh"
      },
      "source": [
        "data[\"starttemp\"].hist();"
      ],
      "execution_count": null,
      "outputs": []
    },
    {
      "cell_type": "markdown",
      "metadata": {
        "id": "gFfEZnAI8Pk9"
      },
      "source": [
        "*10. feladat*\n",
        "\n",
        "A \"pandas DataFrame\" dokumentációját és/vagy interneten elérhető forrásokat felhasználva módosítsa az előbbi kódot úgy, hogy a hisztogram oszlopainak száma ne 10, hanem 20 legyen!"
      ]
    },
    {
      "cell_type": "code",
      "metadata": {
        "id": "tdPlaZai76nC"
      },
      "source": [
        "# ...IDE JÖN A KÓD..."
      ],
      "execution_count": null,
      "outputs": []
    },
    {
      "cell_type": "markdown",
      "metadata": {
        "id": "oXGdV-iv89gm"
      },
      "source": [
        "*11. feladat*\n",
        "\n",
        "Határozza meg, hány esetben volt a légkondi\n",
        "\n",
        "(a) bekapcsolva (ac_on), illetve\n",
        "\n",
        "(b) kikapcsolva (ac_off)."
      ]
    },
    {
      "cell_type": "code",
      "metadata": {
        "id": "UqIq7rpL8pYj"
      },
      "source": [
        "# ...IDE JÖN A KÓD..."
      ],
      "execution_count": null,
      "outputs": []
    },
    {
      "cell_type": "code",
      "metadata": {
        "id": "HvYqfZ7Z9Lvf"
      },
      "source": [
        "# ...IDE JÖN A KÓD..."
      ],
      "execution_count": null,
      "outputs": []
    },
    {
      "cell_type": "markdown",
      "metadata": {
        "id": "O8I4rDCG9d-f"
      },
      "source": [
        "A következőkben a légkondi ki- és bekapcsoltságát fogjuk különböző diagramokon ábrázolni."
      ]
    },
    {
      "cell_type": "code",
      "metadata": {
        "id": "4IQM7AzS9buO"
      },
      "source": [
        "plt.bar([2,1], [ac_on, ac_off], tick_label=[\"bekapcs\",\"kikapcs\"], color=[\"b\",\"g\"]);\n",
        "\n",
        "# plt.show() # most nem kell, de máskor jól jöhet :-)"
      ],
      "execution_count": null,
      "outputs": []
    },
    {
      "cell_type": "code",
      "metadata": {
        "id": "zKDM8EKu-Aap"
      },
      "source": [
        "plt.pie( [ac_on, ac_off], labels=[\"on\", \"off\"]);"
      ],
      "execution_count": null,
      "outputs": []
    },
    {
      "cell_type": "markdown",
      "metadata": {
        "id": "CG-eNBDqRitB"
      },
      "source": [
        "Kezdőhőmérséklet eloszlása boxplot-on:\n",
        "\n",
        "- középső vonal: median\n",
        "- doboz teteje: felso kvartilis (75%-os percentilis)\n",
        "- doboz alja: also kvartilis (25%-os percentilis)\n",
        "- felső vonal: median + 1.5*(interquartile range), de legfeljebb a legnagyobb érték\n",
        "- alsó vonal: median - 1.5*(interquartile range), de nem kisebb a legkisebb értéknél\n",
        "- outlierek: karikák az alsó és felső vonal alatt ill. felett\n",
        "- alsó és felső vonalnál az 1.5-ös szorzó állítható, ld. https://matplotlib.org/stable/api/_as_gen/matplotlib.pyplot.boxplot.html\n",
        "\n"
      ]
    },
    {
      "cell_type": "code",
      "metadata": {
        "id": "c8RwaluV-aeD"
      },
      "source": [
        "plt.boxplot(data['starttemp'], notch=True);"
      ],
      "execution_count": null,
      "outputs": []
    },
    {
      "cell_type": "code",
      "metadata": {
        "id": "Nk3aNFQ2QdNe"
      },
      "source": [
        "plt.boxplot([ data[data['fuel type'] =='95FS']['avg.cons.'],\n",
        "              data[data['fuel type'] =='95+']['avg.cons.'] ],\n",
        "              labels = ['95FS', '95+']);"
      ],
      "execution_count": null,
      "outputs": []
    },
    {
      "cell_type": "markdown",
      "metadata": {
        "id": "0rrhS4pKTT64"
      },
      "source": [
        "**Szélsőséges értékek kezelése**\n",
        "\n",
        "Egy egyszerű eljárás a szélsőséges értékek kezelésére: kihagyjuk őket. Felrajzoljuk példaként az előbbi boxplot-okat a 10l/100km-es fogyasztásnál nagyobb fogyasztásokat kihagyva."
      ]
    },
    {
      "cell_type": "code",
      "metadata": {
        "id": "nl0q6YeITCS1"
      },
      "source": [
        "plt.boxplot([ data[(data['fuel type'] =='95FS') & (data['avg.cons.']<10)]['avg.cons.'],\n",
        "              data[(data['fuel type'] =='95+')  & (data['avg.cons.']<10)]['avg.cons.'] ],\n",
        "             labels = ['95FS', '95+']);"
      ],
      "execution_count": null,
      "outputs": []
    },
    {
      "cell_type": "markdown",
      "metadata": {
        "id": "lz_xw_JdT9Tu"
      },
      "source": [
        "**Korreláció**"
      ]
    },
    {
      "cell_type": "code",
      "metadata": {
        "id": "DfmASDGUTq8u"
      },
      "source": [
        "np.corrcoef(data['starttemp'], data['endtemp'])"
      ],
      "execution_count": null,
      "outputs": []
    },
    {
      "cell_type": "markdown",
      "metadata": {
        "id": "sfh9mL-nUD6K"
      },
      "source": [
        "*12. feladat*\n",
        "\n",
        "Írja meg azt a kódot, amely megadja kiszámolja a korrelációmátrixot a sebesség és az üzemanyagfogyasztás között!"
      ]
    },
    {
      "cell_type": "code",
      "metadata": {
        "id": "m3XLldNdT_ks"
      },
      "source": [
        "# ...IDE JÖN A KÓD..."
      ],
      "execution_count": null,
      "outputs": []
    },
    {
      "cell_type": "markdown",
      "metadata": {
        "id": "88lhN9bgUi_A"
      },
      "source": [
        "**Scatterplottól a többdimenziós ábrákig**"
      ]
    },
    {
      "cell_type": "code",
      "metadata": {
        "id": "D8cekN2VUSkk"
      },
      "source": [
        "plt.scatter(data['speed'], data['avg.cons.']);"
      ],
      "execution_count": null,
      "outputs": []
    },
    {
      "cell_type": "markdown",
      "metadata": {
        "id": "hHDXmwFTU4km"
      },
      "source": [
        "A következő ábrán színekkel jelöljük a forgalmi viszonyokat, de csak azokat az eseteket ábrázoljuk, ahol a fogyasztás 10l/100km alatti"
      ]
    },
    {
      "cell_type": "code",
      "metadata": {
        "id": "-OFtrhV4UqVo"
      },
      "source": [
        "relevant_data = data[data['avg.cons.']<10]\n",
        "\n",
        "colors = []\n",
        "for tr in relevant_data['trafic']:\n",
        "    if tr == 'low':\n",
        "        colors.append('g')\n",
        "    elif tr == 'normal':\n",
        "        colors.append('b')\n",
        "    else:\n",
        "        colors.append('r')\n",
        "\n",
        "plt.scatter(relevant_data['speed'],\n",
        "            relevant_data['avg.cons.'],\n",
        "            c = colors);"
      ],
      "execution_count": null,
      "outputs": []
    },
    {
      "cell_type": "markdown",
      "metadata": {
        "id": "ID0vd9DBVfgI"
      },
      "source": [
        "*13. feladat*\n",
        "\n",
        "Hozzon létre egy új attribútumot (oszlopot), amely az átlagos hőmérsékletet (indulási és érkezéskori hőmérsékletek átlagát) tartalmazza!"
      ]
    },
    {
      "cell_type": "code",
      "metadata": {
        "id": "47UVNbTMVLpQ"
      },
      "source": [
        "data['temp'] = # ...IDE JÖN A KÓD..."
      ],
      "execution_count": null,
      "outputs": []
    },
    {
      "cell_type": "markdown",
      "metadata": {
        "id": "f_VQCx2lV_Ui"
      },
      "source": [
        "A következőkben egy 3D ábrán egyszerre fogjuk ábrázolni a sebességet, fogyasztást és a hőmérsékletet."
      ]
    },
    {
      "cell_type": "code",
      "metadata": {
        "id": "w0Q5WEPjVxFS"
      },
      "source": [
        "from mpl_toolkits.mplot3d import Axes3D\n",
        "fig = plt.figure()\n",
        "ax = fig.add_subplot(111, projection='3d')\n",
        "ax.scatter(data['speed'], data['avg.cons.'], data['temp'])\n",
        "plt.show()"
      ],
      "execution_count": null,
      "outputs": []
    },
    {
      "cell_type": "markdown",
      "metadata": {
        "id": "70aSrTd9Wm-3"
      },
      "source": [
        "\n",
        "\n",
        "...szín segítségével megjelenítjük az üzemanyag típusát:\n",
        "\n"
      ]
    },
    {
      "cell_type": "code",
      "metadata": {
        "id": "cJShuwiTWHIj"
      },
      "source": [
        "from mpl_toolkits.mplot3d import Axes3D\n",
        "fig = plt.figure()\n",
        "ax = fig.add_subplot(111, projection='3d')\n",
        "colors = []\n",
        "for i in range(len(data)):\n",
        "    if data['fuel type'][i]=='95+':\n",
        "        colors.append('r')\n",
        "    else:\n",
        "        colors.append('b')\n",
        "ax.scatter(data['speed'], data['avg.cons.'], data['temp'], c = colors)\n",
        "ax.set_xlabel('speed')\n",
        "ax.set_ylabel('avg.cons')\n",
        "ax.set_zlabel('temp')\n",
        "plt.show()"
      ],
      "execution_count": null,
      "outputs": []
    },
    {
      "cell_type": "markdown",
      "metadata": {
        "id": "ed-o9v0xXFoL"
      },
      "source": [
        "...a jelölő (marker) típusával pedig a forgalmi viszonyokat:"
      ]
    },
    {
      "cell_type": "code",
      "metadata": {
        "id": "xI2dbUIvWoaF"
      },
      "source": [
        "from mpl_toolkits.mplot3d import Axes3D\n",
        "fig = plt.figure()\n",
        "ax = fig.add_subplot(111, projection='3d')\n",
        "colors = []\n",
        "m=[]\n",
        "for i in range(len(data)):\n",
        "    if data['fuel type'][i]=='95+':\n",
        "        colors.append('r')\n",
        "    else:\n",
        "        colors.append('b')\n",
        "\n",
        "for j in range(len(data)):\n",
        "    if data['trafic'][j] =='low':\n",
        "        ax.scatter(data['speed'][j], data['avg.cons.'][j], data['temp'][j],\n",
        "           c = colors[j], marker = 'o')\n",
        "    elif data['trafic'][j] =='normal':\n",
        "        ax.scatter(data['speed'][j], data['avg.cons.'][j], data['temp'][j],\n",
        "           c = colors[j], marker = 'x')\n",
        "    else:\n",
        "        ax.scatter(data['speed'][j], data['avg.cons.'][j], data['temp'][j],\n",
        "           c = colors[j], marker = '^')\n",
        "plt.show()"
      ],
      "execution_count": null,
      "outputs": []
    },
    {
      "cell_type": "markdown",
      "metadata": {
        "id": "i8oKoRxqZtoM"
      },
      "source": [
        "**Összefoglalás**\n",
        "\n",
        "Tipikus előfeldolgozási (adattiszttítási) lépések:\n",
        "- Hiányzó értékek kezelése\n",
        "- Duplikátumok eliminálása\n",
        "- Inkonzisztens (hibás) értékek javítása\n",
        "- Adatok kiválasztása: a későbbi elemzés szempontjából lényeges sorok=példányok=rekordok kiválasztása, valamint oszlopok=attribútumok=leírók=feature-k kiválasztása, új attribútumok létrehozása (pl. 'temp'), dimenzionalitás csökkentése (pl. PCA-val, nem volt róla szó).  \n",
        "- Normalizálás (nem volt róla szó)\n",
        "- Szélsőséges értékek keresése\n",
        "\n",
        "Az előfeldolgozás közben (vagy akár előtte ill. utána is) hasznos az adatainkat ábrázolni, különféle leíró statisztikákat számolni, hogy minél jobban megértsük az adatokat.\n",
        "\n",
        "Az előfeldolgozási lépések projektről-projektre változhatnak, mindig azt használjuk, ami az adott esetben ésszerű! Nem volt szó domain-specifikus előfeldolgozáról (pl. képek esetén azonos felbontásra alakításról)."
      ]
    },
    {
      "cell_type": "code",
      "metadata": {
        "id": "xLqYoZO-XDBq"
      },
      "source": [],
      "execution_count": null,
      "outputs": []
    }
  ]
}