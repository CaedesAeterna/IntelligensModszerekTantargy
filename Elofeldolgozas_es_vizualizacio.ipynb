{
  "nbformat": 4,
  "nbformat_minor": 0,
  "metadata": {
    "colab": {
      "name": "Elofeldolgozas_es_vizualizacio.ipynb",
      "provenance": [],
      "include_colab_link": true
    },
    "kernelspec": {
      "name": "python3",
      "display_name": "Python 3"
    }
  },
  "cells": [
    {
      "cell_type": "markdown",
      "metadata": {
        "id": "view-in-github",
        "colab_type": "text"
      },
      "source": [
        "<a href=\"https://colab.research.google.com/github/CaedesAeterna/IntelligensModszerekTantargy/blob/main/Elofeldolgozas_es_vizualizacio.ipynb\" target=\"_parent\"><img src=\"https://colab.research.google.com/assets/colab-badge.svg\" alt=\"Open In Colab\"/></a>"
      ]
    },
    {
      "cell_type": "code",
      "metadata": {
        "id": "D7InELjanYBR"
      },
      "source": [
        "import matplotlib.pyplot as plt\n",
        "import matplotlib.image as img\n",
        "import pandas as pd\n",
        "import numpy as np\n",
        "import warnings\n",
        "warnings.filterwarnings('ignore')\n",
        "\n",
        "# %matplotlib inline ### most nem kell, de maskor jol johet :-)"
      ],
      "execution_count": 1,
      "outputs": []
    },
    {
      "cell_type": "markdown",
      "metadata": {
        "id": "blil-3X3pmT3"
      },
      "source": [
        "**Adatok betöltése**"
      ]
    },
    {
      "cell_type": "code",
      "metadata": {
        "id": "Qj77JJMepfpz"
      },
      "source": [
        "data = pd.read_csv('http://www.biointelligence.hu/mi/fuel_data_with_errors.txt', header=0, sep='\\t')"
      ],
      "execution_count": null,
      "outputs": []
    },
    {
      "cell_type": "code",
      "metadata": {
        "id": "vC20r_Vyppvf"
      },
      "source": [
        "data"
      ],
      "execution_count": null,
      "outputs": []
    },
    {
      "cell_type": "markdown",
      "metadata": {
        "id": "W9_WPPF2rFRX"
      },
      "source": [
        "**DataFrame oszlopai**"
      ]
    },
    {
      "cell_type": "code",
      "metadata": {
        "id": "--QsVM6Uqm9m"
      },
      "source": [
        "data['starttemp']  # egy oszlopra jol olvashatoan hivatkozhatunk az oszlop nevevel"
      ],
      "execution_count": null,
      "outputs": []
    },
    {
      "cell_type": "code",
      "metadata": {
        "id": "KRAIybRBre9E"
      },
      "source": [
        "list(data) # oszlopnevek listaja"
      ],
      "execution_count": null,
      "outputs": []
    },
    {
      "cell_type": "markdown",
      "metadata": {
        "id": "LHBXeoyQsmWS"
      },
      "source": [
        "**Hiányzó értékek (missing values)**"
      ]
    },
    {
      "cell_type": "code",
      "metadata": {
        "id": "AQ26osxUsiPZ"
      },
      "source": [
        "data['starttemp'].isnull()\n",
        "# egy DataFrame típusú True-False vektort ad.\n",
        "# Az ertek attol fuggoen True vagy False, hogy\n",
        "# az adott peldany eeseteben a cella erteke null-e\n",
        "# (azaz hianyzo ertek-e)"
      ],
      "execution_count": null,
      "outputs": []
    },
    {
      "cell_type": "code",
      "metadata": {
        "id": "HiL9duvwsuZY"
      },
      "source": [
        "data['starttemp'].isnull().sum()\n",
        "# összeadasnal: True=1, False=1\n",
        "# Igy tehat a hianyzo ertekek szamat kapjuk"
      ],
      "execution_count": null,
      "outputs": []
    },
    {
      "cell_type": "markdown",
      "metadata": {
        "id": "XD3UFEfMt4WU"
      },
      "source": [
        "*1. feladat*\n",
        "\n",
        "Írjon egy for ciklust, amely kiszámolja és kiírja a hiányzó értékek számát minden egyes attribútumra (oszlopra). A hiányzó értékek számával együtt az oszlop nevét is írja ki."
      ]
    },
    {
      "cell_type": "code",
      "metadata": {
        "id": "TLdUgthZtzAT"
      },
      "source": [
        "# ...IDE JÖN A KÓD..."
      ],
      "execution_count": null,
      "outputs": []
    },
    {
      "cell_type": "markdown",
      "metadata": {
        "id": "QxOZPlMAwdbR"
      },
      "source": [
        "*2. feladat*\n",
        "\n",
        "Készítsen másolatot az adatról, és a másolatban helyettesítse a *starttemp* oszlop hiányzó értékeit\n",
        "\n",
        "(a) a starttemp átlagos értékével,\n",
        "\n",
        "(b) a starttemp mediánjával.\n",
        "\n",
        "(c) Írjon egy for ciklust, amely az összes oszlop esetén helyettesíti a hiányzó értékeket az adott oszlop átlagával, ahol ez lehetséges!"
      ]
    },
    {
      "cell_type": "code",
      "metadata": {
        "id": "6aGU_70_ybYn"
      },
      "source": [
        "# ...IDE JÖN A KÓD..."
      ],
      "execution_count": null,
      "outputs": []
    },
    {
      "cell_type": "code",
      "metadata": {
        "id": "gvAu05EMymqO"
      },
      "source": [
        "# ...IDE JÖN A KÓD..."
      ],
      "execution_count": null,
      "outputs": []
    },
    {
      "cell_type": "code",
      "metadata": {
        "id": "N2nrJAH9zKPo"
      },
      "source": [
        "# ...IDE JÖN A KÓD..."
      ],
      "execution_count": null,
      "outputs": []
    },
    {
      "cell_type": "markdown",
      "metadata": {
        "id": "oxPTYwfMLDeb"
      },
      "source": [
        "A következőkben egy diagramon fogjuk ábrázolni az egyes utazások esetében az induláskori és érkezéskori hőmérsékletet. Csak azokat az utazásokat fogjuk használni, ahol az eredeti adatban mind a két hőmérsékleti érték adott. Először a scatterplottal ismerkedünk."
      ]
    },
    {
      "cell_type": "code",
      "metadata": {
        "id": "ZIBg9rC8K4RD"
      },
      "source": [
        "# 1 2\n",
        "# 4 3\n",
        "# 10 8\n",
        "# 15 9\n",
        "x = [1, 4, 10, 15]\n",
        "y = [2, 3, 8, 9]\n",
        "plt.scatter(x,y);"
      ],
      "execution_count": null,
      "outputs": []
    },
    {
      "cell_type": "code",
      "metadata": {
        "id": "jNqT0w42J24_"
      },
      "source": [
        "both_values_present = np.logical_and(data['starttemp'].isnull()==False,\n",
        "                                     data['endtemp'].isnull()==False)\n",
        "both_values_valid = np.logical_and(both_values_present, data['endtemp'] < 100)\n",
        "plt.scatter( data[both_values_valid]['starttemp'],\n",
        "            data[both_values_valid]['endtemp'] )\n",
        "plt.show()"
      ],
      "execution_count": null,
      "outputs": []
    },
    {
      "cell_type": "markdown",
      "metadata": {
        "id": "SiSOcqdBNI20"
      },
      "source": [
        "*3. feladat*\n",
        "\n",
        "Az érkezéskori hőmérséklet jobb becslés lehet az indulási hőmérsékletre, mint az összes induláskori hőmérséklet átlaga, és fordítva: amikor az érkezéskori hőmérséklet hiányzik, az induláskori hőmérséklet lehet egy jó becslés.\n",
        "\n",
        "(a) Írjon egy olyan kódot, amely ellenőrzi, hogy van-e olyan eset, amikor egyszerre hiányzik az induláskori és érkezéskori hőmérséklet!\n",
        "\n",
        "(b) Amikor az **indulási** hőmérséklet hiányzik, helyettesítse azt az érkezéskori hőmérséklettel!\n",
        "\n",
        "(c) Amikor csak az **érkezéskori** hőmérséklet hiányzik, helyettesítse azt az induláskori hőmérséklettel!\n"
      ]
    },
    {
      "cell_type": "markdown",
      "metadata": {
        "id": "6zX590J5O8dR"
      },
      "source": []
    },
    {
      "cell_type": "code",
      "metadata": {
        "id": "lBWWVmBJLYKH"
      },
      "source": [
        "# ...IDE JÖN A KÓD..."
      ],
      "execution_count": null,
      "outputs": []
    },
    {
      "cell_type": "code",
      "metadata": {
        "id": "zi7W2JF0Ngxy"
      },
      "source": [
        "# ...IDE JÖN A KÓD..."
      ],
      "execution_count": null,
      "outputs": []
    },
    {
      "cell_type": "markdown",
      "metadata": {
        "id": "nddHXHwIQa_Y"
      },
      "source": [
        "*4. feladat*\n",
        "\n",
        "Lehetséges, hogy az indulási és érkezéskori hőmérséklet különbsége összefügg azzal, hogy mikor kerül sor az utazásra (reggel nagyobb az érkezéskori hőmérséklet, este pedig kisebb). A következőkben ezt fogjuk megvizsgálni.\n",
        "\n",
        "(a) Vezessen be egy új oszlopot, ami a két hőmérséklet különbségét tartalmazza."
      ]
    },
    {
      "cell_type": "code",
      "metadata": {
        "id": "llsxAi1hOkUs"
      },
      "source": [
        "# ...IDE JÖN A KÓD..."
      ],
      "execution_count": null,
      "outputs": []
    },
    {
      "cell_type": "markdown",
      "metadata": {
        "id": "6oWXKEPCRGnV"
      },
      "source": [
        "(b) Vezessen be egy új oszlopot, ami azt tartalmazza számként, hogy a nap melyik órájában kerül sor az utazásra! Ezt az információt a *starttime* oszlopban található string első két karakteréből \"hámozza ki\"."
      ]
    },
    {
      "cell_type": "code",
      "metadata": {
        "id": "0KZVeuF1RFW4"
      },
      "source": [
        "# ...IDE JÖN A KÓD..."
      ],
      "execution_count": null,
      "outputs": []
    },
    {
      "cell_type": "markdown",
      "metadata": {
        "id": "vN-Dw_W8Rkuk"
      },
      "source": [
        "A következőkben csoportosítjuk az egyes utazásokat aszerint, hogy a nap melyik órájában kerül sor az utazásra, majd csoportonként kiszámoljuk az előbbiekben bevezetett *temp_diff* mediánját, amelyet az óra függvényében ábrázolunk."
      ]
    },
    {
      "cell_type": "code",
      "metadata": {
        "id": "Xf_S_f_gRjvl"
      },
      "source": [
        "# ...IDE JÖN A KÓD..."
      ],
      "execution_count": null,
      "outputs": []
    },
    {
      "cell_type": "markdown",
      "metadata": {
        "id": "7tjT4knTSuCD"
      },
      "source": [
        "*5. feladat*\n",
        "\n",
        "(a) Helyettesítse a **starttemp** hiányzó értékeit az **endtemp** hozzátartozó értékével úgy, hogy közben korrigál a két hőmérséklet közötti \"szokásos\" különbséggel (az előbb kiszámolt mediánnal)!"
      ]
    },
    {
      "cell_type": "code",
      "metadata": {
        "id": "5bMkr9csRc7t"
      },
      "source": [
        "# ...IDE JÖN A KÓD..."
      ],
      "execution_count": null,
      "outputs": []
    },
    {
      "cell_type": "markdown",
      "metadata": {
        "id": "9bTdPx_oTblV"
      },
      "source": [
        "(b) Helyettesítse az **endtemp** hiányzó értékeit a **starttemp** hozzátartozó értékével úgy, hogy közben korrigál a két hőmérséklet közötti \"szokásos\" különbséggel (az előbb kiszámolt mediánnal)! Miben különbözik a megoldás az előbbi részfeladat megoldásától?"
      ]
    },
    {
      "cell_type": "code",
      "metadata": {
        "id": "I21DuW54TZ5L"
      },
      "source": [
        "# ...IDE JÖN A KÓD..."
      ],
      "execution_count": null,
      "outputs": []
    },
    {
      "cell_type": "markdown",
      "metadata": {
        "id": "6G9clgWqUPfW"
      },
      "source": [
        "*6. feladat*\n",
        "\n",
        "Diszkusszió: hogyan töltené ki a távolság hiányzó értékét?"
      ]
    },
    {
      "cell_type": "code",
      "metadata": {
        "id": "1UGZWYPIVB0T"
      },
      "source": [
        "# ...IDE JÖN A KÓD..."
      ],
      "execution_count": null,
      "outputs": []
    },
    {
      "cell_type": "markdown",
      "metadata": {
        "id": "4K0mjCJ2sr3o"
      },
      "source": [
        "**Duplikátumok keresése**"
      ]
    },
    {
      "cell_type": "markdown",
      "metadata": {
        "id": "5BL_e7rFsykH"
      },
      "source": [
        "*7. feladat*\n",
        "\n",
        "Az úgynevezett **egzakt duplikátumok** (amikor pontosan ugyanaz a példány/rekord ismétlődik) eliminálása tipikusan két lépésben történik: az első lépésben az adatokat rendezzük, ezáltal a duplikátumok egymást követően helyezkednek el az adattáblában. A második lépésben az egymást követő példányokról döntjük el, hogy azonosak-e.\n",
        "Az esetünkben az adattábla eredetileg is rendezett.\n",
        "\n",
        "(a) Írjon egy olyan függvényt, amely az adattábla *i*-dik példányáról (*i* a függvény argumentuma) eldönti, hogy azonos-e az *(i+1)*-dik példánnyal."
      ]
    },
    {
      "cell_type": "code",
      "metadata": {
        "id": "fyaMDGCEUfLF"
      },
      "source": [
        "# ...IDE JÖN A KÓD..."
      ],
      "execution_count": null,
      "outputs": []
    },
    {
      "cell_type": "markdown",
      "metadata": {
        "id": "E7uAKzhUuMOz"
      },
      "source": [
        "(b) Az előbbi függvény felhasználásával írjon egy olyan szkriptet, amely az adattábla minden egyes példányáról eldönti, hogy megtartantó-e, azaz különbözik-e a következő példánytól. Eredményként egy True/False értékekből álló listát várunk, amelyben True azt jelöli, hogy a példányt megtartjuk, False pedig azt, hogy eldobjuk, mert egy másik példány azonos vele."
      ]
    },
    {
      "cell_type": "code",
      "metadata": {
        "id": "SWJYjEkWuKYG"
      },
      "source": [
        "# ...IDE JÖN A KÓD..."
      ],
      "execution_count": null,
      "outputs": []
    },
    {
      "cell_type": "markdown",
      "metadata": {
        "id": "XoDr69gSvqZt"
      },
      "source": [
        "A deduplikált adattábla:"
      ]
    },
    {
      "cell_type": "code",
      "metadata": {
        "id": "F-IyCYdnvDRE"
      },
      "source": [
        "data_dedup = pd.DataFrame(data[keep])\n",
        "data_dedup"
      ],
      "execution_count": null,
      "outputs": []
    },
    {
      "cell_type": "markdown",
      "metadata": {
        "id": "6sJEVz93xPjP"
      },
      "source": [
        "**Inkonzisztens értékek**"
      ]
    },
    {
      "cell_type": "markdown",
      "metadata": {
        "id": "7KbX5nIbxF48"
      },
      "source": [
        "*8. feladat*\n",
        "\n",
        "(a) Vizsgálja meg, hogy az adattábla *air conditioner* oszlopa milyen értékeket vesz fel, melyiket hányszor. Segítség: használjon *groupby*-t és *count*-ot!"
      ]
    },
    {
      "cell_type": "code",
      "metadata": {
        "id": "u40Y5ynywqLN"
      },
      "source": [
        "# ...IDE JÖN A KÓD..."
      ],
      "execution_count": null,
      "outputs": []
    },
    {
      "cell_type": "markdown",
      "metadata": {
        "id": "-hGgGgRrx7a1"
      },
      "source": [
        "(b) Helyettesítse az \"offf\" értékeket \"off\"-fal!"
      ]
    },
    {
      "cell_type": "code",
      "metadata": {
        "id": "-STdUNFdxuzO"
      },
      "source": [
        "# ...IDE JÖN A KÓD..."
      ],
      "execution_count": null,
      "outputs": []
    },
    {
      "cell_type": "markdown",
      "metadata": {
        "id": "0yeXxkd4yWGJ"
      },
      "source": [
        "(c) Helyettesítse az \"onn\" értékeket \"on\"-nal!"
      ]
    },
    {
      "cell_type": "code",
      "metadata": {
        "id": "n50c711cyvhN"
      },
      "source": [
        "# ...IDE JÖN A KÓD..."
      ],
      "execution_count": null,
      "outputs": []
    },
    {
      "cell_type": "markdown",
      "metadata": {
        "id": "-WhtJN-uycKM"
      },
      "source": [
        "(d) Helyettesítse az \"oof\" értékeket \"off\"-fal!"
      ]
    },
    {
      "cell_type": "code",
      "metadata": {
        "id": "e-T332NUyi8A"
      },
      "source": [
        "# ...IDE JÖN A KÓD..."
      ],
      "execution_count": null,
      "outputs": []
    },
    {
      "cell_type": "markdown",
      "metadata": {
        "id": "ZQvcBg0Xy1d5"
      },
      "source": [
        "**Leíró statisztikák**"
      ]
    },
    {
      "cell_type": "markdown",
      "metadata": {
        "id": "uS-FekZw41qR"
      },
      "source": [
        "Betöltjük a helyes adatokat:"
      ]
    },
    {
      "cell_type": "code",
      "metadata": {
        "id": "QharNtsA40bZ"
      },
      "source": [
        "data = pd.read_csv('http://www.biointelligence.hu/mi/fuel_data.txt', header=0, sep='\\t')"
      ],
      "execution_count": null,
      "outputs": []
    },
    {
      "cell_type": "markdown",
      "metadata": {
        "id": "tbcp1vQU55o1"
      },
      "source": [
        "*9. feladat*\n",
        "\n",
        "Számolja ki a kezdeti hőmérséklet\n",
        "\n",
        "(a) minimumát és maximumát,\n",
        "\n",
        "(b) 25%-os és 75%-os percentiliseit,\n",
        "\n",
        "(c) és szórását!\n",
        "\n",
        "(d) Írjon egy függvényt, amellyel bármelyik oszlop amplitúdója (maximumának és\n",
        "    minimumának különbsége) meghatározható!\n",
        "\n",
        "(e) Írjon egy függvényt, amely meghatározza az alsó és felső kvartilisek távolságát!\n",
        "\n",
        "(Segítség: használja a numpy függvényeit!)"
      ]
    },
    {
      "cell_type": "code",
      "metadata": {
        "id": "uqqPv6Y74_Df"
      },
      "source": [
        "# ...IDE JÖN A KÓD..."
      ],
      "execution_count": null,
      "outputs": []
    },
    {
      "cell_type": "code",
      "metadata": {
        "id": "VxR0t-CO5_GQ"
      },
      "source": [
        "# ...IDE JÖN A KÓD..."
      ],
      "execution_count": null,
      "outputs": []
    },
    {
      "cell_type": "code",
      "metadata": {
        "id": "tsmWYGea6CNS"
      },
      "source": [
        "# ...IDE JÖN A KÓD..."
      ],
      "execution_count": null,
      "outputs": []
    },
    {
      "cell_type": "code",
      "metadata": {
        "id": "4ecZc0AZ6Hox"
      },
      "source": [
        "# ...IDE JÖN A KÓD..."
      ],
      "execution_count": null,
      "outputs": []
    },
    {
      "cell_type": "code",
      "metadata": {
        "id": "Hf6cXOTl6Pym"
      },
      "source": [
        "# ...IDE JÖN A KÓD..."
      ],
      "execution_count": null,
      "outputs": []
    },
    {
      "cell_type": "code",
      "metadata": {
        "id": "5XNlOzkx6eOX"
      },
      "source": [
        "# ...IDE JÖN A KÓD..."
      ],
      "execution_count": null,
      "outputs": []
    },
    {
      "cell_type": "markdown",
      "metadata": {
        "id": "9WeBQGpA72TP"
      },
      "source": [
        "**Diagramok**"
      ]
    },
    {
      "cell_type": "code",
      "metadata": {
        "id": "5JNTjrey7JLh"
      },
      "source": [
        "data[\"starttemp\"].hist();"
      ],
      "execution_count": null,
      "outputs": []
    },
    {
      "cell_type": "markdown",
      "metadata": {
        "id": "gFfEZnAI8Pk9"
      },
      "source": [
        "*10. feladat*\n",
        "\n",
        "A \"pandas DataFrame\" dokumentációját és/vagy interneten elérhető forrásokat felhasználva módosítsa az előbbi kódot úgy, hogy a hisztogram oszlopainak száma ne 10, hanem 20 legyen!"
      ]
    },
    {
      "cell_type": "code",
      "metadata": {
        "id": "tdPlaZai76nC"
      },
      "source": [
        "# ...IDE JÖN A KÓD..."
      ],
      "execution_count": null,
      "outputs": []
    },
    {
      "cell_type": "markdown",
      "metadata": {
        "id": "oXGdV-iv89gm"
      },
      "source": [
        "*11. feladat*\n",
        "\n",
        "Határozza meg, hány esetben volt a légkondi\n",
        "\n",
        "(a) bekapcsolva (ac_on), illetve\n",
        "\n",
        "(b) kikapcsolva (ac_off)."
      ]
    },
    {
      "cell_type": "code",
      "metadata": {
        "id": "UqIq7rpL8pYj"
      },
      "source": [
        "# ...IDE JÖN A KÓD..."
      ],
      "execution_count": null,
      "outputs": []
    },
    {
      "cell_type": "code",
      "metadata": {
        "id": "HvYqfZ7Z9Lvf"
      },
      "source": [
        "# ...IDE JÖN A KÓD..."
      ],
      "execution_count": null,
      "outputs": []
    },
    {
      "cell_type": "markdown",
      "metadata": {
        "id": "O8I4rDCG9d-f"
      },
      "source": [
        "A következőkben a légkondi ki- és bekapcsoltságát fogjuk különböző diagramokon ábrázolni."
      ]
    },
    {
      "cell_type": "code",
      "metadata": {
        "id": "4IQM7AzS9buO"
      },
      "source": [
        "plt.bar([2,1], [ac_on, ac_off], tick_label=[\"bekapcs\",\"kikapcs\"], color=[\"b\",\"g\"]);\n",
        "\n",
        "# plt.show() # most nem kell, de máskor jól jöhet :-)"
      ],
      "execution_count": null,
      "outputs": []
    },
    {
      "cell_type": "code",
      "metadata": {
        "id": "zKDM8EKu-Aap"
      },
      "source": [
        "plt.pie( [ac_on, ac_off], labels=[\"on\", \"off\"]);"
      ],
      "execution_count": null,
      "outputs": []
    },
    {
      "cell_type": "markdown",
      "metadata": {
        "id": "CG-eNBDqRitB"
      },
      "source": [
        "Kezdőhőmérséklet eloszlása boxplot-on:\n",
        "\n",
        "- középső vonal: median\n",
        "- doboz teteje: felso kvartilis (75%-os percentilis)\n",
        "- doboz alja: also kvartilis (25%-os percentilis)\n",
        "- felső vonal: median + 1.5*(interquartile range), de legfeljebb a legnagyobb érték\n",
        "- alsó vonal: median - 1.5*(interquartile range), de nem kisebb a legkisebb értéknél\n",
        "- outlierek: karikák az alsó és felső vonal alatt ill. felett\n",
        "- alsó és felső vonalnál az 1.5-ös szorzó állítható, ld. https://matplotlib.org/stable/api/_as_gen/matplotlib.pyplot.boxplot.html\n",
        "\n"
      ]
    },
    {
      "cell_type": "code",
      "metadata": {
        "id": "c8RwaluV-aeD"
      },
      "source": [
        "plt.boxplot(data['starttemp'], notch=True);"
      ],
      "execution_count": null,
      "outputs": []
    },
    {
      "cell_type": "code",
      "metadata": {
        "id": "Nk3aNFQ2QdNe"
      },
      "source": [
        "plt.boxplot([ data[data['fuel type'] =='95FS']['avg.cons.'],\n",
        "              data[data['fuel type'] =='95+']['avg.cons.'] ],\n",
        "              labels = ['95FS', '95+']);"
      ],
      "execution_count": null,
      "outputs": []
    },
    {
      "cell_type": "markdown",
      "metadata": {
        "id": "0rrhS4pKTT64"
      },
      "source": [
        "**Szélsőséges értékek kezelése**\n",
        "\n",
        "Egy egyszerű eljárás a szélsőséges értékek kezelésére: kihagyjuk őket. Felrajzoljuk példaként az előbbi boxplot-okat a 10l/100km-es fogyasztásnál nagyobb fogyasztásokat kihagyva."
      ]
    },
    {
      "cell_type": "code",
      "metadata": {
        "id": "nl0q6YeITCS1"
      },
      "source": [
        "plt.boxplot([ data[(data['fuel type'] =='95FS') & (data['avg.cons.']<10)]['avg.cons.'],\n",
        "              data[(data['fuel type'] =='95+')  & (data['avg.cons.']<10)]['avg.cons.'] ],\n",
        "             labels = ['95FS', '95+']);"
      ],
      "execution_count": null,
      "outputs": []
    },
    {
      "cell_type": "markdown",
      "metadata": {
        "id": "lz_xw_JdT9Tu"
      },
      "source": [
        "**Korreláció**"
      ]
    },
    {
      "cell_type": "code",
      "metadata": {
        "id": "DfmASDGUTq8u"
      },
      "source": [
        "np.corrcoef(data['starttemp'], data['endtemp'])"
      ],
      "execution_count": null,
      "outputs": []
    },
    {
      "cell_type": "markdown",
      "metadata": {
        "id": "sfh9mL-nUD6K"
      },
      "source": [
        "*12. feladat*\n",
        "\n",
        "Írja meg azt a kódot, amely megadja kiszámolja a korrelációmátrixot a sebesség és az üzemanyagfogyasztás között!"
      ]
    },
    {
      "cell_type": "code",
      "metadata": {
        "id": "m3XLldNdT_ks"
      },
      "source": [
        "# ...IDE JÖN A KÓD..."
      ],
      "execution_count": null,
      "outputs": []
    },
    {
      "cell_type": "markdown",
      "metadata": {
        "id": "88lhN9bgUi_A"
      },
      "source": [
        "**Scatterplottól a többdimenziós ábrákig**"
      ]
    },
    {
      "cell_type": "code",
      "metadata": {
        "id": "D8cekN2VUSkk"
      },
      "source": [
        "plt.scatter(data['speed'], data['avg.cons.']);"
      ],
      "execution_count": null,
      "outputs": []
    },
    {
      "cell_type": "markdown",
      "metadata": {
        "id": "hHDXmwFTU4km"
      },
      "source": [
        "A következő ábrán színekkel jelöljük a forgalmi viszonyokat, de csak azokat az eseteket ábrázoljuk, ahol a fogyasztás 10l/100km alatti"
      ]
    },
    {
      "cell_type": "code",
      "metadata": {
        "id": "-OFtrhV4UqVo"
      },
      "source": [
        "relevant_data = data[data['avg.cons.']<10]\n",
        "\n",
        "colors = []\n",
        "for tr in relevant_data['trafic']:\n",
        "    if tr == 'low':\n",
        "        colors.append('g')\n",
        "    elif tr == 'normal':\n",
        "        colors.append('b')\n",
        "    else:\n",
        "        colors.append('r')\n",
        "\n",
        "plt.scatter(relevant_data['speed'],\n",
        "            relevant_data['avg.cons.'],\n",
        "            c = colors);"
      ],
      "execution_count": null,
      "outputs": []
    },
    {
      "cell_type": "markdown",
      "metadata": {
        "id": "ID0vd9DBVfgI"
      },
      "source": [
        "*13. feladat*\n",
        "\n",
        "Hozzon létre egy új attribútumot (oszlopot), amely az átlagos hőmérsékletet (indulási és érkezéskori hőmérsékletek átlagát) tartalmazza!"
      ]
    },
    {
      "cell_type": "code",
      "metadata": {
        "id": "47UVNbTMVLpQ"
      },
      "source": [
        "data['temp'] = # ...IDE JÖN A KÓD..."
      ],
      "execution_count": null,
      "outputs": []
    },
    {
      "cell_type": "markdown",
      "metadata": {
        "id": "f_VQCx2lV_Ui"
      },
      "source": [
        "A következőkben egy 3D ábrán egyszerre fogjuk ábrázolni a sebességet, fogyasztást és a hőmérsékletet."
      ]
    },
    {
      "cell_type": "code",
      "metadata": {
        "id": "w0Q5WEPjVxFS"
      },
      "source": [
        "from mpl_toolkits.mplot3d import Axes3D\n",
        "fig = plt.figure()\n",
        "ax = fig.add_subplot(111, projection='3d')\n",
        "ax.scatter(data['speed'], data['avg.cons.'], data['temp'])\n",
        "plt.show()"
      ],
      "execution_count": null,
      "outputs": []
    },
    {
      "cell_type": "markdown",
      "metadata": {
        "id": "70aSrTd9Wm-3"
      },
      "source": [
        "\n",
        "\n",
        "...szín segítségével megjelenítjük az üzemanyag típusát:\n",
        "\n"
      ]
    },
    {
      "cell_type": "code",
      "metadata": {
        "id": "cJShuwiTWHIj"
      },
      "source": [
        "from mpl_toolkits.mplot3d import Axes3D\n",
        "fig = plt.figure()\n",
        "ax = fig.add_subplot(111, projection='3d')\n",
        "colors = []\n",
        "for i in range(len(data)):\n",
        "    if data['fuel type'][i]=='95+':\n",
        "        colors.append('r')\n",
        "    else:\n",
        "        colors.append('b')\n",
        "ax.scatter(data['speed'], data['avg.cons.'], data['temp'], c = colors)\n",
        "ax.set_xlabel('speed')\n",
        "ax.set_ylabel('avg.cons')\n",
        "ax.set_zlabel('temp')\n",
        "plt.show()"
      ],
      "execution_count": null,
      "outputs": []
    },
    {
      "cell_type": "markdown",
      "metadata": {
        "id": "ed-o9v0xXFoL"
      },
      "source": [
        "...a jelölő (marker) típusával pedig a forgalmi viszonyokat:"
      ]
    },
    {
      "cell_type": "code",
      "metadata": {
        "id": "xI2dbUIvWoaF"
      },
      "source": [
        "from mpl_toolkits.mplot3d import Axes3D\n",
        "fig = plt.figure()\n",
        "ax = fig.add_subplot(111, projection='3d')\n",
        "colors = []\n",
        "m=[]\n",
        "for i in range(len(data)):\n",
        "    if data['fuel type'][i]=='95+':\n",
        "        colors.append('r')\n",
        "    else:\n",
        "        colors.append('b')\n",
        "\n",
        "for j in range(len(data)):\n",
        "    if data['trafic'][j] =='low':\n",
        "        ax.scatter(data['speed'][j], data['avg.cons.'][j], data['temp'][j],\n",
        "           c = colors[j], marker = 'o')\n",
        "    elif data['trafic'][j] =='normal':\n",
        "        ax.scatter(data['speed'][j], data['avg.cons.'][j], data['temp'][j],\n",
        "           c = colors[j], marker = 'x')\n",
        "    else:\n",
        "        ax.scatter(data['speed'][j], data['avg.cons.'][j], data['temp'][j],\n",
        "           c = colors[j], marker = '^')\n",
        "plt.show()"
      ],
      "execution_count": null,
      "outputs": []
    },
    {
      "cell_type": "markdown",
      "metadata": {
        "id": "i8oKoRxqZtoM"
      },
      "source": [
        "**Összefoglalás**\n",
        "\n",
        "Tipikus előfeldolgozási (adattiszttítási) lépések:\n",
        "- Hiányzó értékek kezelése\n",
        "- Duplikátumok eliminálása\n",
        "- Inkonzisztens (hibás) értékek javítása\n",
        "- Adatok kiválasztása: a későbbi elemzés szempontjából lényeges sorok=példányok=rekordok kiválasztása, valamint oszlopok=attribútumok=leírók=feature-k kiválasztása, új attribútumok létrehozása (pl. 'temp'), dimenzionalitás csökkentése (pl. PCA-val, nem volt róla szó).  \n",
        "- Normalizálás (nem volt róla szó)\n",
        "- Szélsőséges értékek keresése\n",
        "\n",
        "Az előfeldolgozás közben (vagy akár előtte ill. utána is) hasznos az adatainkat ábrázolni, különféle leíró statisztikákat számolni, hogy minél jobban megértsük az adatokat.\n",
        "\n",
        "Az előfeldolgozási lépések projektről-projektre változhatnak, mindig azt használjuk, ami az adott esetben ésszerű! Nem volt szó domain-specifikus előfeldolgozáról (pl. képek esetén azonos felbontásra alakításról)."
      ]
    },
    {
      "cell_type": "code",
      "metadata": {
        "id": "xLqYoZO-XDBq"
      },
      "source": [],
      "execution_count": null,
      "outputs": []
    }
  ]
}