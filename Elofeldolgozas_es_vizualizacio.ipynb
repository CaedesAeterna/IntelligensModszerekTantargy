{
  "nbformat": 4,
  "nbformat_minor": 0,
  "metadata": {
    "colab": {
      "name": "Elofeldolgozas_es_vizualizacio.ipynb",
      "provenance": [],
      "include_colab_link": true
    },
    "kernelspec": {
      "name": "python3",
      "display_name": "Python 3"
    }
  },
  "cells": [
    {
      "cell_type": "markdown",
      "metadata": {
        "id": "view-in-github",
        "colab_type": "text"
      },
      "source": [
        "<a href=\"https://colab.research.google.com/github/CaedesAeterna/IntelligensModszerekTantargy/blob/main/Elofeldolgozas_es_vizualizacio.ipynb\" target=\"_parent\"><img src=\"https://colab.research.google.com/assets/colab-badge.svg\" alt=\"Open In Colab\"/></a>"
      ]
    },
    {
      "cell_type": "code",
      "metadata": {
        "id": "D7InELjanYBR"
      },
      "source": [
        "import matplotlib.pyplot as plt\n",
        "import matplotlib.image as img\n",
        "import pandas as pd\n",
        "import numpy as np\n",
        "import warnings\n",
        "warnings.filterwarnings('ignore')\n",
        "\n",
        "# %matplotlib inline ### most nem kell, de maskor jol johet :-)"
      ],
      "execution_count": 1,
      "outputs": []
    },
    {
      "cell_type": "markdown",
      "metadata": {
        "id": "blil-3X3pmT3"
      },
      "source": [
        "**Adatok betöltése**"
      ]
    },
    {
      "cell_type": "code",
      "metadata": {
        "id": "Qj77JJMepfpz"
      },
      "source": [
        "data = pd.read_csv('http://www.biointelligence.hu/mi/fuel_data_with_errors.txt', header=0, sep='\\t')"
      ],
      "execution_count": 2,
      "outputs": []
    },
    {
      "cell_type": "code",
      "metadata": {
        "id": "vC20r_Vyppvf",
        "colab": {
          "base_uri": "https://localhost:8080/",
          "height": 424
        },
        "outputId": "f93defa2-47d9-4f28-9a4b-6807a6a0eae8"
      },
      "source": [
        "data"
      ],
      "execution_count": 3,
      "outputs": [
        {
          "output_type": "execute_result",
          "data": {
            "text/plain": [
              "           date starttime endtime  starttemp  endtemp air conditioner  trafic  \\\n",
              "0    2018.06.03     00:03   01:16       17.0     15.0             off     low   \n",
              "1    2018.06.03     08:20   09:29       19.0     24.0             off     low   \n",
              "2    2018.06.03     13:00   15:00       30.0     28.0              on  normal   \n",
              "3    2018.06.04     15:30   16:30       29.0     28.0              on  normal   \n",
              "4    2018.06.04     18:18   19:10       30.0     25.0              on  normal   \n",
              "..          ...       ...     ...        ...      ...             ...     ...   \n",
              "98   2018.09.03     22:00   22:55       21.0     19.0             off  normal   \n",
              "99   2018.09.04     06:42   07:55       16.0     17.0             off  normal   \n",
              "100  2018.09.04     20:00   21:10       17.0     16.0             off     low   \n",
              "101  2018.09.05     08:15   09:25       15.0     20.0             off  normal   \n",
              "102  2018.09.05     20:50   21:52       21.0     19.0             off     low   \n",
              "\n",
              "           route  dist  avg.cons.  speed duration fuel type      road  \\\n",
              "0        bp-dujv  69.8        4.5     57    01:13       95+  standard   \n",
              "1        dujv-bp  68.6        4.6     59    01:09       95+  standard   \n",
              "2        bp-dujv  79.5        6.0     47    01:40       95+  standard   \n",
              "3    dujv-szelid  45.2        4.3     56    00:48       95+  standard   \n",
              "4    szelid-dujv  47.5        4.7     57    00:49       95+  standard   \n",
              "..           ...   ...        ...    ...      ...       ...       ...   \n",
              "98       bp-dujv  68.2        5.3     78    00:52       95+   highway   \n",
              "99       dujv-bp  69.1        4.5     58    01:10       95+   highway   \n",
              "100      bp-dujv  71.6        4.5     65    01:05       95+   highway   \n",
              "101      dujv-bp  71.7        4.7     62    01:09       95+   highway   \n",
              "102      bp-dujv  71.6        4.8     73    00:58       95+   highway   \n",
              "\n",
              "     num. persons  \n",
              "0               1  \n",
              "1               2  \n",
              "2               3  \n",
              "3               1  \n",
              "4               1  \n",
              "..            ...  \n",
              "98              1  \n",
              "99              1  \n",
              "100             1  \n",
              "101             1  \n",
              "102             1  \n",
              "\n",
              "[103 rows x 15 columns]"
            ],
            "text/html": [
              "\n",
              "  <div id=\"df-d35e3930-16d8-4006-b3b0-15462b1d5be7\" class=\"colab-df-container\">\n",
              "    <div>\n",
              "<style scoped>\n",
              "    .dataframe tbody tr th:only-of-type {\n",
              "        vertical-align: middle;\n",
              "    }\n",
              "\n",
              "    .dataframe tbody tr th {\n",
              "        vertical-align: top;\n",
              "    }\n",
              "\n",
              "    .dataframe thead th {\n",
              "        text-align: right;\n",
              "    }\n",
              "</style>\n",
              "<table border=\"1\" class=\"dataframe\">\n",
              "  <thead>\n",
              "    <tr style=\"text-align: right;\">\n",
              "      <th></th>\n",
              "      <th>date</th>\n",
              "      <th>starttime</th>\n",
              "      <th>endtime</th>\n",
              "      <th>starttemp</th>\n",
              "      <th>endtemp</th>\n",
              "      <th>air conditioner</th>\n",
              "      <th>trafic</th>\n",
              "      <th>route</th>\n",
              "      <th>dist</th>\n",
              "      <th>avg.cons.</th>\n",
              "      <th>speed</th>\n",
              "      <th>duration</th>\n",
              "      <th>fuel type</th>\n",
              "      <th>road</th>\n",
              "      <th>num. persons</th>\n",
              "    </tr>\n",
              "  </thead>\n",
              "  <tbody>\n",
              "    <tr>\n",
              "      <th>0</th>\n",
              "      <td>2018.06.03</td>\n",
              "      <td>00:03</td>\n",
              "      <td>01:16</td>\n",
              "      <td>17.0</td>\n",
              "      <td>15.0</td>\n",
              "      <td>off</td>\n",
              "      <td>low</td>\n",
              "      <td>bp-dujv</td>\n",
              "      <td>69.8</td>\n",
              "      <td>4.5</td>\n",
              "      <td>57</td>\n",
              "      <td>01:13</td>\n",
              "      <td>95+</td>\n",
              "      <td>standard</td>\n",
              "      <td>1</td>\n",
              "    </tr>\n",
              "    <tr>\n",
              "      <th>1</th>\n",
              "      <td>2018.06.03</td>\n",
              "      <td>08:20</td>\n",
              "      <td>09:29</td>\n",
              "      <td>19.0</td>\n",
              "      <td>24.0</td>\n",
              "      <td>off</td>\n",
              "      <td>low</td>\n",
              "      <td>dujv-bp</td>\n",
              "      <td>68.6</td>\n",
              "      <td>4.6</td>\n",
              "      <td>59</td>\n",
              "      <td>01:09</td>\n",
              "      <td>95+</td>\n",
              "      <td>standard</td>\n",
              "      <td>2</td>\n",
              "    </tr>\n",
              "    <tr>\n",
              "      <th>2</th>\n",
              "      <td>2018.06.03</td>\n",
              "      <td>13:00</td>\n",
              "      <td>15:00</td>\n",
              "      <td>30.0</td>\n",
              "      <td>28.0</td>\n",
              "      <td>on</td>\n",
              "      <td>normal</td>\n",
              "      <td>bp-dujv</td>\n",
              "      <td>79.5</td>\n",
              "      <td>6.0</td>\n",
              "      <td>47</td>\n",
              "      <td>01:40</td>\n",
              "      <td>95+</td>\n",
              "      <td>standard</td>\n",
              "      <td>3</td>\n",
              "    </tr>\n",
              "    <tr>\n",
              "      <th>3</th>\n",
              "      <td>2018.06.04</td>\n",
              "      <td>15:30</td>\n",
              "      <td>16:30</td>\n",
              "      <td>29.0</td>\n",
              "      <td>28.0</td>\n",
              "      <td>on</td>\n",
              "      <td>normal</td>\n",
              "      <td>dujv-szelid</td>\n",
              "      <td>45.2</td>\n",
              "      <td>4.3</td>\n",
              "      <td>56</td>\n",
              "      <td>00:48</td>\n",
              "      <td>95+</td>\n",
              "      <td>standard</td>\n",
              "      <td>1</td>\n",
              "    </tr>\n",
              "    <tr>\n",
              "      <th>4</th>\n",
              "      <td>2018.06.04</td>\n",
              "      <td>18:18</td>\n",
              "      <td>19:10</td>\n",
              "      <td>30.0</td>\n",
              "      <td>25.0</td>\n",
              "      <td>on</td>\n",
              "      <td>normal</td>\n",
              "      <td>szelid-dujv</td>\n",
              "      <td>47.5</td>\n",
              "      <td>4.7</td>\n",
              "      <td>57</td>\n",
              "      <td>00:49</td>\n",
              "      <td>95+</td>\n",
              "      <td>standard</td>\n",
              "      <td>1</td>\n",
              "    </tr>\n",
              "    <tr>\n",
              "      <th>...</th>\n",
              "      <td>...</td>\n",
              "      <td>...</td>\n",
              "      <td>...</td>\n",
              "      <td>...</td>\n",
              "      <td>...</td>\n",
              "      <td>...</td>\n",
              "      <td>...</td>\n",
              "      <td>...</td>\n",
              "      <td>...</td>\n",
              "      <td>...</td>\n",
              "      <td>...</td>\n",
              "      <td>...</td>\n",
              "      <td>...</td>\n",
              "      <td>...</td>\n",
              "      <td>...</td>\n",
              "    </tr>\n",
              "    <tr>\n",
              "      <th>98</th>\n",
              "      <td>2018.09.03</td>\n",
              "      <td>22:00</td>\n",
              "      <td>22:55</td>\n",
              "      <td>21.0</td>\n",
              "      <td>19.0</td>\n",
              "      <td>off</td>\n",
              "      <td>normal</td>\n",
              "      <td>bp-dujv</td>\n",
              "      <td>68.2</td>\n",
              "      <td>5.3</td>\n",
              "      <td>78</td>\n",
              "      <td>00:52</td>\n",
              "      <td>95+</td>\n",
              "      <td>highway</td>\n",
              "      <td>1</td>\n",
              "    </tr>\n",
              "    <tr>\n",
              "      <th>99</th>\n",
              "      <td>2018.09.04</td>\n",
              "      <td>06:42</td>\n",
              "      <td>07:55</td>\n",
              "      <td>16.0</td>\n",
              "      <td>17.0</td>\n",
              "      <td>off</td>\n",
              "      <td>normal</td>\n",
              "      <td>dujv-bp</td>\n",
              "      <td>69.1</td>\n",
              "      <td>4.5</td>\n",
              "      <td>58</td>\n",
              "      <td>01:10</td>\n",
              "      <td>95+</td>\n",
              "      <td>highway</td>\n",
              "      <td>1</td>\n",
              "    </tr>\n",
              "    <tr>\n",
              "      <th>100</th>\n",
              "      <td>2018.09.04</td>\n",
              "      <td>20:00</td>\n",
              "      <td>21:10</td>\n",
              "      <td>17.0</td>\n",
              "      <td>16.0</td>\n",
              "      <td>off</td>\n",
              "      <td>low</td>\n",
              "      <td>bp-dujv</td>\n",
              "      <td>71.6</td>\n",
              "      <td>4.5</td>\n",
              "      <td>65</td>\n",
              "      <td>01:05</td>\n",
              "      <td>95+</td>\n",
              "      <td>highway</td>\n",
              "      <td>1</td>\n",
              "    </tr>\n",
              "    <tr>\n",
              "      <th>101</th>\n",
              "      <td>2018.09.05</td>\n",
              "      <td>08:15</td>\n",
              "      <td>09:25</td>\n",
              "      <td>15.0</td>\n",
              "      <td>20.0</td>\n",
              "      <td>off</td>\n",
              "      <td>normal</td>\n",
              "      <td>dujv-bp</td>\n",
              "      <td>71.7</td>\n",
              "      <td>4.7</td>\n",
              "      <td>62</td>\n",
              "      <td>01:09</td>\n",
              "      <td>95+</td>\n",
              "      <td>highway</td>\n",
              "      <td>1</td>\n",
              "    </tr>\n",
              "    <tr>\n",
              "      <th>102</th>\n",
              "      <td>2018.09.05</td>\n",
              "      <td>20:50</td>\n",
              "      <td>21:52</td>\n",
              "      <td>21.0</td>\n",
              "      <td>19.0</td>\n",
              "      <td>off</td>\n",
              "      <td>low</td>\n",
              "      <td>bp-dujv</td>\n",
              "      <td>71.6</td>\n",
              "      <td>4.8</td>\n",
              "      <td>73</td>\n",
              "      <td>00:58</td>\n",
              "      <td>95+</td>\n",
              "      <td>highway</td>\n",
              "      <td>1</td>\n",
              "    </tr>\n",
              "  </tbody>\n",
              "</table>\n",
              "<p>103 rows × 15 columns</p>\n",
              "</div>\n",
              "    <div class=\"colab-df-buttons\">\n",
              "\n",
              "  <div class=\"colab-df-container\">\n",
              "    <button class=\"colab-df-convert\" onclick=\"convertToInteractive('df-d35e3930-16d8-4006-b3b0-15462b1d5be7')\"\n",
              "            title=\"Convert this dataframe to an interactive table.\"\n",
              "            style=\"display:none;\">\n",
              "\n",
              "  <svg xmlns=\"http://www.w3.org/2000/svg\" height=\"24px\" viewBox=\"0 -960 960 960\">\n",
              "    <path d=\"M120-120v-720h720v720H120Zm60-500h600v-160H180v160Zm220 220h160v-160H400v160Zm0 220h160v-160H400v160ZM180-400h160v-160H180v160Zm440 0h160v-160H620v160ZM180-180h160v-160H180v160Zm440 0h160v-160H620v160Z\"/>\n",
              "  </svg>\n",
              "    </button>\n",
              "\n",
              "  <style>\n",
              "    .colab-df-container {\n",
              "      display:flex;\n",
              "      gap: 12px;\n",
              "    }\n",
              "\n",
              "    .colab-df-convert {\n",
              "      background-color: #E8F0FE;\n",
              "      border: none;\n",
              "      border-radius: 50%;\n",
              "      cursor: pointer;\n",
              "      display: none;\n",
              "      fill: #1967D2;\n",
              "      height: 32px;\n",
              "      padding: 0 0 0 0;\n",
              "      width: 32px;\n",
              "    }\n",
              "\n",
              "    .colab-df-convert:hover {\n",
              "      background-color: #E2EBFA;\n",
              "      box-shadow: 0px 1px 2px rgba(60, 64, 67, 0.3), 0px 1px 3px 1px rgba(60, 64, 67, 0.15);\n",
              "      fill: #174EA6;\n",
              "    }\n",
              "\n",
              "    .colab-df-buttons div {\n",
              "      margin-bottom: 4px;\n",
              "    }\n",
              "\n",
              "    [theme=dark] .colab-df-convert {\n",
              "      background-color: #3B4455;\n",
              "      fill: #D2E3FC;\n",
              "    }\n",
              "\n",
              "    [theme=dark] .colab-df-convert:hover {\n",
              "      background-color: #434B5C;\n",
              "      box-shadow: 0px 1px 3px 1px rgba(0, 0, 0, 0.15);\n",
              "      filter: drop-shadow(0px 1px 2px rgba(0, 0, 0, 0.3));\n",
              "      fill: #FFFFFF;\n",
              "    }\n",
              "  </style>\n",
              "\n",
              "    <script>\n",
              "      const buttonEl =\n",
              "        document.querySelector('#df-d35e3930-16d8-4006-b3b0-15462b1d5be7 button.colab-df-convert');\n",
              "      buttonEl.style.display =\n",
              "        google.colab.kernel.accessAllowed ? 'block' : 'none';\n",
              "\n",
              "      async function convertToInteractive(key) {\n",
              "        const element = document.querySelector('#df-d35e3930-16d8-4006-b3b0-15462b1d5be7');\n",
              "        const dataTable =\n",
              "          await google.colab.kernel.invokeFunction('convertToInteractive',\n",
              "                                                    [key], {});\n",
              "        if (!dataTable) return;\n",
              "\n",
              "        const docLinkHtml = 'Like what you see? Visit the ' +\n",
              "          '<a target=\"_blank\" href=https://colab.research.google.com/notebooks/data_table.ipynb>data table notebook</a>'\n",
              "          + ' to learn more about interactive tables.';\n",
              "        element.innerHTML = '';\n",
              "        dataTable['output_type'] = 'display_data';\n",
              "        await google.colab.output.renderOutput(dataTable, element);\n",
              "        const docLink = document.createElement('div');\n",
              "        docLink.innerHTML = docLinkHtml;\n",
              "        element.appendChild(docLink);\n",
              "      }\n",
              "    </script>\n",
              "  </div>\n",
              "\n",
              "\n",
              "<div id=\"df-0f89ced9-6a9f-4dcd-aab1-fa798fd8520a\">\n",
              "  <button class=\"colab-df-quickchart\" onclick=\"quickchart('df-0f89ced9-6a9f-4dcd-aab1-fa798fd8520a')\"\n",
              "            title=\"Suggest charts\"\n",
              "            style=\"display:none;\">\n",
              "\n",
              "<svg xmlns=\"http://www.w3.org/2000/svg\" height=\"24px\"viewBox=\"0 0 24 24\"\n",
              "     width=\"24px\">\n",
              "    <g>\n",
              "        <path d=\"M19 3H5c-1.1 0-2 .9-2 2v14c0 1.1.9 2 2 2h14c1.1 0 2-.9 2-2V5c0-1.1-.9-2-2-2zM9 17H7v-7h2v7zm4 0h-2V7h2v10zm4 0h-2v-4h2v4z\"/>\n",
              "    </g>\n",
              "</svg>\n",
              "  </button>\n",
              "\n",
              "<style>\n",
              "  .colab-df-quickchart {\n",
              "      --bg-color: #E8F0FE;\n",
              "      --fill-color: #1967D2;\n",
              "      --hover-bg-color: #E2EBFA;\n",
              "      --hover-fill-color: #174EA6;\n",
              "      --disabled-fill-color: #AAA;\n",
              "      --disabled-bg-color: #DDD;\n",
              "  }\n",
              "\n",
              "  [theme=dark] .colab-df-quickchart {\n",
              "      --bg-color: #3B4455;\n",
              "      --fill-color: #D2E3FC;\n",
              "      --hover-bg-color: #434B5C;\n",
              "      --hover-fill-color: #FFFFFF;\n",
              "      --disabled-bg-color: #3B4455;\n",
              "      --disabled-fill-color: #666;\n",
              "  }\n",
              "\n",
              "  .colab-df-quickchart {\n",
              "    background-color: var(--bg-color);\n",
              "    border: none;\n",
              "    border-radius: 50%;\n",
              "    cursor: pointer;\n",
              "    display: none;\n",
              "    fill: var(--fill-color);\n",
              "    height: 32px;\n",
              "    padding: 0;\n",
              "    width: 32px;\n",
              "  }\n",
              "\n",
              "  .colab-df-quickchart:hover {\n",
              "    background-color: var(--hover-bg-color);\n",
              "    box-shadow: 0 1px 2px rgba(60, 64, 67, 0.3), 0 1px 3px 1px rgba(60, 64, 67, 0.15);\n",
              "    fill: var(--button-hover-fill-color);\n",
              "  }\n",
              "\n",
              "  .colab-df-quickchart-complete:disabled,\n",
              "  .colab-df-quickchart-complete:disabled:hover {\n",
              "    background-color: var(--disabled-bg-color);\n",
              "    fill: var(--disabled-fill-color);\n",
              "    box-shadow: none;\n",
              "  }\n",
              "\n",
              "  .colab-df-spinner {\n",
              "    border: 2px solid var(--fill-color);\n",
              "    border-color: transparent;\n",
              "    border-bottom-color: var(--fill-color);\n",
              "    animation:\n",
              "      spin 1s steps(1) infinite;\n",
              "  }\n",
              "\n",
              "  @keyframes spin {\n",
              "    0% {\n",
              "      border-color: transparent;\n",
              "      border-bottom-color: var(--fill-color);\n",
              "      border-left-color: var(--fill-color);\n",
              "    }\n",
              "    20% {\n",
              "      border-color: transparent;\n",
              "      border-left-color: var(--fill-color);\n",
              "      border-top-color: var(--fill-color);\n",
              "    }\n",
              "    30% {\n",
              "      border-color: transparent;\n",
              "      border-left-color: var(--fill-color);\n",
              "      border-top-color: var(--fill-color);\n",
              "      border-right-color: var(--fill-color);\n",
              "    }\n",
              "    40% {\n",
              "      border-color: transparent;\n",
              "      border-right-color: var(--fill-color);\n",
              "      border-top-color: var(--fill-color);\n",
              "    }\n",
              "    60% {\n",
              "      border-color: transparent;\n",
              "      border-right-color: var(--fill-color);\n",
              "    }\n",
              "    80% {\n",
              "      border-color: transparent;\n",
              "      border-right-color: var(--fill-color);\n",
              "      border-bottom-color: var(--fill-color);\n",
              "    }\n",
              "    90% {\n",
              "      border-color: transparent;\n",
              "      border-bottom-color: var(--fill-color);\n",
              "    }\n",
              "  }\n",
              "</style>\n",
              "\n",
              "  <script>\n",
              "    async function quickchart(key) {\n",
              "      const quickchartButtonEl =\n",
              "        document.querySelector('#' + key + ' button');\n",
              "      quickchartButtonEl.disabled = true;  // To prevent multiple clicks.\n",
              "      quickchartButtonEl.classList.add('colab-df-spinner');\n",
              "      try {\n",
              "        const charts = await google.colab.kernel.invokeFunction(\n",
              "            'suggestCharts', [key], {});\n",
              "      } catch (error) {\n",
              "        console.error('Error during call to suggestCharts:', error);\n",
              "      }\n",
              "      quickchartButtonEl.classList.remove('colab-df-spinner');\n",
              "      quickchartButtonEl.classList.add('colab-df-quickchart-complete');\n",
              "    }\n",
              "    (() => {\n",
              "      let quickchartButtonEl =\n",
              "        document.querySelector('#df-0f89ced9-6a9f-4dcd-aab1-fa798fd8520a button');\n",
              "      quickchartButtonEl.style.display =\n",
              "        google.colab.kernel.accessAllowed ? 'block' : 'none';\n",
              "    })();\n",
              "  </script>\n",
              "</div>\n",
              "\n",
              "  <div id=\"id_9ea1617b-a3ec-422e-b15f-787d47ec3e09\">\n",
              "    <style>\n",
              "      .colab-df-generate {\n",
              "        background-color: #E8F0FE;\n",
              "        border: none;\n",
              "        border-radius: 50%;\n",
              "        cursor: pointer;\n",
              "        display: none;\n",
              "        fill: #1967D2;\n",
              "        height: 32px;\n",
              "        padding: 0 0 0 0;\n",
              "        width: 32px;\n",
              "      }\n",
              "\n",
              "      .colab-df-generate:hover {\n",
              "        background-color: #E2EBFA;\n",
              "        box-shadow: 0px 1px 2px rgba(60, 64, 67, 0.3), 0px 1px 3px 1px rgba(60, 64, 67, 0.15);\n",
              "        fill: #174EA6;\n",
              "      }\n",
              "\n",
              "      [theme=dark] .colab-df-generate {\n",
              "        background-color: #3B4455;\n",
              "        fill: #D2E3FC;\n",
              "      }\n",
              "\n",
              "      [theme=dark] .colab-df-generate:hover {\n",
              "        background-color: #434B5C;\n",
              "        box-shadow: 0px 1px 3px 1px rgba(0, 0, 0, 0.15);\n",
              "        filter: drop-shadow(0px 1px 2px rgba(0, 0, 0, 0.3));\n",
              "        fill: #FFFFFF;\n",
              "      }\n",
              "    </style>\n",
              "    <button class=\"colab-df-generate\" onclick=\"generateWithVariable('data')\"\n",
              "            title=\"Generate code using this dataframe.\"\n",
              "            style=\"display:none;\">\n",
              "\n",
              "  <svg xmlns=\"http://www.w3.org/2000/svg\" height=\"24px\"viewBox=\"0 0 24 24\"\n",
              "       width=\"24px\">\n",
              "    <path d=\"M7,19H8.4L18.45,9,17,7.55,7,17.6ZM5,21V16.75L18.45,3.32a2,2,0,0,1,2.83,0l1.4,1.43a1.91,1.91,0,0,1,.58,1.4,1.91,1.91,0,0,1-.58,1.4L9.25,21ZM18.45,9,17,7.55Zm-12,3A5.31,5.31,0,0,0,4.9,8.1,5.31,5.31,0,0,0,1,6.5,5.31,5.31,0,0,0,4.9,4.9,5.31,5.31,0,0,0,6.5,1,5.31,5.31,0,0,0,8.1,4.9,5.31,5.31,0,0,0,12,6.5,5.46,5.46,0,0,0,6.5,12Z\"/>\n",
              "  </svg>\n",
              "    </button>\n",
              "    <script>\n",
              "      (() => {\n",
              "      const buttonEl =\n",
              "        document.querySelector('#id_9ea1617b-a3ec-422e-b15f-787d47ec3e09 button.colab-df-generate');\n",
              "      buttonEl.style.display =\n",
              "        google.colab.kernel.accessAllowed ? 'block' : 'none';\n",
              "\n",
              "      buttonEl.onclick = () => {\n",
              "        google.colab.notebook.generateWithVariable('data');\n",
              "      }\n",
              "      })();\n",
              "    </script>\n",
              "  </div>\n",
              "\n",
              "    </div>\n",
              "  </div>\n"
            ],
            "application/vnd.google.colaboratory.intrinsic+json": {
              "type": "dataframe",
              "variable_name": "data",
              "summary": "{\n  \"name\": \"data\",\n  \"rows\": 103,\n  \"fields\": [\n    {\n      \"column\": \"date\",\n      \"properties\": {\n        \"dtype\": \"object\",\n        \"num_unique_values\": 56,\n        \"samples\": [\n          \"2018.06.03\",\n          \"2018.06.10\",\n          \"2018.07.26\"\n        ],\n        \"semantic_type\": \"\",\n        \"description\": \"\"\n      }\n    },\n    {\n      \"column\": \"starttime\",\n      \"properties\": {\n        \"dtype\": \"object\",\n        \"num_unique_values\": 79,\n        \"samples\": [\n          \"08:00\",\n          \"00:03\",\n          \"18:15\"\n        ],\n        \"semantic_type\": \"\",\n        \"description\": \"\"\n      }\n    },\n    {\n      \"column\": \"endtime\",\n      \"properties\": {\n        \"dtype\": \"object\",\n        \"num_unique_values\": 90,\n        \"samples\": [\n          \"18:50\",\n          \"19:35\",\n          \"06:47\"\n        ],\n        \"semantic_type\": \"\",\n        \"description\": \"\"\n      }\n    },\n    {\n      \"column\": \"starttemp\",\n      \"properties\": {\n        \"dtype\": \"number\",\n        \"std\": 5.578514054983217,\n        \"min\": 11.0,\n        \"max\": 33.0,\n        \"num_unique_values\": 21,\n        \"samples\": [\n          17.0,\n          33.0,\n          27.0\n        ],\n        \"semantic_type\": \"\",\n        \"description\": \"\"\n      }\n    },\n    {\n      \"column\": \"endtemp\",\n      \"properties\": {\n        \"dtype\": \"number\",\n        \"std\": 18.322102592599173,\n        \"min\": 12.0,\n        \"max\": 200.0,\n        \"num_unique_values\": 20,\n        \"samples\": [\n          15.0,\n          12.0,\n          20.0\n        ],\n        \"semantic_type\": \"\",\n        \"description\": \"\"\n      }\n    },\n    {\n      \"column\": \"air conditioner\",\n      \"properties\": {\n        \"dtype\": \"category\",\n        \"num_unique_values\": 5,\n        \"samples\": [\n          \"on\",\n          \"onn\",\n          \"oof\"\n        ],\n        \"semantic_type\": \"\",\n        \"description\": \"\"\n      }\n    },\n    {\n      \"column\": \"trafic\",\n      \"properties\": {\n        \"dtype\": \"category\",\n        \"num_unique_values\": 5,\n        \"samples\": [\n          \"normal\",\n          \"high\",\n          \"traffic jam + normal\"\n        ],\n        \"semantic_type\": \"\",\n        \"description\": \"\"\n      }\n    },\n    {\n      \"column\": \"route\",\n      \"properties\": {\n        \"dtype\": \"category\",\n        \"num_unique_values\": 24,\n        \"samples\": [\n          \"dujv-dunaegyhaza\",\n          \"veszprem-szfvar\",\n          \"bp-dujv\"\n        ],\n        \"semantic_type\": \"\",\n        \"description\": \"\"\n      }\n    },\n    {\n      \"column\": \"dist\",\n      \"properties\": {\n        \"dtype\": \"number\",\n        \"std\": 21.02488566715705,\n        \"min\": 0.6,\n        \"max\": 173.9,\n        \"num_unique_values\": 72,\n        \"samples\": [\n          47.5,\n          94.4,\n          70.4\n        ],\n        \"semantic_type\": \"\",\n        \"description\": \"\"\n      }\n    },\n    {\n      \"column\": \"avg.cons.\",\n      \"properties\": {\n        \"dtype\": \"number\",\n        \"std\": 1.495262523213138,\n        \"min\": 0.1,\n        \"max\": 18.1,\n        \"num_unique_values\": 26,\n        \"samples\": [\n          4.4,\n          18.1,\n          4.5\n        ],\n        \"semantic_type\": \"\",\n        \"description\": \"\"\n      }\n    },\n    {\n      \"column\": \"speed\",\n      \"properties\": {\n        \"dtype\": \"number\",\n        \"std\": 10,\n        \"min\": 1,\n        \"max\": 95,\n        \"num_unique_values\": 38,\n        \"samples\": [\n          95,\n          76,\n          58\n        ],\n        \"semantic_type\": \"\",\n        \"description\": \"\"\n      }\n    },\n    {\n      \"column\": \"duration\",\n      \"properties\": {\n        \"dtype\": \"object\",\n        \"num_unique_values\": 45,\n        \"samples\": [\n          \"01:00\",\n          \"01:31\",\n          \"01:05\"\n        ],\n        \"semantic_type\": \"\",\n        \"description\": \"\"\n      }\n    },\n    {\n      \"column\": \"fuel type\",\n      \"properties\": {\n        \"dtype\": \"category\",\n        \"num_unique_values\": 3,\n        \"samples\": [\n          \"95+\",\n          \"95FS\",\n          \"FS\"\n        ],\n        \"semantic_type\": \"\",\n        \"description\": \"\"\n      }\n    },\n    {\n      \"column\": \"road\",\n      \"properties\": {\n        \"dtype\": \"category\",\n        \"num_unique_values\": 5,\n        \"samples\": [\n          \"highway\",\n          \"hghway\",\n          \"normal\"\n        ],\n        \"semantic_type\": \"\",\n        \"description\": \"\"\n      }\n    },\n    {\n      \"column\": \"num. persons\",\n      \"properties\": {\n        \"dtype\": \"number\",\n        \"std\": 0,\n        \"min\": 1,\n        \"max\": 4,\n        \"num_unique_values\": 4,\n        \"samples\": [\n          2,\n          4,\n          1\n        ],\n        \"semantic_type\": \"\",\n        \"description\": \"\"\n      }\n    }\n  ]\n}"
            }
          },
          "metadata": {},
          "execution_count": 3
        }
      ]
    },
    {
      "cell_type": "markdown",
      "metadata": {
        "id": "W9_WPPF2rFRX"
      },
      "source": [
        "**DataFrame oszlopai**"
      ]
    },
    {
      "cell_type": "code",
      "metadata": {
        "id": "--QsVM6Uqm9m",
        "colab": {
          "base_uri": "https://localhost:8080/",
          "height": 458
        },
        "outputId": "76f23d30-d348-41e2-aeda-110e60cb78c6"
      },
      "source": [
        "data['starttemp']  # egy oszlopra jol olvashatoan hivatkozhatunk az oszlop nevevel"
      ],
      "execution_count": 4,
      "outputs": [
        {
          "output_type": "execute_result",
          "data": {
            "text/plain": [
              "0      17.0\n",
              "1      19.0\n",
              "2      30.0\n",
              "3      29.0\n",
              "4      30.0\n",
              "       ... \n",
              "98     21.0\n",
              "99     16.0\n",
              "100    17.0\n",
              "101    15.0\n",
              "102    21.0\n",
              "Name: starttemp, Length: 103, dtype: float64"
            ],
            "text/html": [
              "<div>\n",
              "<style scoped>\n",
              "    .dataframe tbody tr th:only-of-type {\n",
              "        vertical-align: middle;\n",
              "    }\n",
              "\n",
              "    .dataframe tbody tr th {\n",
              "        vertical-align: top;\n",
              "    }\n",
              "\n",
              "    .dataframe thead th {\n",
              "        text-align: right;\n",
              "    }\n",
              "</style>\n",
              "<table border=\"1\" class=\"dataframe\">\n",
              "  <thead>\n",
              "    <tr style=\"text-align: right;\">\n",
              "      <th></th>\n",
              "      <th>starttemp</th>\n",
              "    </tr>\n",
              "  </thead>\n",
              "  <tbody>\n",
              "    <tr>\n",
              "      <th>0</th>\n",
              "      <td>17.0</td>\n",
              "    </tr>\n",
              "    <tr>\n",
              "      <th>1</th>\n",
              "      <td>19.0</td>\n",
              "    </tr>\n",
              "    <tr>\n",
              "      <th>2</th>\n",
              "      <td>30.0</td>\n",
              "    </tr>\n",
              "    <tr>\n",
              "      <th>3</th>\n",
              "      <td>29.0</td>\n",
              "    </tr>\n",
              "    <tr>\n",
              "      <th>4</th>\n",
              "      <td>30.0</td>\n",
              "    </tr>\n",
              "    <tr>\n",
              "      <th>...</th>\n",
              "      <td>...</td>\n",
              "    </tr>\n",
              "    <tr>\n",
              "      <th>98</th>\n",
              "      <td>21.0</td>\n",
              "    </tr>\n",
              "    <tr>\n",
              "      <th>99</th>\n",
              "      <td>16.0</td>\n",
              "    </tr>\n",
              "    <tr>\n",
              "      <th>100</th>\n",
              "      <td>17.0</td>\n",
              "    </tr>\n",
              "    <tr>\n",
              "      <th>101</th>\n",
              "      <td>15.0</td>\n",
              "    </tr>\n",
              "    <tr>\n",
              "      <th>102</th>\n",
              "      <td>21.0</td>\n",
              "    </tr>\n",
              "  </tbody>\n",
              "</table>\n",
              "<p>103 rows × 1 columns</p>\n",
              "</div><br><label><b>dtype:</b> float64</label>"
            ]
          },
          "metadata": {},
          "execution_count": 4
        }
      ]
    },
    {
      "cell_type": "code",
      "metadata": {
        "id": "KRAIybRBre9E"
      },
      "source": [
        "names_of_columns = list(data) # oszlopnevek listaja"
      ],
      "execution_count": 5,
      "outputs": []
    },
    {
      "cell_type": "markdown",
      "metadata": {
        "id": "LHBXeoyQsmWS"
      },
      "source": [
        "**Hiányzó értékek (missing values)**"
      ]
    },
    {
      "cell_type": "code",
      "metadata": {
        "id": "AQ26osxUsiPZ",
        "colab": {
          "base_uri": "https://localhost:8080/",
          "height": 458
        },
        "outputId": "633defd9-c5df-40c8-e53f-b649f53f133f"
      },
      "source": [
        "data['starttemp'].isnull()\n",
        "# egy DataFrame típusú True-False vektort ad.\n",
        "# Az ertek attol fuggoen True vagy False, hogy\n",
        "# az adott peldany eeseteben a cella erteke null-e\n",
        "# (azaz hianyzo ertek-e)"
      ],
      "execution_count": 6,
      "outputs": [
        {
          "output_type": "execute_result",
          "data": {
            "text/plain": [
              "0      False\n",
              "1      False\n",
              "2      False\n",
              "3      False\n",
              "4      False\n",
              "       ...  \n",
              "98     False\n",
              "99     False\n",
              "100    False\n",
              "101    False\n",
              "102    False\n",
              "Name: starttemp, Length: 103, dtype: bool"
            ],
            "text/html": [
              "<div>\n",
              "<style scoped>\n",
              "    .dataframe tbody tr th:only-of-type {\n",
              "        vertical-align: middle;\n",
              "    }\n",
              "\n",
              "    .dataframe tbody tr th {\n",
              "        vertical-align: top;\n",
              "    }\n",
              "\n",
              "    .dataframe thead th {\n",
              "        text-align: right;\n",
              "    }\n",
              "</style>\n",
              "<table border=\"1\" class=\"dataframe\">\n",
              "  <thead>\n",
              "    <tr style=\"text-align: right;\">\n",
              "      <th></th>\n",
              "      <th>starttemp</th>\n",
              "    </tr>\n",
              "  </thead>\n",
              "  <tbody>\n",
              "    <tr>\n",
              "      <th>0</th>\n",
              "      <td>False</td>\n",
              "    </tr>\n",
              "    <tr>\n",
              "      <th>1</th>\n",
              "      <td>False</td>\n",
              "    </tr>\n",
              "    <tr>\n",
              "      <th>2</th>\n",
              "      <td>False</td>\n",
              "    </tr>\n",
              "    <tr>\n",
              "      <th>3</th>\n",
              "      <td>False</td>\n",
              "    </tr>\n",
              "    <tr>\n",
              "      <th>4</th>\n",
              "      <td>False</td>\n",
              "    </tr>\n",
              "    <tr>\n",
              "      <th>...</th>\n",
              "      <td>...</td>\n",
              "    </tr>\n",
              "    <tr>\n",
              "      <th>98</th>\n",
              "      <td>False</td>\n",
              "    </tr>\n",
              "    <tr>\n",
              "      <th>99</th>\n",
              "      <td>False</td>\n",
              "    </tr>\n",
              "    <tr>\n",
              "      <th>100</th>\n",
              "      <td>False</td>\n",
              "    </tr>\n",
              "    <tr>\n",
              "      <th>101</th>\n",
              "      <td>False</td>\n",
              "    </tr>\n",
              "    <tr>\n",
              "      <th>102</th>\n",
              "      <td>False</td>\n",
              "    </tr>\n",
              "  </tbody>\n",
              "</table>\n",
              "<p>103 rows × 1 columns</p>\n",
              "</div><br><label><b>dtype:</b> bool</label>"
            ]
          },
          "metadata": {},
          "execution_count": 6
        }
      ]
    },
    {
      "cell_type": "code",
      "metadata": {
        "id": "HiL9duvwsuZY",
        "colab": {
          "base_uri": "https://localhost:8080/"
        },
        "outputId": "ac50f531-d9eb-4051-c769-07b88107bddf"
      },
      "source": [
        "data['starttemp'].isnull().sum()\n",
        "# összeadasnal: True=1, False=1\n",
        "# Igy tehat a hianyzo ertekek szamat kapjuk"
      ],
      "execution_count": 7,
      "outputs": [
        {
          "output_type": "execute_result",
          "data": {
            "text/plain": [
              "5"
            ]
          },
          "metadata": {},
          "execution_count": 7
        }
      ]
    },
    {
      "cell_type": "markdown",
      "metadata": {
        "id": "XD3UFEfMt4WU"
      },
      "source": [
        "*1. feladat*\n",
        "\n",
        "Írjon egy for ciklust, amely kiszámolja és kiírja a hiányzó értékek számát minden egyes attribútumra (oszlopra). A hiányzó értékek számával együtt az oszlop nevét is írja ki."
      ]
    },
    {
      "cell_type": "code",
      "metadata": {
        "id": "TLdUgthZtzAT",
        "colab": {
          "base_uri": "https://localhost:8080/"
        },
        "outputId": "1b38932d-45fa-4738-e769-b4496ac604b4"
      },
      "source": [
        "# ...IDE JÖN A KÓD...\n",
        "for i in range(len(names_of_columns)):\n",
        "    print(names_of_columns[i], data[names_of_columns[i]].isnull().sum())\n"
      ],
      "execution_count": 8,
      "outputs": [
        {
          "output_type": "stream",
          "name": "stdout",
          "text": [
            "date 0\n",
            "starttime 0\n",
            "endtime 0\n",
            "starttemp 5\n",
            "endtemp 4\n",
            "air conditioner 0\n",
            "trafic 0\n",
            "route 0\n",
            "dist 1\n",
            "avg.cons. 0\n",
            "speed 0\n",
            "duration 0\n",
            "fuel type 0\n",
            "road 0\n",
            "num. persons 0\n"
          ]
        }
      ]
    },
    {
      "cell_type": "markdown",
      "metadata": {
        "id": "QxOZPlMAwdbR"
      },
      "source": [
        "*2. feladat*\n",
        "\n",
        "Készítsen másolatot az adatról, és a másolatban helyettesítse a *starttemp* oszlop hiányzó értékeit\n",
        "\n",
        "(a) a starttemp átlagos értékével,\n",
        "\n",
        "(b) a starttemp mediánjával.\n",
        "\n",
        "(c) Írjon egy for ciklust, amely az összes oszlop esetén helyettesíti a hiányzó értékeket az adott oszlop átlagával, ahol ez lehetséges!"
      ]
    },
    {
      "cell_type": "code",
      "metadata": {
        "id": "6aGU_70_ybYn",
        "colab": {
          "base_uri": "https://localhost:8080/"
        },
        "outputId": "6331b084-0a29-4ce5-a42e-c6ed9f1f1e49"
      },
      "source": [
        "# ...IDE JÖN A KÓD...\n",
        "\n",
        "copy_of_data = data.copy()\n",
        "\n",
        "# with mean the null value\n",
        "copy_of_data['starttemp'] = copy_of_data['starttemp'].fillna(copy_of_data['starttemp'].mean())\n",
        "\n",
        "\n",
        "for i in range(len(names_of_columns)):\n",
        "    print(names_of_columns[i], copy_of_data[names_of_columns[i]].isnull().sum())\n"
      ],
      "execution_count": 9,
      "outputs": [
        {
          "output_type": "stream",
          "name": "stdout",
          "text": [
            "date 0\n",
            "starttime 0\n",
            "endtime 0\n",
            "starttemp 0\n",
            "endtemp 4\n",
            "air conditioner 0\n",
            "trafic 0\n",
            "route 0\n",
            "dist 1\n",
            "avg.cons. 0\n",
            "speed 0\n",
            "duration 0\n",
            "fuel type 0\n",
            "road 0\n",
            "num. persons 0\n"
          ]
        }
      ]
    },
    {
      "cell_type": "code",
      "metadata": {
        "id": "gvAu05EMymqO",
        "colab": {
          "base_uri": "https://localhost:8080/"
        },
        "outputId": "4709483d-7a76-42c0-8346-d8a6fa31fe1e"
      },
      "source": [
        "# ...IDE JÖN A KÓD...\n",
        "copy_of_data = data.copy()\n",
        "\n",
        "# with median the null value\n",
        "copy_of_data['starttemp'] = copy_of_data['starttemp'].fillna(copy_of_data['starttemp'].median())\n",
        "\n",
        "# check for nulls\n",
        "for i in range(len(names_of_columns)):\n",
        "    print(names_of_columns[i], copy_of_data[names_of_columns[i]].isnull().sum())\n",
        "\n"
      ],
      "execution_count": 10,
      "outputs": [
        {
          "output_type": "stream",
          "name": "stdout",
          "text": [
            "date 0\n",
            "starttime 0\n",
            "endtime 0\n",
            "starttemp 0\n",
            "endtemp 4\n",
            "air conditioner 0\n",
            "trafic 0\n",
            "route 0\n",
            "dist 1\n",
            "avg.cons. 0\n",
            "speed 0\n",
            "duration 0\n",
            "fuel type 0\n",
            "road 0\n",
            "num. persons 0\n"
          ]
        }
      ]
    },
    {
      "cell_type": "code",
      "metadata": {
        "id": "N2nrJAH9zKPo",
        "colab": {
          "base_uri": "https://localhost:8080/"
        },
        "outputId": "f6ded777-bcb1-4be0-dc8c-8289c7f33464"
      },
      "source": [
        "# ...IDE JÖN A KÓD...\n",
        "\n",
        "\n",
        "def true_isnumeric(value) -> bool:\n",
        "    try:\n",
        "        float(value)\n",
        "        return True\n",
        "    except:\n",
        "        return False\n",
        "\n",
        "copy_of_data = data.copy()\n",
        "\n",
        "# substitute null value with the mean value\n",
        "for i in range(len(names_of_columns)):\n",
        "    if copy_of_data[names_of_columns[i]].isnull().sum() >0 and true_isnumeric(copy_of_data[names_of_columns[i]].mean()) :\n",
        "        copy_of_data[names_of_columns[i]] = copy_of_data[names_of_columns[i]].fillna(copy_of_data[names_of_columns[i]].mean())\n",
        "\n",
        "# check for nulls\n",
        "for i in range(len(names_of_columns)):\n",
        "    print(names_of_columns[i], copy_of_data[names_of_columns[i]].isnull().sum())\n"
      ],
      "execution_count": 69,
      "outputs": [
        {
          "output_type": "stream",
          "name": "stdout",
          "text": [
            "date 0\n",
            "starttime 0\n",
            "endtime 0\n",
            "starttemp 0\n",
            "endtemp 0\n",
            "air conditioner 0\n",
            "trafic 0\n",
            "route 0\n",
            "dist 0\n",
            "avg.cons. 0\n",
            "speed 0\n",
            "duration 0\n",
            "fuel type 0\n",
            "road 0\n",
            "num. persons 0\n"
          ]
        }
      ]
    },
    {
      "cell_type": "markdown",
      "metadata": {
        "id": "oxPTYwfMLDeb"
      },
      "source": [
        "A következőkben egy diagramon fogjuk ábrázolni az egyes utazások esetében az induláskori és érkezéskori hőmérsékletet. Csak azokat az utazásokat fogjuk használni, ahol az eredeti adatban mind a két hőmérsékleti érték adott. Először a scatterplottal ismerkedünk."
      ]
    },
    {
      "cell_type": "code",
      "metadata": {
        "id": "ZIBg9rC8K4RD",
        "colab": {
          "base_uri": "https://localhost:8080/",
          "height": 430
        },
        "outputId": "382b59ba-35e5-463a-b345-30f27b10a10f"
      },
      "source": [
        "# 1 2\n",
        "# 4 3\n",
        "# 10 8\n",
        "# 15 9\n",
        "x = [1, 4, 10, 15]\n",
        "y = [2, 3, 8, 9]\n",
        "plt.scatter(x,y);"
      ],
      "execution_count": 12,
      "outputs": [
        {
          "output_type": "display_data",
          "data": {
            "text/plain": [
              "<Figure size 640x480 with 1 Axes>"
            ],
            "image/png": "[encoded data removed]"
          },
          "metadata": {}
        }
      ]
    },
    {
      "cell_type": "code",
      "metadata": {
        "id": "jNqT0w42J24_",
        "colab": {
          "base_uri": "https://localhost:8080/",
          "height": 430
        },
        "outputId": "1bdf5a7d-964f-430b-8245-52136c94e8b1"
      },
      "source": [
        "both_values_present = np.logical_and(data['starttemp'].isnull()==False,\n",
        "                                     data['endtemp'].isnull()==False)\n",
        "both_values_valid = np.logical_and(both_values_present, data['endtemp'] < 100)\n",
        "plt.scatter( data[both_values_valid]['starttemp'],\n",
        "            data[both_values_valid]['endtemp'] )\n",
        "plt.show()"
      ],
      "execution_count": 13,
      "outputs": [
        {
          "output_type": "display_data",
          "data": {
            "text/plain": [
              "<Figure size 640x480 with 1 Axes>"
            ],
            "image/png": "[encoded data removed]"
          },
          "metadata": {}
        }
      ]
    },
    {
      "cell_type": "markdown",
      "metadata": {
        "id": "SiSOcqdBNI20"
      },
      "source": [
        "*3. feladat*\n",
        "\n",
        "Az érkezéskori hőmérséklet jobb becslés lehet az indulási hőmérsékletre, mint az összes induláskori hőmérséklet átlaga, és fordítva: amikor az érkezéskori hőmérséklet hiányzik, az induláskori hőmérséklet lehet egy jó becslés.\n",
        "\n",
        "(a) Írjon egy olyan kódot, amely ellenőrzi, hogy van-e olyan eset, amikor egyszerre hiányzik az induláskori és érkezéskori hőmérséklet!\n",
        "\n",
        "(b) Amikor az **indulási** hőmérséklet hiányzik, helyettesítse azt az érkezéskori hőmérséklettel!\n",
        "\n",
        "(c) Amikor csak az **érkezéskori** hőmérséklet hiányzik, helyettesítse azt az induláskori hőmérséklettel!\n"
      ]
    },
    {
      "cell_type": "markdown",
      "metadata": {
        "id": "6zX590J5O8dR"
      },
      "source": []
    },
    {
      "cell_type": "code",
      "metadata": {
        "id": "lBWWVmBJLYKH",
        "colab": {
          "base_uri": "https://localhost:8080/"
        },
        "outputId": "5b598027-9ed1-4550-e86b-a1eb9258b56c"
      },
      "source": [
        "# ...IDE JÖN A KÓD...\n",
        "\n",
        "temperature_copy_of_data = data.copy()\n",
        "\n",
        "flag = 0\n",
        "\n",
        "for i in range(len(temperature_copy_of_data['starttemp'])):\n",
        "  # check if start temp is null\n",
        "  if temperature_copy_of_data['starttemp'].isnull()[i]:\n",
        "\n",
        "    print(i, 'starttemp is null')\n",
        "    flag +=1\n",
        "    temperature_copy_of_data['starttemp'][i] = temperature_copy_of_data['endtemp'][i]\n",
        "    print(i, 'copied end to start')\n",
        "\n",
        "  # check if endtemp is null\n",
        "  if temperature_copy_of_data['endtemp'].isnull()[i]:\n",
        "    print(i, 'endtemp is null')\n",
        "    flag +=1\n",
        "\n",
        "    temperature_copy_of_data['endtemp'][i] = temperature_copy_of_data['starttemp'][i]\n",
        "    print(i, 'copied start to end')\n",
        "\n",
        "  if flag == 2:\n",
        "    print(i, 'both values are null')\n",
        "\n",
        "  flag = 0\n"
      ],
      "execution_count": 14,
      "outputs": [
        {
          "output_type": "stream",
          "name": "stdout",
          "text": [
            "14 starttemp is null\n",
            "14 copied end to start\n",
            "21 starttemp is null\n",
            "21 copied end to start\n",
            "31 starttemp is null\n",
            "31 copied end to start\n",
            "52 endtemp is null\n",
            "52 copied start to end\n",
            "55 endtemp is null\n",
            "55 copied start to end\n",
            "58 starttemp is null\n",
            "58 copied end to start\n",
            "62 endtemp is null\n",
            "62 copied start to end\n",
            "75 starttemp is null\n",
            "75 copied end to start\n",
            "95 endtemp is null\n",
            "95 copied start to end\n"
          ]
        }
      ]
    },
    {
      "cell_type": "code",
      "metadata": {
        "id": "zi7W2JF0Ngxy"
      },
      "source": [
        "# ...IDE JÖN A KÓD..."
      ],
      "execution_count": 15,
      "outputs": []
    },
    {
      "cell_type": "markdown",
      "metadata": {
        "id": "nddHXHwIQa_Y"
      },
      "source": [
        "*4. feladat*\n",
        "\n",
        "Lehetséges, hogy az indulási és érkezéskori hőmérséklet különbsége összefügg azzal, hogy mikor kerül sor az utazásra (reggel nagyobb az érkezéskori hőmérséklet, este pedig kisebb). A következőkben ezt fogjuk megvizsgálni.\n",
        "\n",
        "(a) Vezessen be egy új oszlopot, ami a két hőmérséklet különbségét tartalmazza."
      ]
    },
    {
      "cell_type": "code",
      "metadata": {
        "id": "llsxAi1hOkUs",
        "colab": {
          "base_uri": "https://localhost:8080/"
        },
        "outputId": "a78e78b6-a163-4683-cdbf-541c98dd9eda"
      },
      "source": [
        "# ...IDE JÖN A KÓD...\n",
        "\n",
        "# difference of temps\n",
        "# this is magic for me at this moment\n",
        "# it works beacause of the pandas data frame\n",
        "temperature_copy_of_data['temp_diff'] = temperature_copy_of_data['starttemp'] - temperature_copy_of_data['endtemp']\n",
        "print(temperature_copy_of_data['temp_diff'])"
      ],
      "execution_count": 27,
      "outputs": [
        {
          "output_type": "stream",
          "name": "stdout",
          "text": [
            "0      2.0\n",
            "1     -5.0\n",
            "2      2.0\n",
            "3      1.0\n",
            "4      5.0\n",
            "      ... \n",
            "98     2.0\n",
            "99    -1.0\n",
            "100    1.0\n",
            "101   -5.0\n",
            "102    2.0\n",
            "Name: temp_diff, Length: 103, dtype: float64\n"
          ]
        }
      ]
    },
    {
      "cell_type": "markdown",
      "metadata": {
        "id": "6oWXKEPCRGnV"
      },
      "source": [
        "(b) Vezessen be egy új oszlopot, ami azt tartalmazza számként, hogy a nap melyik órájában kerül sor az utazásra! Ezt az információt a *starttime* oszlopban található string első két karakteréből \"hámozza ki\"."
      ]
    },
    {
      "cell_type": "code",
      "metadata": {
        "id": "0KZVeuF1RFW4",
        "colab": {
          "base_uri": "https://localhost:8080/"
        },
        "outputId": "05dc9e09-0e00-444b-8606-dc26ae27281a"
      },
      "source": [
        "# ...IDE JÖN A KÓD...\n",
        "\n",
        "temperature_copy_of_data['start_hour'] = temperature_copy_of_data['starttime'].str[:2]\n",
        "print(temperature_copy_of_data['start_hour'])\n"
      ],
      "execution_count": 17,
      "outputs": [
        {
          "output_type": "stream",
          "name": "stdout",
          "text": [
            "0      00\n",
            "1      08\n",
            "2      13\n",
            "3      15\n",
            "4      18\n",
            "       ..\n",
            "98     22\n",
            "99     06\n",
            "100    20\n",
            "101    08\n",
            "102    20\n",
            "Name: start_hour, Length: 103, dtype: object\n"
          ]
        }
      ]
    },
    {
      "cell_type": "markdown",
      "metadata": {
        "id": "vN-Dw_W8Rkuk"
      },
      "source": [
        "A következőkben csoportosítjuk az egyes utazásokat aszerint, hogy a nap melyik órájában kerül sor az utazásra, majd csoportonként kiszámoljuk az előbbiekben bevezetett *temp_diff* mediánját, amelyet az óra függvényében ábrázolunk."
      ]
    },
    {
      "cell_type": "code",
      "metadata": {
        "id": "Xf_S_f_gRjvl",
        "colab": {
          "base_uri": "https://localhost:8080/",
          "height": 450
        },
        "outputId": "47b8d596-8ef2-409e-8408-bffe87e3b47f"
      },
      "source": [
        "# ...IDE JÖN A KÓD...\n",
        "\n",
        "same_hour_data = temperature_copy_of_data.groupby('start_hour')\n",
        "same_hour_data['temp_diff'].median().plot();\n"
      ],
      "execution_count": 30,
      "outputs": [
        {
          "output_type": "display_data",
          "data": {
            "text/plain": [
              "<Figure size 640x480 with 1 Axes>"
            ],
            "image/png": "[encoded data removed]"
          },
          "metadata": {}
        }
      ]
    },
    {
      "cell_type": "markdown",
      "metadata": {
        "id": "7tjT4knTSuCD"
      },
      "source": [
        "*5. feladat*\n",
        "\n",
        "(a) Helyettesítse a **starttemp** hiányzó értékeit az **endtemp** hozzátartozó értékével úgy, hogy közben korrigál a két hőmérséklet közötti \"szokásos\" különbséggel (az előbb kiszámolt mediánnal)!"
      ]
    },
    {
      "cell_type": "code",
      "metadata": {
        "id": "5bMkr9csRc7t",
        "colab": {
          "base_uri": "https://localhost:8080/"
        },
        "outputId": "1663d715-0afd-4f08-c957-bc2f40c0ab19"
      },
      "source": [
        "# ...IDE JÖN A KÓD...\n",
        "\n",
        "temperature_copy_of_data = data.copy()\n",
        "\n",
        "\n",
        "temperature_copy_of_data['temp_diff'] = temperature_copy_of_data['starttemp'] - temperature_copy_of_data['endtemp']\n",
        "temperature_copy_of_data['start_hour'] = temperature_copy_of_data['starttime'].str[:2]\n",
        "same_hour_data = temperature_copy_of_data.groupby('start_hour')\n",
        "\n",
        "\n",
        "for i in range(len(temperature_copy_of_data['starttemp'])):\n",
        "  # check if start temp is null\n",
        "  if temperature_copy_of_data['starttemp'].isnull()[i]:\n",
        "    temperature_copy_of_data['starttemp'][i] = temperature_copy_of_data['endtemp'][i] + same_hour_data['temp_diff'].median()[temperature_copy_of_data['start_hour'][i]]\n",
        "    print(i, 'copied end to start')\n",
        "\n",
        "#print(same_hour_data['temp_diff'].median())\n",
        "\n",
        "# check for nulls\n",
        "for i in range(len(names_of_columns)):\n",
        "   print(names_of_columns[i], temperature_copy_of_data[names_of_columns[i]].isnull().sum())\n"
      ],
      "execution_count": 65,
      "outputs": [
        {
          "output_type": "stream",
          "name": "stdout",
          "text": [
            "14 copied end to start\n",
            "21 copied end to start\n",
            "31 copied end to start\n",
            "58 copied end to start\n",
            "75 copied end to start\n",
            "date 0\n",
            "starttime 0\n",
            "endtime 0\n",
            "starttemp 0\n",
            "endtemp 4\n",
            "air conditioner 0\n",
            "trafic 0\n",
            "route 0\n",
            "dist 1\n",
            "avg.cons. 0\n",
            "speed 0\n",
            "duration 0\n",
            "fuel type 0\n",
            "road 0\n",
            "num. persons 0\n"
          ]
        }
      ]
    },
    {
      "cell_type": "markdown",
      "metadata": {
        "id": "9bTdPx_oTblV"
      },
      "source": [
        "(b) Helyettesítse az **endtemp** hiányzó értékeit a **starttemp** hozzátartozó értékével úgy, hogy közben korrigál a két hőmérséklet közötti \"szokásos\" különbséggel (az előbb kiszámolt mediánnal)! Miben különbözik a megoldás az előbbi részfeladat megoldásától?"
      ]
    },
    {
      "cell_type": "code",
      "metadata": {
        "id": "I21DuW54TZ5L",
        "colab": {
          "base_uri": "https://localhost:8080/"
        },
        "outputId": "e4ea263c-18c1-4c6e-b1c7-0cbfc29fee79"
      },
      "source": [
        "# ...IDE JÖN A KÓD...\n",
        "\n",
        "\n",
        "\n",
        "temperature_copy_of_data = data.copy()\n",
        "\n",
        "\n",
        "temperature_copy_of_data['temp_diff'] = temperature_copy_of_data['starttemp'] - temperature_copy_of_data['endtemp']\n",
        "temperature_copy_of_data['start_hour'] = temperature_copy_of_data['starttime'].str[:2]\n",
        "same_hour_data = temperature_copy_of_data.groupby('start_hour')\n",
        "\n",
        "\n",
        "for i in range(len(temperature_copy_of_data['starttemp'])):\n",
        "  # check if start temp is null\n",
        "  if temperature_copy_of_data['endtemp'].isnull()[i]:\n",
        "    temperature_copy_of_data['endtemp'][i] = temperature_copy_of_data['starttemp'][i] + same_hour_data['temp_diff'].median()[temperature_copy_of_data['start_hour'][i]]\n",
        "    print(i, 'copied start to end')\n",
        "\n",
        "#print(same_hour_data['temp_diff'].median())\n",
        "\n",
        "# check for nulls\n",
        "for i in range(len(names_of_columns)):\n",
        "   print(names_of_columns[i], temperature_copy_of_data[names_of_columns[i]].isnull().sum())\n"
      ],
      "execution_count": 68,
      "outputs": [
        {
          "output_type": "stream",
          "name": "stdout",
          "text": [
            "52 copied start to end\n",
            "55 copied start to end\n",
            "62 copied start to end\n",
            "95 copied start to end\n",
            "date 0\n",
            "starttime 0\n",
            "endtime 0\n",
            "starttemp 5\n",
            "endtemp 0\n",
            "air conditioner 0\n",
            "trafic 0\n",
            "route 0\n",
            "dist 1\n",
            "avg.cons. 0\n",
            "speed 0\n",
            "duration 0\n",
            "fuel type 0\n",
            "road 0\n",
            "num. persons 0\n"
          ]
        }
      ]
    },
    {
      "cell_type": "markdown",
      "metadata": {
        "id": "6G9clgWqUPfW"
      },
      "source": [
        "*6. feladat*\n",
        "\n",
        "Diszkusszió: hogyan töltené ki a távolság hiányzó értékét?"
      ]
    },
    {
      "cell_type": "code",
      "metadata": {
        "id": "1UGZWYPIVB0T",
        "colab": {
          "base_uri": "https://localhost:8080/"
        },
        "outputId": "66992bea-0c7e-4d2d-d5aa-4fa5c1b40b4b"
      },
      "source": [
        "# ...IDE JÖN A KÓD...\n",
        "\n",
        "distance_copy_of_data = data.copy()\n",
        "#print(distance_copy_of_data)\n",
        "\n",
        "for i in range(len(distance_copy_of_data['dist'])):\n",
        "  # check if start temp is null\n",
        "  if distance_copy_of_data['dist'].isnull()[i]:\n",
        "    distance_copy_of_data['dist'][i] = distance_copy_of_data['dist'].mean()\n",
        "\n",
        "print(distance_copy_of_data['dist'])\n",
        "\n",
        "\n"
      ],
      "execution_count": 80,
      "outputs": [
        {
          "output_type": "stream",
          "name": "stdout",
          "text": [
            "0      69.8\n",
            "1      68.6\n",
            "2      79.5\n",
            "3      45.2\n",
            "4      47.5\n",
            "       ... \n",
            "98     68.2\n",
            "99     69.1\n",
            "100    71.6\n",
            "101    71.7\n",
            "102    71.6\n",
            "Name: dist, Length: 103, dtype: float64\n"
          ]
        }
      ]
    },
    {
      "cell_type": "markdown",
      "metadata": {
        "id": "4K0mjCJ2sr3o"
      },
      "source": [
        "**Duplikátumok keresése**"
      ]
    },
    {
      "cell_type": "markdown",
      "metadata": {
        "id": "5BL_e7rFsykH"
      },
      "source": [
        "*7. feladat*\n",
        "\n",
        "Az úgynevezett **egzakt duplikátumok** (amikor pontosan ugyanaz a példány/rekord ismétlődik) eliminálása tipikusan két lépésben történik: az első lépésben az adatokat rendezzük, ezáltal a duplikátumok egymást követően helyezkednek el az adattáblában. A második lépésben az egymást követő példányokról döntjük el, hogy azonosak-e.\n",
        "Az esetünkben az adattábla eredetileg is rendezett.\n",
        "\n",
        "(a) Írjon egy olyan függvényt, amely az adattábla *i*-dik példányáról (*i* a függvény argumentuma) eldönti, hogy azonos-e az *(i+1)*-dik példánnyal."
      ]
    },
    {
      "cell_type": "code",
      "metadata": {
        "id": "fyaMDGCEUfLF",
        "colab": {
          "base_uri": "https://localhost:8080/"
        },
        "outputId": "661e6a13-f482-4020-d36f-7e0931f076ab"
      },
      "source": [
        "# ...IDE JÖN A KÓD...\n",
        "\n",
        "duplicate_copy_of_data = data.copy()\n",
        "#print (duplicate_copy_of_data)\n",
        "df = pd.DataFrame(duplicate_copy_of_data)\n",
        "for key, value in duplicate_copy_of_data.iterrows():\n",
        "  print(key, value ,end='\\n')\n",
        "  print('\\n')\n",
        "\n"
      ],
      "execution_count": 117,
      "outputs": [
        {
          "output_type": "stream",
          "name": "stdout",
          "text": [
            "0 date               2018.06.03\n",
            "starttime               00:03\n",
            "endtime                 01:16\n",
            "starttemp                  17\n",
            "endtemp                    15\n",
            "air conditioner           off\n",
            "trafic                    low\n",
            "route                 bp-dujv\n",
            "dist                     69.8\n",
            "avg.cons.                 4.5\n",
            "speed                      57\n",
            "duration                01:13\n",
            "fuel type                 95+\n",
            "road                 standard\n",
            "num. persons                1\n",
            "Name: 0, dtype: object\n",
            "\n",
            "\n",
            "1 date               2018.06.03\n",
            "starttime               08:20\n",
            "endtime                 09:29\n",
            "starttemp                  19\n",
            "endtemp                    24\n",
            "air conditioner           off\n",
            "trafic                    low\n",
            "route                 dujv-bp\n",
            "dist                     68.6\n",
            "avg.cons.                 4.6\n",
            "speed                      59\n",
            "duration                01:09\n",
            "fuel type                 95+\n",
            "road                 standard\n",
            "num. persons                2\n",
            "Name: 1, dtype: object\n",
            "\n",
            "\n",
            "2 date               2018.06.03\n",
            "starttime               13:00\n",
            "endtime                 15:00\n",
            "starttemp                  30\n",
            "endtemp                    28\n",
            "air conditioner            on\n",
            "trafic                 normal\n",
            "route                 bp-dujv\n",
            "dist                     79.5\n",
            "avg.cons.                 6.0\n",
            "speed                      47\n",
            "duration                01:40\n",
            "fuel type                 95+\n",
            "road                 standard\n",
            "num. persons                3\n",
            "Name: 2, dtype: object\n",
            "\n",
            "\n",
            "3 date                2018.06.04\n",
            "starttime                15:30\n",
            "endtime                  16:30\n",
            "starttemp                   29\n",
            "endtemp                     28\n",
            "air conditioner             on\n",
            "trafic                  normal\n",
            "route              dujv-szelid\n",
            "dist                      45.2\n",
            "avg.cons.                  4.3\n",
            "speed                       56\n",
            "duration                 00:48\n",
            "fuel type                  95+\n",
            "road                  standard\n",
            "num. persons                 1\n",
            "Name: 3, dtype: object\n",
            "\n",
            "\n",
            "4 date                2018.06.04\n",
            "starttime                18:18\n",
            "endtime                  19:10\n",
            "starttemp                   30\n",
            "endtemp                     25\n",
            "air conditioner             on\n",
            "trafic                  normal\n",
            "route              szelid-dujv\n",
            "dist                      47.5\n",
            "avg.cons.                  4.7\n",
            "speed                       57\n",
            "duration                 00:49\n",
            "fuel type                  95+\n",
            "road                  standard\n",
            "num. persons                 1\n",
            "Name: 4, dtype: object\n",
            "\n",
            "\n",
            "5 date               2018.06.05\n",
            "starttime               21:04\n",
            "endtime                 22:20\n",
            "starttemp                  25\n",
            "endtemp                    25\n",
            "air conditioner           off\n",
            "trafic                 normal\n",
            "route                 bp-dujv\n",
            "dist                     72.9\n",
            "avg.cons.                 4.6\n",
            "speed                      56\n",
            "duration                01:17\n",
            "fuel type                 95+\n",
            "road                 standard\n",
            "num. persons                1\n",
            "Name: 5, dtype: object\n",
            "\n",
            "\n",
            "6 date                2018.06.07\n",
            "starttime                10:48\n",
            "endtime                  11:36\n",
            "starttemp                   18\n",
            "endtemp                     24\n",
            "air conditioner            off\n",
            "trafic                  normal\n",
            "route              dujv-szfvar\n",
            "dist                      52.9\n",
            "avg.cons.                  5.2\n",
            "speed                       58\n",
            "duration                 00:52\n",
            "fuel type                  95+\n",
            "road                  standard\n",
            "num. persons                 1\n",
            "Name: 6, dtype: object\n",
            "\n",
            "\n",
            "7 date                2018.06.07\n",
            "starttime                15:22\n",
            "endtime                  16:25\n",
            "starttemp                   31\n",
            "endtemp                     26\n",
            "air conditioner             on\n",
            "trafic                  normal\n",
            "route              szfvar-dujv\n",
            "dist                      53.3\n",
            "avg.cons.                  5.2\n",
            "speed                       50\n",
            "duration                 01:03\n",
            "fuel type                  95+\n",
            "road                  standard\n",
            "num. persons                 1\n",
            "Name: 7, dtype: object\n",
            "\n",
            "\n",
            "8 date                2018.06.08\n",
            "starttime                21:25\n",
            "endtime                  22:28\n",
            "starttemp                   24\n",
            "endtemp                     22\n",
            "air conditioner            off\n",
            "trafic                  normal\n",
            "route              szfvar-dujv\n",
            "dist                      54.4\n",
            "avg.cons.                  4.5\n",
            "speed                       51\n",
            "duration                 01:03\n",
            "fuel type                  95+\n",
            "road                  standard\n",
            "num. persons                 1\n",
            "Name: 8, dtype: object\n",
            "\n",
            "\n",
            "9 date               2018.06.10\n",
            "starttime               17:11\n",
            "endtime                 18:38\n",
            "starttemp                  30\n",
            "endtemp                    24\n",
            "air conditioner            on\n",
            "trafic                 normal\n",
            "route                 dujv-bp\n",
            "dist                     68.0\n",
            "avg.cons.                 4.8\n",
            "speed                      50\n",
            "duration                01:21\n",
            "fuel type                 95+\n",
            "road                 standard\n",
            "num. persons                1\n",
            "Name: 9, dtype: object\n",
            "\n",
            "\n",
            "10 date               2018.06.10\n",
            "starttime               20:48\n",
            "endtime                 22:05\n",
            "starttemp                  23\n",
            "endtemp                    22\n",
            "air conditioner           off\n",
            "trafic                    low\n",
            "route                 bp-dujv\n",
            "dist                     70.0\n",
            "avg.cons.                 4.5\n",
            "speed                      55\n",
            "duration                01:15\n",
            "fuel type                95FS\n",
            "road                 standard\n",
            "num. persons                1\n",
            "Name: 10, dtype: object\n",
            "\n",
            "\n",
            "11 date               2018.06.11\n",
            "starttime               11:11\n",
            "endtime                 11:47\n",
            "starttemp                  25\n",
            "endtemp                    27\n",
            "air conditioner           off\n",
            "trafic                    low\n",
            "route              dujv-ercsi\n",
            "dist                     35.9\n",
            "avg.cons.                 4.2\n",
            "speed                      58\n",
            "duration                00:37\n",
            "fuel type                95FS\n",
            "road                 standard\n",
            "num. persons                1\n",
            "Name: 11, dtype: object\n",
            "\n",
            "\n",
            "12 date               2018.06.11\n",
            "starttime               13:32\n",
            "endtime                 14:14\n",
            "starttemp                  29\n",
            "endtemp                    29\n",
            "air conditioner            on\n",
            "trafic                    low\n",
            "route              ercsi-dujv\n",
            "dist                     36.7\n",
            "avg.cons.                 4.5\n",
            "speed                      53\n",
            "duration                00:41\n",
            "fuel type                95FS\n",
            "road                 standard\n",
            "num. persons                1\n",
            "Name: 12, dtype: object\n",
            "\n",
            "\n",
            "13 date                2018.06.12\n",
            "starttime                08:50\n",
            "endtime                  09:49\n",
            "starttemp                   29\n",
            "endtemp                     26\n",
            "air conditioner             on\n",
            "trafic                  normal\n",
            "route              dujv-szfvar\n",
            "dist                      52.3\n",
            "avg.cons.                  4.7\n",
            "speed                       53\n",
            "duration                 00:58\n",
            "fuel type                 95FS\n",
            "road                  standard\n",
            "num. persons                 1\n",
            "Name: 13, dtype: object\n",
            "\n",
            "\n",
            "14 date                2018.06.12\n",
            "starttime                12:45\n",
            "endtime                  13:37\n",
            "starttemp                   30\n",
            "endtemp                     30\n",
            "air conditioner             on\n",
            "trafic                  normal\n",
            "route              szfvar-dujv\n",
            "dist                      51.8\n",
            "avg.cons.                  4.4\n",
            "speed                       53\n",
            "duration                 00:58\n",
            "fuel type                 95FS\n",
            "road                  standard\n",
            "num. persons                 1\n",
            "Name: 14, dtype: object\n",
            "\n",
            "\n",
            "15 date                     2018.06.15\n",
            "starttime                     11:15\n",
            "endtime                       11:45\n",
            "starttemp                        16\n",
            "endtemp                          18\n",
            "air conditioner                 off\n",
            "trafic                       normal\n",
            "route              dujv-dunaegyhaza\n",
            "dist                           21.7\n",
            "avg.cons.                       4.4\n",
            "speed                            45\n",
            "duration                      00:29\n",
            "fuel type                      95FS\n",
            "road                       standard\n",
            "num. persons                      1\n",
            "Name: 15, dtype: object\n",
            "\n",
            "\n",
            "16 date                   2018.06.15\n",
            "starttime                   11:45\n",
            "endtime                     13:05\n",
            "starttemp                      18\n",
            "endtemp                        22\n",
            "air conditioner               off\n",
            "trafic                     normal\n",
            "route              dunaegyhaza-bp\n",
            "dist                         89.1\n",
            "avg.cons.                     5.9\n",
            "speed                          77\n",
            "duration                    01:09\n",
            "fuel type                    95FS\n",
            "road                      highway\n",
            "num. persons                    2\n",
            "Name: 16, dtype: object\n",
            "\n",
            "\n",
            "17 date               2018.06.15\n",
            "starttime               17:10\n",
            "endtime                 18:15\n",
            "starttemp                  23\n",
            "endtemp                    21\n",
            "air conditioner            on\n",
            "trafic                 normal\n",
            "route                 bp-dujv\n",
            "dist                     72.9\n",
            "avg.cons.                 6.0\n",
            "speed                      70\n",
            "duration                01:02\n",
            "fuel type                95FS\n",
            "road                  highway\n",
            "num. persons                2\n",
            "Name: 17, dtype: object\n",
            "\n",
            "\n",
            "18 date                2018.06.20\n",
            "starttime                17:30\n",
            "endtime                  18:26\n",
            "starttemp                   32\n",
            "endtemp                     28\n",
            "air conditioner             on\n",
            "trafic                  normal\n",
            "route              szfvar-dujv\n",
            "dist                      53.2\n",
            "avg.cons.                  5.5\n",
            "speed                       58\n",
            "duration                 00:55\n",
            "fuel type                  95+\n",
            "road                  standard\n",
            "num. persons                 1\n",
            "Name: 18, dtype: object\n",
            "\n",
            "\n",
            "19 date               2018.06.21\n",
            "starttime               06:36\n",
            "endtime                 07:40\n",
            "starttemp                  22\n",
            "endtemp                    23\n",
            "air conditioner           off\n",
            "trafic                 normal\n",
            "route                 dujv-bp\n",
            "dist                     70.4\n",
            "avg.cons.                 4.7\n",
            "speed                      63\n",
            "duration                01:07\n",
            "fuel type                 95+\n",
            "road                  highway\n",
            "num. persons                1\n",
            "Name: 19, dtype: object\n",
            "\n",
            "\n",
            "20 date               2018.06.21\n",
            "starttime               18:00\n",
            "endtime                 18:56\n",
            "starttemp                  30\n",
            "endtemp                    28\n",
            "air conditioner            on\n",
            "trafic                 normal\n",
            "route                 bp-dujv\n",
            "dist                     66.0\n",
            "avg.cons.                 5.0\n",
            "speed                      72\n",
            "duration                00:54\n",
            "fuel type                 95+\n",
            "road                  highway\n",
            "num. persons                1\n",
            "Name: 20, dtype: object\n",
            "\n",
            "\n",
            "21 date               2018.06.23\n",
            "starttime               07:45\n",
            "endtime                 08:45\n",
            "starttemp                  11\n",
            "endtemp                    15\n",
            "air conditioner           off\n",
            "trafic                 normal\n",
            "route                 dujv-bp\n",
            "dist                     72.1\n",
            "avg.cons.                 6.0\n",
            "speed                      74\n",
            "duration                00:58\n",
            "fuel type                 95+\n",
            "road                  highway\n",
            "num. persons                2\n",
            "Name: 21, dtype: object\n",
            "\n",
            "\n",
            "22 date               2018.06.23\n",
            "starttime               18:15\n",
            "endtime                 19:35\n",
            "starttemp                  18\n",
            "endtemp                    17\n",
            "air conditioner           off\n",
            "trafic                 normal\n",
            "route                 bp-dujv\n",
            "dist                     75.4\n",
            "avg.cons.                 5.3\n",
            "speed                      62\n",
            "duration                01:12\n",
            "fuel type                 95+\n",
            "road                  highway\n",
            "num. persons                2\n",
            "Name: 22, dtype: object\n",
            "\n",
            "\n",
            "23 date               2018.06.24\n",
            "starttime               14:05\n",
            "endtime                 15:17\n",
            "starttemp                  18\n",
            "endtemp                    20\n",
            "air conditioner           off\n",
            "trafic                    low\n",
            "route              dujv-kkmet\n",
            "dist                     74.4\n",
            "avg.cons.                 4.1\n",
            "speed                      61\n",
            "duration                01:12\n",
            "fuel type                95FS\n",
            "road                 standard\n",
            "num. persons                1\n",
            "Name: 23, dtype: object\n",
            "\n",
            "\n",
            "24 date                 2018.06.24\n",
            "starttime                 15:35\n",
            "endtime                   16:51\n",
            "starttemp                    20\n",
            "endtemp                      22\n",
            "air conditioner              on\n",
            "trafic                   normal\n",
            "route              kkmet-szeged\n",
            "dist                       88.4\n",
            "avg.cons.                   5.8\n",
            "speed                        84\n",
            "duration                  01:03\n",
            "fuel type                  95FS\n",
            "road                    highway\n",
            "num. persons                  4\n",
            "Name: 24, dtype: object\n",
            "\n",
            "\n",
            "25 date                         2018.06.24\n",
            "starttime                         17:25\n",
            "endtime                           20:20\n",
            "starttemp                            25\n",
            "endtemp                              18\n",
            "air conditioner                     off\n",
            "trafic             traffic jam + normal\n",
            "route                    szeged-novisad\n",
            "dist                              137.4\n",
            "avg.cons.                           5.3\n",
            "speed                                48\n",
            "duration                          02:50\n",
            "fuel type                          95FS\n",
            "road                            highway\n",
            "num. persons                          1\n",
            "Name: 25, dtype: object\n",
            "\n",
            "\n",
            "26 date                   2018.06.27\n",
            "starttime                   14:20\n",
            "endtime                     17:03\n",
            "starttemp                      17\n",
            "endtemp                        14\n",
            "air conditioner               off\n",
            "trafic                     normal\n",
            "route              novisad-horgos\n",
            "dist                        140.5\n",
            "avg.cons.                     5.4\n",
            "speed                          56\n",
            "duration                    02:28\n",
            "fuel type                    95FS\n",
            "road                      highway\n",
            "num. persons                    1\n",
            "Name: 26, dtype: object\n",
            "\n",
            "\n",
            "27 date                  2017.06.27\n",
            "starttime                  17:03\n",
            "endtime                    17:32\n",
            "starttemp                     14\n",
            "endtemp                       14\n",
            "air conditioner              off\n",
            "trafic               traffic jam\n",
            "route              horgos-roszke\n",
            "dist                         0.6\n",
            "avg.cons.                   18.1\n",
            "speed                          1\n",
            "duration                   00:23\n",
            "fuel type                   95FS\n",
            "road                     highway\n",
            "num. persons                   1\n",
            "Name: 27, dtype: object\n",
            "\n",
            "\n",
            "28 date               2017.06.28\n",
            "starttime               08:25\n",
            "endtime                 09:30\n",
            "starttemp                  16\n",
            "endtemp                    20\n",
            "air conditioner           off\n",
            "trafic                 normal\n",
            "route                 dujv-bp\n",
            "dist                     70.3\n",
            "avg.cons.                 5.0\n",
            "speed                      67\n",
            "duration                01:02\n",
            "fuel type                95FS\n",
            "road                  highway\n",
            "num. persons                1\n",
            "Name: 28, dtype: object\n",
            "\n",
            "\n",
            "29 date               2017.06.28\n",
            "starttime               16:45\n",
            "endtime                 17:56\n",
            "starttemp                  19\n",
            "endtemp                    16\n",
            "air conditioner           off\n",
            "trafic                 normal\n",
            "route                 bp-dujv\n",
            "dist                     71.9\n",
            "avg.cons.                 5.1\n",
            "speed                      60\n",
            "duration                01:11\n",
            "fuel type                95FS\n",
            "road                  highway\n",
            "num. persons                1\n",
            "Name: 29, dtype: object\n",
            "\n",
            "\n",
            "30 date               2017.06.29\n",
            "starttime               08:00\n",
            "endtime                 09:16\n",
            "starttemp                  17\n",
            "endtemp                    18\n",
            "air conditioner           off\n",
            "trafic                 normal\n",
            "route                 dujv-bp\n",
            "dist                     70.1\n",
            "avg.cons.                 5.5\n",
            "speed                      60\n",
            "duration                01:09\n",
            "fuel type                95FS\n",
            "road                  highway\n",
            "num. persons                1\n",
            "Name: 30, dtype: object\n",
            "\n",
            "\n",
            "31 date                2017.06.30\n",
            "starttime                12:25\n",
            "endtime                  13:15\n",
            "starttemp                   26\n",
            "endtemp                     23\n",
            "air conditioner             on\n",
            "trafic                  normal\n",
            "route              dujv-szfvar\n",
            "dist                      51.0\n",
            "avg.cons.                  5.6\n",
            "speed                       62\n",
            "duration                 00:48\n",
            "fuel type                 95FS\n",
            "road                  standard\n",
            "num. persons                 1\n",
            "Name: 31, dtype: object\n",
            "\n",
            "\n",
            "32 date                    2017.06.30\n",
            "starttime                    14:40\n",
            "endtime                      15:30\n",
            "starttemp                       27\n",
            "endtemp                         27\n",
            "air conditioner                 on\n",
            "trafic                      normal\n",
            "route              szfvar-veszprem\n",
            "dist                          49.4\n",
            "avg.cons.                      5.3\n",
            "speed                           59\n",
            "duration                     00:49\n",
            "fuel type                     95FS\n",
            "road                      standard\n",
            "num. persons                     2\n",
            "Name: 32, dtype: object\n",
            "\n",
            "\n",
            "33 date                    2017.06.30\n",
            "starttime                    21:16\n",
            "endtime                      22:01\n",
            "starttemp                       14\n",
            "endtemp                         16\n",
            "air conditioner                off\n",
            "trafic                         low\n",
            "route              veszprem-szfvar\n",
            "dist                          48.2\n",
            "avg.cons.                      4.3\n",
            "speed                           64\n",
            "duration                     00:45\n",
            "fuel type                     95FS\n",
            "road                      standard\n",
            "num. persons                     2\n",
            "Name: 33, dtype: object\n",
            "\n",
            "\n",
            "34 date                2017.06.30\n",
            "starttime                23:00\n",
            "endtime                  00:21\n",
            "starttemp                   16\n",
            "endtemp                     12\n",
            "air conditioner            off\n",
            "trafic                     low\n",
            "route              szfvar-dujv\n",
            "dist                      64.5\n",
            "avg.cons.                  4.6\n",
            "speed                       49\n",
            "duration                 01:19\n",
            "fuel type                 95FS\n",
            "road                  standard\n",
            "num. persons                 1\n",
            "Name: 34, dtype: object\n",
            "\n",
            "\n",
            "35 date               2017.07.02\n",
            "starttime               06:50\n",
            "endtime                 08:25\n",
            "starttemp                  11\n",
            "endtemp                    17\n",
            "air conditioner           off\n",
            "trafic                   high\n",
            "route                 dujv-bp\n",
            "dist                     90.1\n",
            "avg.cons.                 5.4\n",
            "speed                      59\n",
            "duration                01:31\n",
            "fuel type                95FS\n",
            "road                  highway\n",
            "num. persons                3\n",
            "Name: 35, dtype: object\n",
            "\n",
            "\n",
            "36 date               2017.07.02\n",
            "starttime               17:10\n",
            "endtime                 18:15\n",
            "starttemp                  26\n",
            "endtemp                    24\n",
            "air conditioner            on\n",
            "trafic                 normal\n",
            "route                 bp-dujv\n",
            "dist                     72.0\n",
            "avg.cons.                 5.2\n",
            "speed                      65\n",
            "duration                01:05\n",
            "fuel type                95FS\n",
            "road                  highway\n",
            "num. persons                1\n",
            "Name: 36, dtype: object\n",
            "\n",
            "\n",
            "37 date               2018.07.04\n",
            "starttime               07:10\n",
            "endtime                 08:10\n",
            "starttemp                  18\n",
            "endtemp                    20\n",
            "air conditioner           off\n",
            "trafic                 normal\n",
            "route                 dujv-bp\n",
            "dist                     71.8\n",
            "avg.cons.                 6.2\n",
            "speed                      73\n",
            "duration                00:59\n",
            "fuel type                95FS\n",
            "road                  highway\n",
            "num. persons                2\n",
            "Name: 37, dtype: object\n",
            "\n",
            "\n",
            "38 date               2018.07.04\n",
            "starttime               17:30\n",
            "endtime                 18:30\n",
            "starttemp                  28\n",
            "endtemp                    24\n",
            "air conditioner            on\n",
            "trafic                 normal\n",
            "route                 bp-dujv\n",
            "dist                     70.4\n",
            "avg.cons.                 5.2\n",
            "speed                      69\n",
            "duration                01:01\n",
            "fuel type                95FS\n",
            "road                  highway\n",
            "num. persons                1\n",
            "Name: 38, dtype: object\n",
            "\n",
            "\n",
            "39 date               2018.07.05\n",
            "starttime               08:30\n",
            "endtime                 09:40\n",
            "starttemp                  20\n",
            "endtemp                    25\n",
            "air conditioner           off\n",
            "trafic                    low\n",
            "route                 dujv-bp\n",
            "dist                     70.8\n",
            "avg.cons.                 4.7\n",
            "speed                      64\n",
            "duration                01:05\n",
            "fuel type                 95+\n",
            "road                  highway\n",
            "num. persons                1\n",
            "Name: 39, dtype: object\n",
            "\n",
            "\n",
            "40 date               2018.07.05\n",
            "starttime               16:57\n",
            "endtime                 18:05\n",
            "starttemp                  33\n",
            "endtemp                    29\n",
            "air conditioner            on\n",
            "trafic                 normal\n",
            "route                 bp-dujv\n",
            "dist                     72.1\n",
            "avg.cons.                 5.6\n",
            "speed                      63\n",
            "duration                01:08\n",
            "fuel type                 95+\n",
            "road                  highway\n",
            "num. persons                1\n",
            "Name: 40, dtype: object\n",
            "\n",
            "\n",
            "41 date                2018.07.06\n",
            "starttime                17:50\n",
            "endtime                  18:50\n",
            "starttemp                   24\n",
            "endtemp                     22\n",
            "air conditioner            off\n",
            "trafic                  normal\n",
            "route              dujv-szfvar\n",
            "dist                      54.2\n",
            "avg.cons.                  5.0\n",
            "speed                       54\n",
            "duration                 00:59\n",
            "fuel type                  95+\n",
            "road                  standard\n",
            "num. persons                 1\n",
            "Name: 41, dtype: object\n",
            "\n",
            "\n",
            "42 date                2018.07.06\n",
            "starttime                18:58\n",
            "endtime                  20:01\n",
            "starttemp                   22\n",
            "endtemp                     22\n",
            "air conditioner            off\n",
            "trafic                  normal\n",
            "route              szfvar-dujv\n",
            "dist                      54.6\n",
            "avg.cons.                  4.6\n",
            "speed                       52\n",
            "duration                 01:03\n",
            "fuel type                  95+\n",
            "road                  standard\n",
            "num. persons                 2\n",
            "Name: 42, dtype: object\n",
            "\n",
            "\n",
            "43 date                2018.07.06\n",
            "starttime                23:20\n",
            "endtime                  00:10\n",
            "starttemp                   21\n",
            "endtemp                     20\n",
            "air conditioner            off\n",
            "trafic                     low\n",
            "route              dujv-szfvar\n",
            "dist                      55.7\n",
            "avg.cons.                  5.0\n",
            "speed                       57\n",
            "duration                 00:58\n",
            "fuel type                  95+\n",
            "road                  standard\n",
            "num. persons                 2\n",
            "Name: 43, dtype: object\n",
            "\n",
            "\n",
            "44 date                2018.07.07\n",
            "starttime                01:05\n",
            "endtime                  02:05\n",
            "starttemp                   19\n",
            "endtemp                     18\n",
            "air conditioner            off\n",
            "trafic                     low\n",
            "route              szfvar-dujv\n",
            "dist                      54.5\n",
            "avg.cons.                  4.5\n",
            "speed                       57\n",
            "duration                 00:57\n",
            "fuel type                  95+\n",
            "road                  standard\n",
            "num. persons                 1\n",
            "Name: 44, dtype: object\n",
            "\n",
            "\n",
            "45 date                    2018.07.07\n",
            "starttime                    14:20\n",
            "endtime                      15:55\n",
            "starttemp                       23\n",
            "endtemp                         26\n",
            "air conditioner                 on\n",
            "trafic                      normal\n",
            "route              dujv-piliscsaba\n",
            "dist                         106.0\n",
            "avg.cons.                      5.8\n",
            "speed                           67\n",
            "duration                     01:34\n",
            "fuel type                      95+\n",
            "road                       highway\n",
            "num. persons                     1\n",
            "Name: 45, dtype: object\n",
            "\n",
            "\n",
            "46 date               2018.07.09\n",
            "starttime               07:10\n",
            "endtime                 08:00\n",
            "starttemp                  16\n",
            "endtemp                    21\n",
            "air conditioner           off\n",
            "trafic                 normal\n",
            "route                dujv-erd\n",
            "dist                     55.7\n",
            "avg.cons.                 4.7\n",
            "speed                      68\n",
            "duration                00:48\n",
            "fuel type                95FS\n",
            "road                  highway\n",
            "num. persons                1\n",
            "Name: 46, dtype: object\n",
            "\n",
            "\n",
            "47 date               2018.07.09\n",
            "starttime               10:30\n",
            "endtime                 11:00\n",
            "starttemp                  29\n",
            "endtemp                    27\n",
            "air conditioner            on\n",
            "trafic                 normal\n",
            "route                  erd-bp\n",
            "dist                     17.4\n",
            "avg.cons.                 5.3\n",
            "speed                      39\n",
            "duration                00:26\n",
            "fuel type                95FS\n",
            "road                 standard\n",
            "num. persons                1\n",
            "Name: 47, dtype: object\n",
            "\n",
            "\n",
            "48 date               2018.07.09\n",
            "starttime               18:00\n",
            "endtime                 19:00\n",
            "starttemp                  29\n",
            "endtemp                    29\n",
            "air conditioner            on\n",
            "trafic                 normal\n",
            "route                 bp-dujv\n",
            "dist                     72.7\n",
            "avg.cons.                 6.0\n",
            "speed                      69\n",
            "duration                01:02\n",
            "fuel type                95FS\n",
            "road                  highway\n",
            "num. persons                2\n",
            "Name: 48, dtype: object\n",
            "\n",
            "\n",
            "49 date               2018.07.10\n",
            "starttime               08:30\n",
            "endtime                 09:35\n",
            "starttemp                  22\n",
            "endtemp                    24\n",
            "air conditioner           off\n",
            "trafic                 normal\n",
            "route                 dujv-bp\n",
            "dist                     70.7\n",
            "avg.cons.                 5.0\n",
            "speed                      72\n",
            "duration                00:59\n",
            "fuel type                95FS\n",
            "road                  highway\n",
            "num. persons                1\n",
            "Name: 49, dtype: object\n",
            "\n",
            "\n",
            "50 date               2018.07.10\n",
            "starttime               19:00\n",
            "endtime                 20:00\n",
            "starttemp                  25\n",
            "endtemp                    24\n",
            "air conditioner           off\n",
            "trafic                 normal\n",
            "route                 bp-dujv\n",
            "dist                     70.9\n",
            "avg.cons.                 5.3\n",
            "speed                      71\n",
            "duration                00:59\n",
            "fuel type                95FS\n",
            "road                  highway\n",
            "num. persons                4\n",
            "Name: 50, dtype: object\n",
            "\n",
            "\n",
            "51 date               2018.07.11\n",
            "starttime               07:00\n",
            "endtime                 08:40\n",
            "starttemp                  18\n",
            "endtemp                    20\n",
            "air conditioner           off\n",
            "trafic                 normal\n",
            "route                 dujv-bp\n",
            "dist                     72.2\n",
            "avg.cons.                 5.3\n",
            "speed                      60\n",
            "duration                01:12\n",
            "fuel type                95FS\n",
            "road                  highway\n",
            "num. persons                3\n",
            "Name: 51, dtype: object\n",
            "\n",
            "\n",
            "52 date               2018.07.11\n",
            "starttime               21:00\n",
            "endtime                 22:07\n",
            "starttemp                  18\n",
            "endtemp                    17\n",
            "air conditioner           off\n",
            "trafic                    low\n",
            "route                 bp-dujv\n",
            "dist                     72.1\n",
            "avg.cons.                 4.4\n",
            "speed                      63\n",
            "duration                01:08\n",
            "fuel type                95FS\n",
            "road                  highway\n",
            "num. persons                1\n",
            "Name: 52, dtype: object\n",
            "\n",
            "\n",
            "53 date               2018.07.12\n",
            "starttime               08:48\n",
            "endtime                 09:53\n",
            "starttemp                  20\n",
            "endtemp                    22\n",
            "air conditioner           off\n",
            "trafic                 normal\n",
            "route                 dujv-bp\n",
            "dist                     70.6\n",
            "avg.cons.                 4.8\n",
            "speed                      66\n",
            "duration                01:03\n",
            "fuel type                95FS\n",
            "road                  highway\n",
            "num. persons                1\n",
            "Name: 53, dtype: object\n",
            "\n",
            "\n",
            "54 date               2018.07.18\n",
            "starttime               08:17\n",
            "endtime                 09:30\n",
            "starttemp                  22\n",
            "endtemp                    20\n",
            "air conditioner           off\n",
            "trafic                   high\n",
            "route                 dujv-bp\n",
            "dist                     70.9\n",
            "avg.cons.                 5.4\n",
            "speed                      59\n",
            "duration                01:12\n",
            "fuel type                95FS\n",
            "road                  highway\n",
            "num. persons                1\n",
            "Name: 54, dtype: object\n",
            "\n",
            "\n",
            "55 date               2018.07.18\n",
            "starttime               18:30\n",
            "endtime                 19:33\n",
            "starttemp                  20\n",
            "endtemp                    19\n",
            "air conditioner           off\n",
            "trafic                 normal\n",
            "route                 bp-dujv\n",
            "dist                     71.8\n",
            "avg.cons.                 5.0\n",
            "speed                      66\n",
            "duration                01:04\n",
            "fuel type                95FS\n",
            "road                  highway\n",
            "num. persons                1\n",
            "Name: 55, dtype: object\n",
            "\n",
            "\n",
            "56 date               2018.07.19\n",
            "starttime               07:35\n",
            "endtime                 08:45\n",
            "starttemp                  19\n",
            "endtemp                    21\n",
            "air conditioner           off\n",
            "trafic                 normal\n",
            "route                 dujv-bp\n",
            "dist                     71.0\n",
            "avg.cons.                 4.9\n",
            "speed                      59\n",
            "duration                01:11\n",
            "fuel type                95FS\n",
            "road                  highway\n",
            "num. persons                1\n",
            "Name: 56, dtype: object\n",
            "\n",
            "\n",
            "57 date                2018.07.20\n",
            "starttime                17:45\n",
            "endtime                  18:40\n",
            "starttemp                   27\n",
            "endtemp                     27\n",
            "air conditioner             on\n",
            "trafic                  normal\n",
            "route              dujv-szfvar\n",
            "dist                      55.0\n",
            "avg.cons.                  5.4\n",
            "speed                       58\n",
            "duration                 00:56\n",
            "fuel type                 95FS\n",
            "road                  standard\n",
            "num. persons                 1\n",
            "Name: 57, dtype: object\n",
            "\n",
            "\n",
            "58 date               2018.07.23\n",
            "starttime               05:43\n",
            "endtime                 06:47\n",
            "starttemp                  16\n",
            "endtemp                    19\n",
            "air conditioner           off\n",
            "trafic                    low\n",
            "route                 dujv-bp\n",
            "dist                     70.9\n",
            "avg.cons.                 4.4\n",
            "speed                      66\n",
            "duration                01:04\n",
            "fuel type                95FS\n",
            "road                  highway\n",
            "num. persons                1\n",
            "Name: 58, dtype: object\n",
            "\n",
            "\n",
            "59 date               2018.07.23\n",
            "starttime               18:00\n",
            "endtime                 19:00\n",
            "starttemp                  20\n",
            "endtemp                    20\n",
            "air conditioner           off\n",
            "trafic                 normal\n",
            "route                 bp-dujv\n",
            "dist                     69.9\n",
            "avg.cons.                 5.0\n",
            "speed                      77\n",
            "duration                00:54\n",
            "fuel type                95FS\n",
            "road                  highway\n",
            "num. persons                1\n",
            "Name: 59, dtype: object\n",
            "\n",
            "\n",
            "60 date               2018.07.24\n",
            "starttime               17:45\n",
            "endtime                 19:10\n",
            "starttemp                  30\n",
            "endtemp                    27\n",
            "air conditioner            on\n",
            "trafic                   high\n",
            "route                 bp-dujv\n",
            "dist                     75.8\n",
            "avg.cons.                 6.8\n",
            "speed                      50\n",
            "duration                01:29\n",
            "fuel type                95FS\n",
            "road                  highway\n",
            "num. persons                2\n",
            "Name: 60, dtype: object\n",
            "\n",
            "\n",
            "61 date                2018.07.25\n",
            "starttime                16:45\n",
            "endtime                  17:38\n",
            "starttemp                   30\n",
            "endtemp                     29\n",
            "air conditioner             on\n",
            "trafic                  normal\n",
            "route              dujv-szelid\n",
            "dist                      48.9\n",
            "avg.cons.                  4.8\n",
            "speed                       55\n",
            "duration                 00:52\n",
            "fuel type                 95FS\n",
            "road                    normal\n",
            "num. persons                 2\n",
            "Name: 61, dtype: object\n",
            "\n",
            "\n",
            "62 date               2018.07.26\n",
            "starttime               08:00\n",
            "endtime                 09:07\n",
            "starttemp                  21\n",
            "endtemp                    25\n",
            "air conditioner           off\n",
            "trafic                 normal\n",
            "route                 dujv-bp\n",
            "dist                     71.3\n",
            "avg.cons.                 4.5\n",
            "speed                      61\n",
            "duration                01:09\n",
            "fuel type                95FS\n",
            "road                  highway\n",
            "num. persons                1\n",
            "Name: 62, dtype: object\n",
            "\n",
            "\n",
            "63 date               2018.07.30\n",
            "starttime               09:10\n",
            "endtime                 10:22\n",
            "starttemp                  27\n",
            "endtemp                    29\n",
            "air conditioner            on\n",
            "trafic                 normal\n",
            "route                 dujv-bp\n",
            "dist                     70.2\n",
            "avg.cons.                 4.7\n",
            "speed                      58\n",
            "duration                01:12\n",
            "fuel type                95FS\n",
            "road                  highway\n",
            "num. persons                1\n",
            "Name: 63, dtype: object\n",
            "\n",
            "\n",
            "64 date               2018.07.30\n",
            "starttime               18:00\n",
            "endtime                 19:14\n",
            "starttemp                  33\n",
            "endtemp                    25\n",
            "air conditioner            on\n",
            "trafic                 normal\n",
            "route                 bp-dujv\n",
            "dist                     74.2\n",
            "avg.cons.                 5.8\n",
            "speed                      68\n",
            "duration                01:04\n",
            "fuel type                95FS\n",
            "road                  highway\n",
            "num. persons                2\n",
            "Name: 64, dtype: object\n",
            "\n",
            "\n",
            "65 date               2018.07.31\n",
            "starttime               09:00\n",
            "endtime                 10:00\n",
            "starttemp                  23\n",
            "endtemp                    23\n",
            "air conditioner            on\n",
            "trafic                 normal\n",
            "route                 dujv-bp\n",
            "dist                     71.0\n",
            "avg.cons.                 5.7\n",
            "speed                      66\n",
            "duration                01:04\n",
            "fuel type                 95+\n",
            "road                  highway\n",
            "num. persons                1\n",
            "Name: 65, dtype: object\n",
            "\n",
            "\n",
            "66 date               2018.08.02\n",
            "starttime               08:30\n",
            "endtime                 09:45\n",
            "starttemp                  20\n",
            "endtemp                    22\n",
            "air conditioner           off\n",
            "trafic                 normal\n",
            "route                 dujv-bp\n",
            "dist                     72.3\n",
            "avg.cons.                 4.7\n",
            "speed                      64\n",
            "duration                01:06\n",
            "fuel type                 95+\n",
            "road                  highway\n",
            "num. persons                1\n",
            "Name: 66, dtype: object\n",
            "\n",
            "\n",
            "67 date               2018.08.02\n",
            "starttime               18:40\n",
            "endtime                 19:50\n",
            "starttemp                  20\n",
            "endtemp                    21\n",
            "air conditioner           off\n",
            "trafic                   high\n",
            "route                 bp-dujv\n",
            "dist                     71.8\n",
            "avg.cons.                 5.1\n",
            "speed                      62\n",
            "duration                01:08\n",
            "fuel type                 95+\n",
            "road                  highway\n",
            "num. persons                1\n",
            "Name: 67, dtype: object\n",
            "\n",
            "\n",
            "68 date               2018.08.06\n",
            "starttime               08:15\n",
            "endtime                 09:20\n",
            "starttemp                  22\n",
            "endtemp                    24\n",
            "air conditioner            on\n",
            "trafic                 normal\n",
            "route                 dujv-bp\n",
            "dist                     72.1\n",
            "avg.cons.                 5.1\n",
            "speed                      66\n",
            "duration                01:05\n",
            "fuel type                 95+\n",
            "road                  highway\n",
            "num. persons                1\n",
            "Name: 68, dtype: object\n",
            "\n",
            "\n",
            "69 date                 2018.08.07\n",
            "starttime                 19:00\n",
            "endtime                   20:45\n",
            "starttemp                    30\n",
            "endtemp                      24\n",
            "air conditioner              on\n",
            "trafic                      low\n",
            "route              harkany-dujv\n",
            "dist                      173.9\n",
            "avg.cons.                   6.5\n",
            "speed                        95\n",
            "duration                  01:49\n",
            "fuel type                  95FS\n",
            "road                    highway\n",
            "num. persons                  1\n",
            "Name: 69, dtype: object\n",
            "\n",
            "\n",
            "70 date               2018.08.08\n",
            "starttime               07:40\n",
            "endtime                 08:45\n",
            "starttemp                  24\n",
            "endtemp                    24\n",
            "air conditioner            on\n",
            "trafic                 normal\n",
            "route                 dujv-bp\n",
            "dist                     72.1\n",
            "avg.cons.                 5.2\n",
            "speed                      69\n",
            "duration                01:02\n",
            "fuel type                95FS\n",
            "road                  highway\n",
            "num. persons                1\n",
            "Name: 70, dtype: object\n",
            "\n",
            "\n",
            "71 date               2018.08.08\n",
            "starttime               19:12\n",
            "endtime                 20:13\n",
            "starttemp                  32\n",
            "endtemp                    27\n",
            "air conditioner            on\n",
            "trafic                    low\n",
            "route                 bp-dujv\n",
            "dist                     71.4\n",
            "avg.cons.                 4.6\n",
            "speed                      73\n",
            "duration                00:58\n",
            "fuel type                95FS\n",
            "road                  highway\n",
            "num. persons                1\n",
            "Name: 71, dtype: object\n",
            "\n",
            "\n",
            "72 date               2018.08.09\n",
            "starttime               09:15\n",
            "endtime                 10:15\n",
            "starttemp                  27\n",
            "endtemp                    29\n",
            "air conditioner            on\n",
            "trafic                    low\n",
            "route                 dujv-bp\n",
            "dist                     69.7\n",
            "avg.cons.                 5.2\n",
            "speed                      70\n",
            "duration                00:59\n",
            "fuel type                 95+\n",
            "road                  highway\n",
            "num. persons                1\n",
            "Name: 72, dtype: object\n",
            "\n",
            "\n",
            "73 date               2018.08.09\n",
            "starttime               13:15\n",
            "endtime                 14:20\n",
            "starttemp                  33\n",
            "endtemp                    32\n",
            "air conditioner            on\n",
            "trafic                 normal\n",
            "route                 bp-dujv\n",
            "dist                     72.3\n",
            "avg.cons.                 5.8\n",
            "speed                      66\n",
            "duration                01:05\n",
            "fuel type                 95+\n",
            "road                  highway\n",
            "num. persons                1\n",
            "Name: 73, dtype: object\n",
            "\n",
            "\n",
            "74 date               2018.08.10\n",
            "starttime               08:45\n",
            "endtime                 09:45\n",
            "starttemp                  27\n",
            "endtemp                    27\n",
            "air conditioner            on\n",
            "trafic                    low\n",
            "route                 dujv-bp\n",
            "dist                     71.2\n",
            "avg.cons.                 4.6\n",
            "speed                      68\n",
            "duration                01:02\n",
            "fuel type                 95+\n",
            "road                  highway\n",
            "num. persons                1\n",
            "Name: 74, dtype: object\n",
            "\n",
            "\n",
            "75 date               2018.08.10\n",
            "starttime               20:00\n",
            "endtime                 22:00\n",
            "starttemp                  30\n",
            "endtemp                    25\n",
            "air conditioner            on\n",
            "trafic                    low\n",
            "route                 bp-dujv\n",
            "dist                    105.1\n",
            "avg.cons.                 5.9\n",
            "speed                      57\n",
            "duration                01:49\n",
            "fuel type                 95+\n",
            "road                  highway\n",
            "num. persons                3\n",
            "Name: 75, dtype: object\n",
            "\n",
            "\n",
            "76 date               2018.08.13\n",
            "starttime               08:18\n",
            "endtime                 09:55\n",
            "starttemp                  22\n",
            "endtemp                    26\n",
            "air conditioner            on\n",
            "trafic                 normal\n",
            "route                 dujv-bp\n",
            "dist                     94.4\n",
            "avg.cons.                 5.5\n",
            "speed                      68\n",
            "duration                01:23\n",
            "fuel type                95FS\n",
            "road                  highway\n",
            "num. persons                2\n",
            "Name: 76, dtype: object\n",
            "\n",
            "\n",
            "77 date               2018.08.13\n",
            "starttime               17:20\n",
            "endtime                 18:20\n",
            "starttemp                  33\n",
            "endtemp                    30\n",
            "air conditioner            on\n",
            "trafic                 normal\n",
            "route                 bp-dujv\n",
            "dist                     71.7\n",
            "avg.cons.                 6.2\n",
            "speed                      71\n",
            "duration                01:00\n",
            "fuel type                95FS\n",
            "road                  highway\n",
            "num. persons                1\n",
            "Name: 77, dtype: object\n",
            "\n",
            "\n",
            "78 date               2018.08.15\n",
            "starttime               09:00\n",
            "endtime                 10:09\n",
            "starttemp                  17\n",
            "endtemp                    22\n",
            "air conditioner           off\n",
            "trafic                 normal\n",
            "route                 dujv-bp\n",
            "dist                     72.0\n",
            "avg.cons.                 5.6\n",
            "speed                      63\n",
            "duration                01:08\n",
            "fuel type                95FS\n",
            "road                  highway\n",
            "num. persons                2\n",
            "Name: 78, dtype: object\n",
            "\n",
            "\n",
            "79 date               2018.08.15\n",
            "starttime               19:20\n",
            "endtime                 20:20\n",
            "starttemp                  25\n",
            "endtemp                    22\n",
            "air conditioner           off\n",
            "trafic                 normal\n",
            "route                 bp-dujv\n",
            "dist                     71.2\n",
            "avg.cons.                 5.2\n",
            "speed                      68\n",
            "duration                01:02\n",
            "fuel type                95FS\n",
            "road                  highway\n",
            "num. persons                1\n",
            "Name: 79, dtype: object\n",
            "\n",
            "\n",
            "80 date               2018.08.19\n",
            "starttime               08:50\n",
            "endtime                 10:05\n",
            "starttemp                  23\n",
            "endtemp                    26\n",
            "air conditioner            on\n",
            "trafic                    low\n",
            "route                 dujv-bp\n",
            "dist                     75.6\n",
            "avg.cons.                 5.1\n",
            "speed                      62\n",
            "duration                01:12\n",
            "fuel type                95FS\n",
            "road                  highway\n",
            "num. persons                1\n",
            "Name: 80, dtype: object\n",
            "\n",
            "\n",
            "81 date               2018.08.19\n",
            "starttime               18:45\n",
            "endtime                 20:00\n",
            "starttemp                  31\n",
            "endtemp                    25\n",
            "air conditioner            on\n",
            "trafic                   high\n",
            "route                 bp-dujv\n",
            "dist                     75.7\n",
            "avg.cons.                 6.0\n",
            "speed                      58\n",
            "duration                01:17\n",
            "fuel type                95FS\n",
            "road                  highway\n",
            "num. persons                1\n",
            "Name: 81, dtype: object\n",
            "\n",
            "\n",
            "82 date               2018.08.21\n",
            "starttime               08:25\n",
            "endtime                 09:33\n",
            "starttemp                  29\n",
            "endtemp                    26\n",
            "air conditioner            on\n",
            "trafic                 normal\n",
            "route                 dujv-bp\n",
            "dist                     70.9\n",
            "avg.cons.                 4.9\n",
            "speed                      63\n",
            "duration                01:06\n",
            "fuel type                 95+\n",
            "road                  highway\n",
            "num. persons                1\n",
            "Name: 82, dtype: object\n",
            "\n",
            "\n",
            "83 date               2018.08.21\n",
            "starttime               19:13\n",
            "endtime                 20:10\n",
            "starttemp                  30\n",
            "endtemp                    25\n",
            "air conditioner            on\n",
            "trafic                 normal\n",
            "route                 bp-dujv\n",
            "dist                     71.7\n",
            "avg.cons.                 6.8\n",
            "speed                      79\n",
            "duration                00:54\n",
            "fuel type                 95+\n",
            "road                  highway\n",
            "num. persons                1\n",
            "Name: 83, dtype: object\n",
            "\n",
            "\n",
            "84 date               2018.08.23\n",
            "starttime               08:13\n",
            "endtime                 09:27\n",
            "starttemp                  21\n",
            "endtemp                    25\n",
            "air conditioner            on\n",
            "trafic                 normal\n",
            "route                 dujv-bp\n",
            "dist                     71.0\n",
            "avg.cons.                 5.7\n",
            "speed                      67\n",
            "duration                01:03\n",
            "fuel type                 95+\n",
            "road                  highway\n",
            "num. persons                1\n",
            "Name: 84, dtype: object\n",
            "\n",
            "\n",
            "85 date                2018.08.27\n",
            "starttime                08:13\n",
            "endtime                  11:58\n",
            "starttemp                   15\n",
            "endtemp                     21\n",
            "air conditioner            off\n",
            "trafic                  normal\n",
            "route              dujv-erd-bp\n",
            "dist                      68.0\n",
            "avg.cons.                  5.1\n",
            "speed                       59\n",
            "duration                 01:08\n",
            "fuel type                  95+\n",
            "road                   highway\n",
            "num. persons                 1\n",
            "Name: 85, dtype: object\n",
            "\n",
            "\n",
            "86 date               2018.08.27\n",
            "starttime               17:27\n",
            "endtime                 19:19\n",
            "starttemp                  28\n",
            "endtemp                    19\n",
            "air conditioner            on\n",
            "trafic                   high\n",
            "route                 bp-dujv\n",
            "dist                     71.8\n",
            "avg.cons.                 6.6\n",
            "speed                      38\n",
            "duration                01:52\n",
            "fuel type                 95+\n",
            "road                  highway\n",
            "num. persons                1\n",
            "Name: 86, dtype: object\n",
            "\n",
            "\n",
            "87 date               2018.08.28\n",
            "starttime               06:45\n",
            "endtime                 07:41\n",
            "starttemp                  11\n",
            "endtemp                    16\n",
            "air conditioner           off\n",
            "trafic                 normal\n",
            "route                 dujv-bp\n",
            "dist                     71.8\n",
            "avg.cons.                 5.6\n",
            "speed                      70\n",
            "duration                01:01\n",
            "fuel type                 95+\n",
            "road                  highway\n",
            "num. persons                1\n",
            "Name: 87, dtype: object\n",
            "\n",
            "\n",
            "88 date               2018.08.28\n",
            "starttime               20:35\n",
            "endtime                 21:59\n",
            "starttemp                  22\n",
            "endtemp                    17\n",
            "air conditioner           off\n",
            "trafic                   high\n",
            "route                 bp-dujv\n",
            "dist                     71.4\n",
            "avg.cons.                 5.4\n",
            "speed                      53\n",
            "duration                01:20\n",
            "fuel type                 95+\n",
            "road                  highway\n",
            "num. persons                1\n",
            "Name: 88, dtype: object\n",
            "\n",
            "\n",
            "89 date               2018.08.29\n",
            "starttime               08:50\n",
            "endtime                 09:53\n",
            "starttemp                  22\n",
            "endtemp                    22\n",
            "air conditioner            on\n",
            "trafic                 normal\n",
            "route                 dujv-bp\n",
            "dist                     71.7\n",
            "avg.cons.                 4.9\n",
            "speed                      67\n",
            "duration                01:03\n",
            "fuel type                 95+\n",
            "road                  highway\n",
            "num. persons                1\n",
            "Name: 89, dtype: object\n",
            "\n",
            "\n",
            "90 date                 2018.08.31\n",
            "starttime                 07:50\n",
            "endtime                   08:30\n",
            "starttemp                    16\n",
            "endtemp                      18\n",
            "air conditioner             off\n",
            "trafic                   normal\n",
            "route              dujv-velence\n",
            "dist                       41.9\n",
            "avg.cons.                   5.0\n",
            "speed                        62\n",
            "duration                  00:40\n",
            "fuel type                   95+\n",
            "road                   standard\n",
            "num. persons                  1\n",
            "Name: 90, dtype: object\n",
            "\n",
            "\n",
            "91 date                 2018.09.01\n",
            "starttime                 08:20\n",
            "endtime                   08:57\n",
            "starttemp                    18\n",
            "endtemp                      21\n",
            "air conditioner             off\n",
            "trafic                   normal\n",
            "route              dujv-velence\n",
            "dist                       40.5\n",
            "avg.cons.                   5.3\n",
            "speed                        66\n",
            "duration                  00:36\n",
            "fuel type                  95FS\n",
            "road                   standard\n",
            "num. persons                  1\n",
            "Name: 91, dtype: object\n",
            "\n",
            "\n",
            "92 date               2018.09.02\n",
            "starttime               10:36\n",
            "endtime                 11:35\n",
            "starttemp                  22\n",
            "endtemp                    22\n",
            "air conditioner            on\n",
            "trafic                 normal\n",
            "route                 dujv-bp\n",
            "dist                     71.6\n",
            "avg.cons.                 5.4\n",
            "speed                      76\n",
            "duration                00:56\n",
            "fuel type                95FS\n",
            "road                  highway\n",
            "num. persons                1\n",
            "Name: 92, dtype: object\n",
            "\n",
            "\n",
            "93 date               2018.09.02\n",
            "starttime               18:07\n",
            "endtime                 19:11\n",
            "starttemp                  25\n",
            "endtemp                    23\n",
            "air conditioner            on\n",
            "trafic                 normal\n",
            "route               bp-szfvar\n",
            "dist                     65.9\n",
            "avg.cons.                 5.4\n",
            "speed                      67\n",
            "duration                00:59\n",
            "fuel type                95FS\n",
            "road                  highway\n",
            "num. persons                1\n",
            "Name: 93, dtype: object\n",
            "\n",
            "\n",
            "94 date               2018.09.03\n",
            "starttime               09:52\n",
            "endtime                 10:58\n",
            "starttemp                  17\n",
            "endtemp                    19\n",
            "air conditioner           off\n",
            "trafic                 normal\n",
            "route                 dujv-bp\n",
            "dist                     71.7\n",
            "avg.cons.                 4.5\n",
            "speed                      65\n",
            "duration                01:05\n",
            "fuel type                95FS\n",
            "road                  highway\n",
            "num. persons                1\n",
            "Name: 94, dtype: object\n",
            "\n",
            "\n",
            "95 date               2018.09.03\n",
            "starttime               22:00\n",
            "endtime                 22:55\n",
            "starttemp                  21\n",
            "endtemp                    19\n",
            "air conditioner           off\n",
            "trafic                 normal\n",
            "route                 bp-dujv\n",
            "dist                     68.2\n",
            "avg.cons.                 5.3\n",
            "speed                      78\n",
            "duration                00:52\n",
            "fuel type                 95+\n",
            "road                  highway\n",
            "num. persons                1\n",
            "Name: 95, dtype: object\n",
            "\n",
            "\n",
            "96 date               2018.09.04\n",
            "starttime               06:42\n",
            "endtime                 07:55\n",
            "starttemp                  16\n",
            "endtemp                    17\n",
            "air conditioner           off\n",
            "trafic                 normal\n",
            "route                 dujv-bp\n",
            "dist                     69.1\n",
            "avg.cons.                 4.5\n",
            "speed                      58\n",
            "duration                01:10\n",
            "fuel type                 95+\n",
            "road                  highway\n",
            "num. persons                1\n",
            "Name: 96, dtype: object\n",
            "\n",
            "\n",
            "97 date               2018.09.04\n",
            "starttime               20:00\n",
            "endtime                 21:10\n",
            "starttemp                  17\n",
            "endtemp                    16\n",
            "air conditioner           off\n",
            "trafic                    low\n",
            "route                 bp-dujv\n",
            "dist                     71.6\n",
            "avg.cons.                 4.5\n",
            "speed                      65\n",
            "duration                01:05\n",
            "fuel type                 95+\n",
            "road                  highway\n",
            "num. persons                1\n",
            "Name: 97, dtype: object\n",
            "\n",
            "\n",
            "98 date               2018.09.05\n",
            "starttime               08:15\n",
            "endtime                 09:25\n",
            "starttemp                  15\n",
            "endtemp                    20\n",
            "air conditioner           off\n",
            "trafic                 normal\n",
            "route                 dujv-bp\n",
            "dist                     71.7\n",
            "avg.cons.                 4.7\n",
            "speed                      62\n",
            "duration                01:09\n",
            "fuel type                 95+\n",
            "road                  highway\n",
            "num. persons                1\n",
            "Name: 98, dtype: object\n",
            "\n",
            "\n",
            "99 date               2018.09.05\n",
            "starttime               20:50\n",
            "endtime                 21:52\n",
            "starttemp                  21\n",
            "endtemp                    19\n",
            "air conditioner           off\n",
            "trafic                    low\n",
            "route                 bp-dujv\n",
            "dist                     71.6\n",
            "avg.cons.                 4.8\n",
            "speed                      73\n",
            "duration                00:58\n",
            "fuel type                 95+\n",
            "road                  highway\n",
            "num. persons                1\n",
            "Name: 99, dtype: object\n",
            "\n",
            "\n"
          ]
        }
      ]
    },
    {
      "cell_type": "markdown",
      "metadata": {
        "id": "E7uAKzhUuMOz"
      },
      "source": [
        "(b) Az előbbi függvény felhasználásával írjon egy olyan szkriptet, amely az adattábla minden egyes példányáról eldönti, hogy megtartantó-e, azaz különbözik-e a következő példánytól. Eredményként egy True/False értékekből álló listát várunk, amelyben True azt jelöli, hogy a példányt megtartjuk, False pedig azt, hogy eldobjuk, mert egy másik példány azonos vele."
      ]
    },
    {
      "cell_type": "code",
      "metadata": {
        "id": "SWJYjEkWuKYG"
      },
      "source": [
        "# ...IDE JÖN A KÓD..."
      ],
      "execution_count": null,
      "outputs": []
    },
    {
      "cell_type": "markdown",
      "metadata": {
        "id": "XoDr69gSvqZt"
      },
      "source": [
        "A deduplikált adattábla:"
      ]
    },
    {
      "cell_type": "code",
      "metadata": {
        "id": "F-IyCYdnvDRE"
      },
      "source": [
        "data_dedup = pd.DataFrame(data[keep])\n",
        "data_dedup"
      ],
      "execution_count": null,
      "outputs": []
    },
    {
      "cell_type": "markdown",
      "metadata": {
        "id": "6sJEVz93xPjP"
      },
      "source": [
        "**Inkonzisztens értékek**"
      ]
    },
    {
      "cell_type": "markdown",
      "metadata": {
        "id": "7KbX5nIbxF48"
      },
      "source": [
        "*8. feladat*\n",
        "\n",
        "(a) Vizsgálja meg, hogy az adattábla *air conditioner* oszlopa milyen értékeket vesz fel, melyiket hányszor. Segítség: használjon *groupby*-t és *count*-ot!"
      ]
    },
    {
      "cell_type": "code",
      "metadata": {
        "id": "u40Y5ynywqLN",
        "colab": {
          "base_uri": "https://localhost:8080/"
        },
        "outputId": "fc35e449-b2a0-4a3e-dc50-6bb1aeb28e4b"
      },
      "source": [
        "# ...IDE JÖN A KÓD...\n",
        "\n",
        "air_conditioner_copy_of_data = data.copy()\n",
        "print(air_conditioner_copy_of_data.groupby('air conditioner').count())"
      ],
      "execution_count": 98,
      "outputs": [
        {
          "output_type": "stream",
          "name": "stdout",
          "text": [
            "                 date  starttime  endtime  starttemp  endtemp  trafic  route  \\\n",
            "air conditioner                                                                \n",
            "off                55         55       55         53       52      55     55   \n",
            "offf                1          1        1          1        1       1      1   \n",
            "on                 45         45       45         42       44      45     45   \n",
            "onn                 1          1        1          1        1       1      1   \n",
            "oof                 1          1        1          1        1       1      1   \n",
            "\n",
            "                 dist  avg.cons.  speed  duration  fuel type  road  \\\n",
            "air conditioner                                                      \n",
            "off                54         55     55        55         55    55   \n",
            "offf                1          1      1         1          1     1   \n",
            "on                 45         45     45        45         45    45   \n",
            "onn                 1          1      1         1          1     1   \n",
            "oof                 1          1      1         1          1     1   \n",
            "\n",
            "                 num. persons  \n",
            "air conditioner                \n",
            "off                        55  \n",
            "offf                        1  \n",
            "on                         45  \n",
            "onn                         1  \n",
            "oof                         1  \n"
          ]
        }
      ]
    },
    {
      "cell_type": "markdown",
      "metadata": {
        "id": "-hGgGgRrx7a1"
      },
      "source": [
        "(b) Helyettesítse az \"offf\" értékeket \"off\"-fal!"
      ]
    },
    {
      "cell_type": "code",
      "metadata": {
        "id": "-STdUNFdxuzO",
        "colab": {
          "base_uri": "https://localhost:8080/"
        },
        "outputId": "fbca422b-0a06-40a3-a60f-e3e83ffda98b"
      },
      "source": [
        "# ...IDE JÖN A KÓD...\n",
        "\n",
        "for i in range(len(air_conditioner_copy_of_data['air conditioner'])):\n",
        "  if air_conditioner_copy_of_data['air conditioner'][i] == 'offf':\n",
        "    air_conditioner_copy_of_data['air conditioner'][i] = 'off'\n",
        "    print(i, 'copied off')\n",
        "print(air_conditioner_copy_of_data.groupby('air conditioner').count())"
      ],
      "execution_count": 102,
      "outputs": [
        {
          "output_type": "stream",
          "name": "stdout",
          "text": [
            "                 date  starttime  endtime  starttemp  endtemp  trafic  route  \\\n",
            "air conditioner                                                                \n",
            "off                56         56       56         54       53      56     56   \n",
            "on                 45         45       45         42       44      45     45   \n",
            "onn                 1          1        1          1        1       1      1   \n",
            "oof                 1          1        1          1        1       1      1   \n",
            "\n",
            "                 dist  avg.cons.  speed  duration  fuel type  road  \\\n",
            "air conditioner                                                      \n",
            "off                55         56     56        56         56    56   \n",
            "on                 45         45     45        45         45    45   \n",
            "onn                 1          1      1         1          1     1   \n",
            "oof                 1          1      1         1          1     1   \n",
            "\n",
            "                 num. persons  \n",
            "air conditioner                \n",
            "off                        56  \n",
            "on                         45  \n",
            "onn                         1  \n",
            "oof                         1  \n"
          ]
        }
      ]
    },
    {
      "cell_type": "markdown",
      "metadata": {
        "id": "0yeXxkd4yWGJ"
      },
      "source": [
        "(c) Helyettesítse az \"onn\" értékeket \"on\"-nal!"
      ]
    },
    {
      "cell_type": "code",
      "metadata": {
        "id": "n50c711cyvhN",
        "colab": {
          "base_uri": "https://localhost:8080/"
        },
        "outputId": "4313e0f8-d361-4499-8eff-c179e2fdc3c4"
      },
      "source": [
        "# ...IDE JÖN A KÓD...\n",
        "for i in range(len(air_conditioner_copy_of_data['air conditioner'])):\n",
        "  if air_conditioner_copy_of_data['air conditioner'][i] == 'onn':\n",
        "    air_conditioner_copy_of_data['air conditioner'][i] = 'on'\n",
        "    print(i, 'copied off')\n",
        "print(air_conditioner_copy_of_data.groupby('air conditioner').count())\n"
      ],
      "execution_count": 103,
      "outputs": [
        {
          "output_type": "stream",
          "name": "stdout",
          "text": [
            "50 copied off\n",
            "                 date  starttime  endtime  starttemp  endtemp  trafic  route  \\\n",
            "air conditioner                                                                \n",
            "off                56         56       56         54       53      56     56   \n",
            "on                 46         46       46         43       45      46     46   \n",
            "oof                 1          1        1          1        1       1      1   \n",
            "\n",
            "                 dist  avg.cons.  speed  duration  fuel type  road  \\\n",
            "air conditioner                                                      \n",
            "off                55         56     56        56         56    56   \n",
            "on                 46         46     46        46         46    46   \n",
            "oof                 1          1      1         1          1     1   \n",
            "\n",
            "                 num. persons  \n",
            "air conditioner                \n",
            "off                        56  \n",
            "on                         46  \n",
            "oof                         1  \n"
          ]
        }
      ]
    },
    {
      "cell_type": "markdown",
      "metadata": {
        "id": "-WhtJN-uycKM"
      },
      "source": [
        "(d) Helyettesítse az \"oof\" értékeket \"off\"-fal!"
      ]
    },
    {
      "cell_type": "code",
      "metadata": {
        "id": "e-T332NUyi8A",
        "colab": {
          "base_uri": "https://localhost:8080/"
        },
        "outputId": "c78a3a66-03ce-4d85-9ed7-c84346fd8448"
      },
      "source": [
        "# ...IDE JÖN A KÓD...\n",
        "\n",
        "for i in range(len(air_conditioner_copy_of_data['air conditioner'])):\n",
        "  if air_conditioner_copy_of_data['air conditioner'][i] == 'oof':\n",
        "    air_conditioner_copy_of_data['air conditioner'][i] = 'off'\n",
        "    print(i, 'copied off')\n",
        "print(air_conditioner_copy_of_data.groupby('air conditioner').count())"
      ],
      "execution_count": 104,
      "outputs": [
        {
          "output_type": "stream",
          "name": "stdout",
          "text": [
            "8 copied off\n",
            "                 date  starttime  endtime  starttemp  endtemp  trafic  route  \\\n",
            "air conditioner                                                                \n",
            "off                57         57       57         55       54      57     57   \n",
            "on                 46         46       46         43       45      46     46   \n",
            "\n",
            "                 dist  avg.cons.  speed  duration  fuel type  road  \\\n",
            "air conditioner                                                      \n",
            "off                56         57     57        57         57    57   \n",
            "on                 46         46     46        46         46    46   \n",
            "\n",
            "                 num. persons  \n",
            "air conditioner                \n",
            "off                        57  \n",
            "on                         46  \n"
          ]
        }
      ]
    },
    {
      "cell_type": "markdown",
      "metadata": {
        "id": "ZQvcBg0Xy1d5"
      },
      "source": [
        "**Leíró statisztikák**"
      ]
    },
    {
      "cell_type": "markdown",
      "metadata": {
        "id": "uS-FekZw41qR"
      },
      "source": [
        "Betöltjük a helyes adatokat:"
      ]
    },
    {
      "cell_type": "code",
      "metadata": {
        "id": "QharNtsA40bZ"
      },
      "source": [
        "data = pd.read_csv('http://www.biointelligence.hu/mi/fuel_data.txt', header=0, sep='\\t')"
      ],
      "execution_count": 105,
      "outputs": []
    },
    {
      "cell_type": "markdown",
      "metadata": {
        "id": "tbcp1vQU55o1"
      },
      "source": [
        "*9. feladat*\n",
        "\n",
        "Számolja ki a kezdeti hőmérséklet\n",
        "\n",
        "(a) minimumát és maximumát,\n",
        "\n",
        "(b) 25%-os és 75%-os percentiliseit,\n",
        "\n",
        "(c) és szórását!\n",
        "\n",
        "(d) Írjon egy függvényt, amellyel bármelyik oszlop amplitúdója (maximumának és\n",
        "    minimumának különbsége) meghatározható!\n",
        "\n",
        "(e) Írjon egy függvényt, amely meghatározza az alsó és felső kvartilisek távolságát!\n",
        "\n",
        "(Segítség: használja a numpy függvényeit!)"
      ]
    },
    {
      "cell_type": "code",
      "metadata": {
        "id": "uqqPv6Y74_Df",
        "colab": {
          "base_uri": "https://localhost:8080/"
        },
        "outputId": "a729db17-6438-4ed5-af09-0f8bba88b235"
      },
      "source": [
        "# ...IDE JÖN A KÓD...\n",
        "\n",
        "desc_stats_copy_of_data = data.copy()\n",
        "print(desc_stats_copy_of_data['starttemp'].describe())"
      ],
      "execution_count": 106,
      "outputs": [
        {
          "output_type": "stream",
          "name": "stdout",
          "text": [
            "count    100.000000\n",
            "mean      22.800000\n",
            "std        5.688905\n",
            "min       11.000000\n",
            "25%       18.000000\n",
            "50%       22.000000\n",
            "75%       28.000000\n",
            "max       33.000000\n",
            "Name: starttemp, dtype: float64\n"
          ]
        }
      ]
    },
    {
      "cell_type": "code",
      "metadata": {
        "id": "VxR0t-CO5_GQ",
        "colab": {
          "base_uri": "https://localhost:8080/"
        },
        "outputId": "3d552246-f3c9-42bb-90af-6f8057c11fca"
      },
      "source": [
        "# ...IDE JÖN A KÓD...\n",
        "np.min(desc_stats_copy_of_data['starttemp'])\n"
      ],
      "execution_count": 107,
      "outputs": [
        {
          "output_type": "execute_result",
          "data": {
            "text/plain": [
              "11"
            ]
          },
          "metadata": {},
          "execution_count": 107
        }
      ]
    },
    {
      "cell_type": "code",
      "metadata": {
        "id": "tsmWYGea6CNS"
      },
      "source": [
        "# ...IDE JÖN A KÓD..."
      ],
      "execution_count": null,
      "outputs": []
    },
    {
      "cell_type": "code",
      "metadata": {
        "id": "4ecZc0AZ6Hox"
      },
      "source": [
        "# ...IDE JÖN A KÓD..."
      ],
      "execution_count": null,
      "outputs": []
    },
    {
      "cell_type": "code",
      "metadata": {
        "id": "Hf6cXOTl6Pym"
      },
      "source": [
        "# ...IDE JÖN A KÓD..."
      ],
      "execution_count": null,
      "outputs": []
    },
    {
      "cell_type": "code",
      "metadata": {
        "id": "5XNlOzkx6eOX"
      },
      "source": [
        "# ...IDE JÖN A KÓD..."
      ],
      "execution_count": null,
      "outputs": []
    },
    {
      "cell_type": "markdown",
      "metadata": {
        "id": "9WeBQGpA72TP"
      },
      "source": [
        "**Diagramok**"
      ]
    },
    {
      "cell_type": "code",
      "metadata": {
        "id": "5JNTjrey7JLh",
        "colab": {
          "base_uri": "https://localhost:8080/",
          "height": 430
        },
        "outputId": "533439ca-344c-497f-a6df-7a217d7f6c02"
      },
      "source": [
        "data[\"starttemp\"].hist(bins=20);"
      ],
      "execution_count": 120,
      "outputs": [
        {
          "output_type": "display_data",
          "data": {
            "text/plain": [
              "<Figure size 640x480 with 1 Axes>"
            ],
            "image/png": "[encoded data removed]"
          },
          "metadata": {}
        }
      ]
    },
    {
      "cell_type": "markdown",
      "metadata": {
        "id": "gFfEZnAI8Pk9"
      },
      "source": [
        "*10. feladat*\n",
        "\n",
        "A \"pandas DataFrame\" dokumentációját és/vagy interneten elérhető forrásokat felhasználva módosítsa az előbbi kódot úgy, hogy a hisztogram oszlopainak száma ne 10, hanem 20 legyen!"
      ]
    },
    {
      "cell_type": "code",
      "metadata": {
        "id": "tdPlaZai76nC"
      },
      "source": [
        "# ...IDE JÖN A KÓD...\n",
        "\n"
      ],
      "execution_count": null,
      "outputs": []
    },
    {
      "cell_type": "markdown",
      "metadata": {
        "id": "oXGdV-iv89gm"
      },
      "source": [
        "*11. feladat*\n",
        "\n",
        "Határozza meg, hány esetben volt a légkondi\n",
        "\n",
        "(a) bekapcsolva (ac_on), illetve\n",
        "\n",
        "(b) kikapcsolva (ac_off)."
      ]
    },
    {
      "cell_type": "code",
      "metadata": {
        "id": "UqIq7rpL8pYj",
        "colab": {
          "base_uri": "https://localhost:8080/"
        },
        "outputId": "300c0032-05f7-4ec4-f3ab-a63a3dd68d09"
      },
      "source": [
        "# ...IDE JÖN A KÓD...\n",
        "ac_on = 0\n",
        "ac_off = 0\n",
        "\n",
        "for i in range(len(air_conditioner_copy_of_data['air conditioner'])):\n",
        "  if air_conditioner_copy_of_data['air conditioner'][i] == 'on':\n",
        "    ac_on += 1\n",
        "  elif air_conditioner_copy_of_data['air conditioner'][i] == 'off':\n",
        "    ac_off += 1\n",
        "\n",
        "print(ac_on, ac_off)"
      ],
      "execution_count": 123,
      "outputs": [
        {
          "output_type": "stream",
          "name": "stdout",
          "text": [
            "46 57\n"
          ]
        }
      ]
    },
    {
      "cell_type": "code",
      "source": [
        "air_conditioner_copy_of_data['air conditioner'] == 'on'"
      ],
      "metadata": {
        "id": "mq4hSFt24u8u",
        "outputId": "beaa7283-dce6-4150-8f77-9459922a9ad0",
        "colab": {
          "base_uri": "https://localhost:8080/",
          "height": 458
        }
      },
      "execution_count": 139,
      "outputs": [
        {
          "output_type": "execute_result",
          "data": {
            "text/plain": [
              "0      False\n",
              "1      False\n",
              "2       True\n",
              "3       True\n",
              "4       True\n",
              "       ...  \n",
              "98     False\n",
              "99     False\n",
              "100    False\n",
              "101    False\n",
              "102    False\n",
              "Name: air conditioner, Length: 103, dtype: bool"
            ],
            "text/html": [
              "<div>\n",
              "<style scoped>\n",
              "    .dataframe tbody tr th:only-of-type {\n",
              "        vertical-align: middle;\n",
              "    }\n",
              "\n",
              "    .dataframe tbody tr th {\n",
              "        vertical-align: top;\n",
              "    }\n",
              "\n",
              "    .dataframe thead th {\n",
              "        text-align: right;\n",
              "    }\n",
              "</style>\n",
              "<table border=\"1\" class=\"dataframe\">\n",
              "  <thead>\n",
              "    <tr style=\"text-align: right;\">\n",
              "      <th></th>\n",
              "      <th>air conditioner</th>\n",
              "    </tr>\n",
              "  </thead>\n",
              "  <tbody>\n",
              "    <tr>\n",
              "      <th>0</th>\n",
              "      <td>False</td>\n",
              "    </tr>\n",
              "    <tr>\n",
              "      <th>1</th>\n",
              "      <td>False</td>\n",
              "    </tr>\n",
              "    <tr>\n",
              "      <th>2</th>\n",
              "      <td>True</td>\n",
              "    </tr>\n",
              "    <tr>\n",
              "      <th>3</th>\n",
              "      <td>True</td>\n",
              "    </tr>\n",
              "    <tr>\n",
              "      <th>4</th>\n",
              "      <td>True</td>\n",
              "    </tr>\n",
              "    <tr>\n",
              "      <th>...</th>\n",
              "      <td>...</td>\n",
              "    </tr>\n",
              "    <tr>\n",
              "      <th>98</th>\n",
              "      <td>False</td>\n",
              "    </tr>\n",
              "    <tr>\n",
              "      <th>99</th>\n",
              "      <td>False</td>\n",
              "    </tr>\n",
              "    <tr>\n",
              "      <th>100</th>\n",
              "      <td>False</td>\n",
              "    </tr>\n",
              "    <tr>\n",
              "      <th>101</th>\n",
              "      <td>False</td>\n",
              "    </tr>\n",
              "    <tr>\n",
              "      <th>102</th>\n",
              "      <td>False</td>\n",
              "    </tr>\n",
              "  </tbody>\n",
              "</table>\n",
              "<p>103 rows × 1 columns</p>\n",
              "</div><br><label><b>dtype:</b> bool</label>"
            ]
          },
          "metadata": {},
          "execution_count": 139
        }
      ]
    },
    {
      "cell_type": "code",
      "metadata": {
        "id": "HvYqfZ7Z9Lvf",
        "colab": {
          "base_uri": "https://localhost:8080/"
        },
        "outputId": "11975813-095a-474a-88d9-9fc728291e45"
      },
      "source": [
        "(air_conditioner_copy_of_data['air conditioner'] == 'on').sum()"
      ],
      "execution_count": 138,
      "outputs": [
        {
          "output_type": "execute_result",
          "data": {
            "text/plain": [
              "46"
            ]
          },
          "metadata": {},
          "execution_count": 138
        }
      ]
    },
    {
      "cell_type": "markdown",
      "metadata": {
        "id": "O8I4rDCG9d-f"
      },
      "source": [
        "A következőkben a légkondi ki- és bekapcsoltságát fogjuk különböző diagramokon ábrázolni."
      ]
    },
    {
      "cell_type": "code",
      "metadata": {
        "id": "4IQM7AzS9buO",
        "colab": {
          "base_uri": "https://localhost:8080/",
          "height": 430
        },
        "outputId": "d2001cb5-fcda-4c7e-e4bb-2738b12add06"
      },
      "source": [
        "plt.bar([2,1], [ac_on, ac_off], tick_label=[\"bekapcs\",\"kikapcs\"], color=[\"b\",\"g\"]);\n",
        "\n",
        "# plt.show() # most nem kell, de máskor jól jöhet :-)"
      ],
      "execution_count": 125,
      "outputs": [
        {
          "output_type": "display_data",
          "data": {
            "text/plain": [
              "<Figure size 640x480 with 1 Axes>"
            ],
            "image/png": "[encoded data removed]"
          },
          "metadata": {}
        }
      ]
    },
    {
      "cell_type": "code",
      "metadata": {
        "id": "zKDM8EKu-Aap",
        "colab": {
          "base_uri": "https://localhost:8080/",
          "height": 406
        },
        "outputId": "367b98d4-923d-4a4d-adae-361f465d461f"
      },
      "source": [
        "plt.pie( [ac_on, ac_off], labels=[\"on\", \"off\"]);"
      ],
      "execution_count": 126,
      "outputs": [
        {
          "output_type": "display_data",
          "data": {
            "text/plain": [
              "<Figure size 640x480 with 1 Axes>"
            ],
            "image/png": "[encoded data removed]"
          },
          "metadata": {}
        }
      ]
    },
    {
      "cell_type": "markdown",
      "metadata": {
        "id": "CG-eNBDqRitB"
      },
      "source": [
        "Kezdőhőmérséklet eloszlása boxplot-on:\n",
        "\n",
        "- középső vonal: median\n",
        "- doboz teteje: felso kvartilis (75%-os percentilis)\n",
        "- doboz alja: also kvartilis (25%-os percentilis)\n",
        "- felső vonal: median + 1.5*(interquartile range), de legfeljebb a legnagyobb érték\n",
        "- alsó vonal: median - 1.5*(interquartile range), de nem kisebb a legkisebb értéknél\n",
        "- outlierek: karikák az alsó és felső vonal alatt ill. felett\n",
        "- alsó és felső vonalnál az 1.5-ös szorzó állítható, ld. https://matplotlib.org/stable/api/_as_gen/matplotlib.pyplot.boxplot.html\n",
        "\n"
      ]
    },
    {
      "cell_type": "code",
      "metadata": {
        "id": "c8RwaluV-aeD",
        "colab": {
          "base_uri": "https://localhost:8080/",
          "height": 430
        },
        "outputId": "fff7b1e2-212c-4e96-d7d8-81128e5b59b9"
      },
      "source": [
        "plt.boxplot(data['starttemp'], notch=True);"
      ],
      "execution_count": 127,
      "outputs": [
        {
          "output_type": "display_data",
          "data": {
            "text/plain": [
              "<Figure size 640x480 with 1 Axes>"
            ],
            "image/png": "[encoded data removed]"
          },
          "metadata": {}
        }
      ]
    },
    {
      "cell_type": "code",
      "metadata": {
        "id": "Nk3aNFQ2QdNe",
        "colab": {
          "base_uri": "https://localhost:8080/",
          "height": 430
        },
        "outputId": "1ebd895b-03aa-47a8-8c4f-d045194cc843"
      },
      "source": [
        "plt.boxplot([ data[data['fuel type'] =='95FS']['avg.cons.'],\n",
        "              data[data['fuel type'] =='95+']['avg.cons.'] ],\n",
        "              labels = ['95FS', '95+']);"
      ],
      "execution_count": 128,
      "outputs": [
        {
          "output_type": "display_data",
          "data": {
            "text/plain": [
              "<Figure size 640x480 with 1 Axes>"
            ],
            "image/png": "[encoded data removed]"
          },
          "metadata": {}
        }
      ]
    },
    {
      "cell_type": "markdown",
      "metadata": {
        "id": "0rrhS4pKTT64"
      },
      "source": [
        "**Szélsőséges értékek kezelése**\n",
        "\n",
        "Egy egyszerű eljárás a szélsőséges értékek kezelésére: kihagyjuk őket. Felrajzoljuk példaként az előbbi boxplot-okat a 10l/100km-es fogyasztásnál nagyobb fogyasztásokat kihagyva."
      ]
    },
    {
      "cell_type": "code",
      "metadata": {
        "id": "nl0q6YeITCS1",
        "colab": {
          "base_uri": "https://localhost:8080/",
          "height": 430
        },
        "outputId": "0c948520-7d27-455e-9ab5-249e76e6b020"
      },
      "source": [
        "plt.boxplot([ data[(data['fuel type'] =='95FS') & (data['avg.cons.']<10)]['avg.cons.'],\n",
        "              data[(data['fuel type'] =='95+')  & (data['avg.cons.']<10)]['avg.cons.'] ],\n",
        "             labels = ['95FS', '95+']);"
      ],
      "execution_count": 129,
      "outputs": [
        {
          "output_type": "display_data",
          "data": {
            "text/plain": [
              "<Figure size 640x480 with 1 Axes>"
            ],
            "image/png": "[encoded data removed]"
          },
          "metadata": {}
        }
      ]
    },
    {
      "cell_type": "markdown",
      "metadata": {
        "id": "lz_xw_JdT9Tu"
      },
      "source": [
        "**Korreláció**"
      ]
    },
    {
      "cell_type": "code",
      "metadata": {
        "id": "DfmASDGUTq8u",
        "colab": {
          "base_uri": "https://localhost:8080/"
        },
        "outputId": "7841d0e2-5377-4dbd-ad61-0d596c5fa1c2"
      },
      "source": [
        "np.corrcoef(data['starttemp'], data['endtemp'])"
      ],
      "execution_count": 130,
      "outputs": [
        {
          "output_type": "execute_result",
          "data": {
            "text/plain": [
              "array([[1.        , 0.81328617],\n",
              "       [0.81328617, 1.        ]])"
            ]
          },
          "metadata": {},
          "execution_count": 130
        }
      ]
    },
    {
      "cell_type": "markdown",
      "metadata": {
        "id": "sfh9mL-nUD6K"
      },
      "source": [
        "*12. feladat*\n",
        "\n",
        "Írja meg azt a kódot, amely megadja kiszámolja a korrelációmátrixot a sebesség és az üzemanyagfogyasztás között!"
      ]
    },
    {
      "cell_type": "code",
      "metadata": {
        "id": "m3XLldNdT_ks",
        "colab": {
          "base_uri": "https://localhost:8080/"
        },
        "outputId": "abaf46a2-7838-4709-917f-64cd0b452f9b"
      },
      "source": [
        "# ...IDE JÖN A KÓD...\n",
        "np.corrcoef(data['speed'], data['avg.cons.'])\n"
      ],
      "execution_count": 131,
      "outputs": [
        {
          "output_type": "execute_result",
          "data": {
            "text/plain": [
              "array([[ 1.        , -0.42431058],\n",
              "       [-0.42431058,  1.        ]])"
            ]
          },
          "metadata": {},
          "execution_count": 131
        }
      ]
    },
    {
      "cell_type": "markdown",
      "metadata": {
        "id": "88lhN9bgUi_A"
      },
      "source": [
        "**Scatterplottól a többdimenziós ábrákig**"
      ]
    },
    {
      "cell_type": "code",
      "metadata": {
        "id": "D8cekN2VUSkk",
        "colab": {
          "base_uri": "https://localhost:8080/",
          "height": 430
        },
        "outputId": "5ce6cd3a-0a72-44e0-bd3e-2711d01ff48a"
      },
      "source": [
        "plt.scatter(data['speed'], data['avg.cons.']);"
      ],
      "execution_count": 132,
      "outputs": [
        {
          "output_type": "display_data",
          "data": {
            "text/plain": [
              "<Figure size 640x480 with 1 Axes>"
            ],
            "image/png": "[encoded data removed]"
          },
          "metadata": {}
        }
      ]
    },
    {
      "cell_type": "markdown",
      "metadata": {
        "id": "hHDXmwFTU4km"
      },
      "source": [
        "A következő ábrán színekkel jelöljük a forgalmi viszonyokat, de csak azokat az eseteket ábrázoljuk, ahol a fogyasztás 10l/100km alatti"
      ]
    },
    {
      "cell_type": "code",
      "metadata": {
        "id": "-OFtrhV4UqVo",
        "colab": {
          "base_uri": "https://localhost:8080/",
          "height": 430
        },
        "outputId": "01c2d012-6b99-4999-e36d-e148335e8b6f"
      },
      "source": [
        "relevant_data = data[data['avg.cons.']<10]\n",
        "\n",
        "colors = []\n",
        "for tr in relevant_data['trafic']:\n",
        "    if tr == 'low':\n",
        "        colors.append('g')\n",
        "    elif tr == 'normal':\n",
        "        colors.append('b')\n",
        "    else:\n",
        "        colors.append('r')\n",
        "\n",
        "plt.scatter(relevant_data['speed'],\n",
        "            relevant_data['avg.cons.'],\n",
        "            c = colors);"
      ],
      "execution_count": 133,
      "outputs": [
        {
          "output_type": "display_data",
          "data": {
            "text/plain": [
              "<Figure size 640x480 with 1 Axes>"
            ],
            "image/png": "[encoded data removed]"
          },
          "metadata": {}
        }
      ]
    },
    {
      "cell_type": "markdown",
      "metadata": {
        "id": "ID0vd9DBVfgI"
      },
      "source": [
        "*13. feladat*\n",
        "\n",
        "Hozzon létre egy új attribútumot (oszlopot), amely az átlagos hőmérsékletet (indulási és érkezéskori hőmérsékletek átlagát) tartalmazza!"
      ]
    },
    {
      "cell_type": "code",
      "metadata": {
        "id": "47UVNbTMVLpQ",
        "colab": {
          "base_uri": "https://localhost:8080/"
        },
        "outputId": "5ccdd4b0-5690-4fd2-a114-5aca1249d104"
      },
      "source": [
        "# ...IDE JÖN A KÓD...\n",
        "data['temp'] = (data['starttemp'] + data['endtemp'])/2\n",
        "print(data['temp'])\n"
      ],
      "execution_count": 134,
      "outputs": [
        {
          "output_type": "stream",
          "name": "stdout",
          "text": [
            "0     16.0\n",
            "1     21.5\n",
            "2     29.0\n",
            "3     28.5\n",
            "4     27.5\n",
            "      ... \n",
            "95    20.0\n",
            "96    16.5\n",
            "97    16.5\n",
            "98    17.5\n",
            "99    20.0\n",
            "Name: temp, Length: 100, dtype: float64\n"
          ]
        }
      ]
    },
    {
      "cell_type": "markdown",
      "metadata": {
        "id": "f_VQCx2lV_Ui"
      },
      "source": [
        "A következőkben egy 3D ábrán egyszerre fogjuk ábrázolni a sebességet, fogyasztást és a hőmérsékletet."
      ]
    },
    {
      "cell_type": "code",
      "metadata": {
        "id": "w0Q5WEPjVxFS",
        "colab": {
          "base_uri": "https://localhost:8080/",
          "height": 419
        },
        "outputId": "18124df2-06e3-4c88-da18-6b815ee48784"
      },
      "source": [
        "from mpl_toolkits.mplot3d import Axes3D\n",
        "fig = plt.figure()\n",
        "ax = fig.add_subplot(111, projection='3d')\n",
        "ax.scatter(data['speed'], data['avg.cons.'], data['temp'])\n",
        "plt.show()"
      ],
      "execution_count": 135,
      "outputs": [
        {
          "output_type": "display_data",
          "data": {
            "text/plain": [
              "<Figure size 640x480 with 1 Axes>"
            ],
            "image/png": "[encoded data removed]"
          },
          "metadata": {}
        }
      ]
    },
    {
      "cell_type": "markdown",
      "metadata": {
        "id": "70aSrTd9Wm-3"
      },
      "source": [
        "\n",
        "\n",
        "...szín segítségével megjelenítjük az üzemanyag típusát:\n",
        "\n"
      ]
    },
    {
      "cell_type": "code",
      "metadata": {
        "id": "cJShuwiTWHIj",
        "colab": {
          "base_uri": "https://localhost:8080/",
          "height": 419
        },
        "outputId": "0569e20b-d2d3-4a58-c3c8-16300a8aaa15"
      },
      "source": [
        "from mpl_toolkits.mplot3d import Axes3D\n",
        "fig = plt.figure()\n",
        "ax = fig.add_subplot(111, projection='3d')\n",
        "colors = []\n",
        "for i in range(len(data)):\n",
        "    if data['fuel type'][i]=='95+':\n",
        "        colors.append('r')\n",
        "    else:\n",
        "        colors.append('b')\n",
        "ax.scatter(data['speed'], data['avg.cons.'], data['temp'], c = colors)\n",
        "ax.set_xlabel('speed')\n",
        "ax.set_ylabel('avg.cons')\n",
        "ax.set_zlabel('temp')\n",
        "plt.show()"
      ],
      "execution_count": 136,
      "outputs": [
        {
          "output_type": "display_data",
          "data": {
            "text/plain": [
              "<Figure size 640x480 with 1 Axes>"
            ],
            "image/png": "[encoded data removed]"
          },
          "metadata": {}
        }
      ]
    },
    {
      "cell_type": "markdown",
      "metadata": {
        "id": "ed-o9v0xXFoL"
      },
      "source": [
        "...a jelölő (marker) típusával pedig a forgalmi viszonyokat:"
      ]
    },
    {
      "cell_type": "code",
      "metadata": {
        "id": "xI2dbUIvWoaF",
        "colab": {
          "base_uri": "https://localhost:8080/",
          "height": 419
        },
        "outputId": "dccfeb8d-e37f-46bd-af07-7c4e7536162f"
      },
      "source": [
        "from mpl_toolkits.mplot3d import Axes3D\n",
        "fig = plt.figure()\n",
        "ax = fig.add_subplot(111, projection='3d')\n",
        "colors = []\n",
        "m=[]\n",
        "for i in range(len(data)):\n",
        "    if data['fuel type'][i]=='95+':\n",
        "        colors.append('r')\n",
        "    else:\n",
        "        colors.append('b')\n",
        "\n",
        "for j in range(len(data)):\n",
        "    if data['trafic'][j] =='low':\n",
        "        ax.scatter(data['speed'][j], data['avg.cons.'][j], data['temp'][j],\n",
        "           c = colors[j], marker = 'o')\n",
        "    elif data['trafic'][j] =='normal':\n",
        "        ax.scatter(data['speed'][j], data['avg.cons.'][j], data['temp'][j],\n",
        "           c = colors[j], marker = 'x')\n",
        "    else:\n",
        "        ax.scatter(data['speed'][j], data['avg.cons.'][j], data['temp'][j],\n",
        "           c = colors[j], marker = '^')\n",
        "plt.show()"
      ],
      "execution_count": 137,
      "outputs": [
        {
          "output_type": "display_data",
          "data": {
            "text/plain": [
              "<Figure size 640x480 with 1 Axes>"
            ],
            "image/png": "[encoded data removed]"
          },
          "metadata": {}
        }
      ]
    },
    {
      "cell_type": "markdown",
      "metadata": {
        "id": "i8oKoRxqZtoM"
      },
      "source": [
        "**Összefoglalás**\n",
        "\n",
        "Tipikus előfeldolgozási (adattiszttítási) lépések:\n",
        "- Hiányzó értékek kezelése\n",
        "- Duplikátumok eliminálása\n",
        "- Inkonzisztens (hibás) értékek javítása\n",
        "- Adatok kiválasztása: a későbbi elemzés szempontjából lényeges sorok=példányok=rekordok kiválasztása, valamint oszlopok=attribútumok=leírók=feature-k kiválasztása, új attribútumok létrehozása (pl. 'temp'), dimenzionalitás csökkentése (pl. PCA-val, nem volt róla szó).  \n",
        "- Normalizálás (nem volt róla szó)\n",
        "- Szélsőséges értékek keresése\n",
        "\n",
        "Az előfeldolgozás közben (vagy akár előtte ill. utána is) hasznos az adatainkat ábrázolni, különféle leíró statisztikákat számolni, hogy minél jobban megértsük az adatokat.\n",
        "\n",
        "Az előfeldolgozási lépések projektről-projektre változhatnak, mindig azt használjuk, ami az adott esetben ésszerű! Nem volt szó domain-specifikus előfeldolgozáról (pl. képek esetén azonos felbontásra alakításról)."
      ]
    },
    {
      "cell_type": "code",
      "metadata": {
        "id": "xLqYoZO-XDBq"
      },
      "source": [],
      "execution_count": null,
      "outputs": []
    }
  ]
}